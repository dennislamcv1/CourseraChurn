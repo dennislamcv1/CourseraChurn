{
 "cells": [
  {
   "cell_type": "markdown",
   "metadata": {},
   "source": [
    "# PyCaret Churn\n",
    "\n",
    "PyCaret is an open-source, low-code machine learning library in Python that automates machine learning workflows. It is an end-to-end machine learning and model management tool that exponentially speeds up the experiment cycle and makes you more productive.\n",
    "\n",
    "Compared with the other open-source machine learning libraries, PyCaret is an alternate low-code library that can be used to replace hundreds of lines of code with a few lines only. This makes experiments exponentially fast and efficient. PyCaret is essentially a Python wrapper around several machine learning libraries and frameworks, such as scikit-learn, XGBoost, LightGBM, CatBoost, spaCy, Optuna, Hyperopt, Ray, and a few more.\n",
    "\n",
    "The design and simplicity of PyCaret are inspired by the emerging role of citizen data scientists, a term first used by Gartner. Citizen Data Scientists are power users who can perform both simple and moderately sophisticated analytical tasks that would previously have required more technical expertise.\n"
   ]
  },
  {
   "cell_type": "markdown",
   "metadata": {},
   "source": [
    "**=================================================================================================================**"
   ]
  },
  {
   "cell_type": "markdown",
   "metadata": {},
   "source": [
    "## Import Libraries"
   ]
  },
  {
   "cell_type": "code",
   "execution_count": 1,
   "metadata": {},
   "outputs": [
    {
     "data": {
      "application/javascript": [
       "IPython.notebook.set_autosave_interval(60000)"
      ]
     },
     "metadata": {},
     "output_type": "display_data"
    },
    {
     "name": "stdout",
     "output_type": "stream",
     "text": [
      "Autosaving every 60 seconds\n"
     ]
    }
   ],
   "source": [
    "import numpy as np\n",
    "from numpy import count_nonzero, median, mean\n",
    "import pandas as pd\n",
    "import matplotlib.pyplot as plt\n",
    "import seaborn as sns\n",
    "import random\n",
    "\n",
    "# Plotly\n",
    "# import plotly.express as px\n",
    "# import plotly.offline as py\n",
    "# import plotly.graph_objs as go\n",
    "\n",
    "# import statsmodels.api as sm\n",
    "# import statsmodels.formula.api as smf\n",
    "# from statsmodels.formula.api import ols\n",
    "\n",
    "# import researchpy as rp\n",
    "\n",
    "# import shap\n",
    "# import eli5\n",
    "# from IPython.display import display\n",
    "\n",
    "\n",
    "import datetime\n",
    "from datetime import datetime, timedelta, date\n",
    "\n",
    "#import os\n",
    "#import zipfile\n",
    "\n",
    "# import scipy.stats\n",
    "# from scipy.stats import zscore\n",
    "# from collections import Counter\n",
    "\n",
    "\n",
    "# import xgboost as xgb\n",
    "# from xgboost import XGBClassifier, XGBRegressor\n",
    "# from xgboost import to_graphviz, plot_importance, plot_tree\n",
    "\n",
    "# import sklearn\n",
    "# from sklearn.preprocessing import StandardScaler, MinMaxScaler, LabelEncoder, OneHotEncoder, PolynomialFeatures\n",
    "\n",
    "# from sklearn.model_selection import KFold, StratifiedKFold\n",
    "# from sklearn.model_selection import train_test_split, cross_validate\n",
    "\n",
    "# from sklearn.feature_selection import f_regression, f_classif, chi2, RFE, RFECV\n",
    "# from sklearn.feature_selection import mutual_info_regression, mutual_info_classif\n",
    "# from sklearn.feature_selection import VarianceThreshold, GenericUnivariateSelect\n",
    "# from sklearn.feature_selection import SelectFromModel, SelectKBest, SelectPercentile\n",
    "\n",
    "#from sklearn.linear_model import LogisticRegression, LogisticRegressionCV\n",
    "\n",
    "# from sklearn.inspection import permutation_importance\n",
    "\n",
    "# from sklearn.tree import export_graphviz, plot_tree\n",
    "# from sklearn.metrics import confusion_matrix, classification_report, mean_absolute_error, mean_squared_error,r2_score\n",
    "# from sklearn.metrics import ConfusionMatrixDisplay, PrecisionRecallDisplay, RocCurveDisplay\n",
    "# from sklearn.metrics import auc, f1_score, precision_score, recall_score, roc_auc_score, accuracy_score, jaccard_score\n",
    "# from sklearn.metrics import log_loss\n",
    "\n",
    "\n",
    "#from sklearn.linear_model import ElasticNet, Lasso, LinearRegression, LogisticRegression, Ridge, LogisticRegressionCV\n",
    "# from sklearn.tree import (DecisionTreeClassifier, DecisionTreeRegressor, ExtraTreeClassifier,\n",
    "# ExtraTreeRegressor, plot_tree)\n",
    "#from sklearn.neighbors import KNeighborsClassifier, KNeighborsRegressor\n",
    "#from sklearn.svm import SVC, SVR, LinearSVC, LinearSVR\n",
    "#from sklearn.naive_bayes import GaussianNB, MultinomialNB, BernoulliNB, CategoricalNB\n",
    "#from sklearn.ensemble import RandomForestClassifier, RandomForestRegressor, ExtraTreesClassifier, ExtraTreesRegressor\n",
    "#from sklearn.ensemble import GradientBoostingClassifier, GradientBoostingRegressor, HistGradientBoostingClassifier, HistGradientBoostingRegressor\n",
    "\n",
    "#from sklearn.dummy import DummyClassifier\n",
    "\n",
    "%matplotlib inline\n",
    "#sets the default autosave frequency in seconds\n",
    "%autosave 60 \n",
    "sns.set_style('dark')\n",
    "sns.set(font_scale=1.2)\n",
    "\n",
    "plt.rc('axes', labelsize=14)\n",
    "plt.rc('xtick', labelsize=12)\n",
    "plt.rc('ytick', labelsize=12)\n",
    "\n",
    "#import imblearn\n",
    "#from imblearn.under_sampling import RandomUnderSampler\n",
    "#from imblearn.over_sampling import RandomOverSampler\n",
    "#from imblearn.over_sampling import SMOTE\n",
    "\n",
    "import warnings\n",
    "warnings.filterwarnings('ignore')\n",
    "\n",
    "# import pickle\n",
    "# from pickle import dump, load\n",
    "\n",
    "# Use Feature-Engine library\n",
    "\n",
    "#import feature_engine\n",
    "\n",
    "\n",
    "# PyCaret\n",
    "from pycaret.classification import *\n",
    "#from pycaret.clustering import *\n",
    "#from pycaret.regression import *\n",
    "\n",
    "pd.set_option('display.max_columns',None)\n",
    "#pd.set_option('display.max_rows',100)\n",
    "pd.set_option('display.width', 1000)\n",
    "pd.set_option('display.float_format','{:.2f}'.format)\n",
    "\n",
    "# Ensure results are reproducible\n",
    "random.seed(0)\n",
    "np.random.seed(0)\n",
    "np.set_printoptions(suppress=True)"
   ]
  },
  {
   "cell_type": "code",
   "execution_count": null,
   "metadata": {},
   "outputs": [],
   "source": [
    "# check installed version\n",
    "import pycaret\n",
    "pycaret.__version__"
   ]
  },
  {
   "cell_type": "markdown",
   "metadata": {},
   "source": [
    "**=================================================================================================================**"
   ]
  },
  {
   "cell_type": "markdown",
   "metadata": {},
   "source": [
    "## Data Quick Glance"
   ]
  },
  {
   "cell_type": "code",
   "execution_count": 2,
   "metadata": {},
   "outputs": [],
   "source": [
    "df = pd.read_csv(\"train.csv\")"
   ]
  },
  {
   "cell_type": "code",
   "execution_count": 3,
   "metadata": {},
   "outputs": [
    {
     "data": {
      "text/html": [
       "<div>\n",
       "<style scoped>\n",
       "    .dataframe tbody tr th:only-of-type {\n",
       "        vertical-align: middle;\n",
       "    }\n",
       "\n",
       "    .dataframe tbody tr th {\n",
       "        vertical-align: top;\n",
       "    }\n",
       "\n",
       "    .dataframe thead th {\n",
       "        text-align: right;\n",
       "    }\n",
       "</style>\n",
       "<table border=\"1\" class=\"dataframe\">\n",
       "  <thead>\n",
       "    <tr style=\"text-align: right;\">\n",
       "      <th></th>\n",
       "      <th>accountage</th>\n",
       "      <th>monthlycharges</th>\n",
       "      <th>totalcharges</th>\n",
       "      <th>subscriptiontype</th>\n",
       "      <th>paymentmethod</th>\n",
       "      <th>paperlessbilling</th>\n",
       "      <th>contenttype</th>\n",
       "      <th>multideviceaccess</th>\n",
       "      <th>deviceregistered</th>\n",
       "      <th>viewinghoursperweek</th>\n",
       "      <th>averageviewingduration</th>\n",
       "      <th>contentdownloadspermonth</th>\n",
       "      <th>genrepreference</th>\n",
       "      <th>userrating</th>\n",
       "      <th>supportticketspermonth</th>\n",
       "      <th>gender</th>\n",
       "      <th>watchlistsize</th>\n",
       "      <th>parentalcontrol</th>\n",
       "      <th>subtitlesenabled</th>\n",
       "      <th>churn</th>\n",
       "    </tr>\n",
       "  </thead>\n",
       "  <tbody>\n",
       "    <tr>\n",
       "      <th>0</th>\n",
       "      <td>20</td>\n",
       "      <td>11.06</td>\n",
       "      <td>221.10</td>\n",
       "      <td>Premium</td>\n",
       "      <td>Mailed check</td>\n",
       "      <td>No</td>\n",
       "      <td>Both</td>\n",
       "      <td>No</td>\n",
       "      <td>Mobile</td>\n",
       "      <td>36.76</td>\n",
       "      <td>63.53</td>\n",
       "      <td>10</td>\n",
       "      <td>Sci-Fi</td>\n",
       "      <td>2.18</td>\n",
       "      <td>4</td>\n",
       "      <td>Male</td>\n",
       "      <td>3</td>\n",
       "      <td>No</td>\n",
       "      <td>No</td>\n",
       "      <td>0</td>\n",
       "    </tr>\n",
       "    <tr>\n",
       "      <th>1</th>\n",
       "      <td>57</td>\n",
       "      <td>5.18</td>\n",
       "      <td>294.99</td>\n",
       "      <td>Basic</td>\n",
       "      <td>Credit card</td>\n",
       "      <td>Yes</td>\n",
       "      <td>Movies</td>\n",
       "      <td>No</td>\n",
       "      <td>Tablet</td>\n",
       "      <td>32.45</td>\n",
       "      <td>25.73</td>\n",
       "      <td>18</td>\n",
       "      <td>Action</td>\n",
       "      <td>3.48</td>\n",
       "      <td>8</td>\n",
       "      <td>Male</td>\n",
       "      <td>23</td>\n",
       "      <td>No</td>\n",
       "      <td>Yes</td>\n",
       "      <td>0</td>\n",
       "    </tr>\n",
       "    <tr>\n",
       "      <th>2</th>\n",
       "      <td>73</td>\n",
       "      <td>12.11</td>\n",
       "      <td>883.79</td>\n",
       "      <td>Basic</td>\n",
       "      <td>Mailed check</td>\n",
       "      <td>Yes</td>\n",
       "      <td>Movies</td>\n",
       "      <td>No</td>\n",
       "      <td>Computer</td>\n",
       "      <td>7.40</td>\n",
       "      <td>57.36</td>\n",
       "      <td>23</td>\n",
       "      <td>Fantasy</td>\n",
       "      <td>4.24</td>\n",
       "      <td>6</td>\n",
       "      <td>Male</td>\n",
       "      <td>1</td>\n",
       "      <td>Yes</td>\n",
       "      <td>Yes</td>\n",
       "      <td>0</td>\n",
       "    </tr>\n",
       "    <tr>\n",
       "      <th>3</th>\n",
       "      <td>32</td>\n",
       "      <td>7.26</td>\n",
       "      <td>232.44</td>\n",
       "      <td>Basic</td>\n",
       "      <td>Electronic check</td>\n",
       "      <td>No</td>\n",
       "      <td>TV Shows</td>\n",
       "      <td>No</td>\n",
       "      <td>Tablet</td>\n",
       "      <td>27.96</td>\n",
       "      <td>131.54</td>\n",
       "      <td>30</td>\n",
       "      <td>Drama</td>\n",
       "      <td>4.28</td>\n",
       "      <td>2</td>\n",
       "      <td>Male</td>\n",
       "      <td>24</td>\n",
       "      <td>Yes</td>\n",
       "      <td>Yes</td>\n",
       "      <td>0</td>\n",
       "    </tr>\n",
       "    <tr>\n",
       "      <th>4</th>\n",
       "      <td>57</td>\n",
       "      <td>16.95</td>\n",
       "      <td>966.33</td>\n",
       "      <td>Premium</td>\n",
       "      <td>Electronic check</td>\n",
       "      <td>Yes</td>\n",
       "      <td>TV Shows</td>\n",
       "      <td>No</td>\n",
       "      <td>TV</td>\n",
       "      <td>20.08</td>\n",
       "      <td>45.36</td>\n",
       "      <td>20</td>\n",
       "      <td>Comedy</td>\n",
       "      <td>3.62</td>\n",
       "      <td>4</td>\n",
       "      <td>Female</td>\n",
       "      <td>0</td>\n",
       "      <td>No</td>\n",
       "      <td>No</td>\n",
       "      <td>0</td>\n",
       "    </tr>\n",
       "    <tr>\n",
       "      <th>...</th>\n",
       "      <td>...</td>\n",
       "      <td>...</td>\n",
       "      <td>...</td>\n",
       "      <td>...</td>\n",
       "      <td>...</td>\n",
       "      <td>...</td>\n",
       "      <td>...</td>\n",
       "      <td>...</td>\n",
       "      <td>...</td>\n",
       "      <td>...</td>\n",
       "      <td>...</td>\n",
       "      <td>...</td>\n",
       "      <td>...</td>\n",
       "      <td>...</td>\n",
       "      <td>...</td>\n",
       "      <td>...</td>\n",
       "      <td>...</td>\n",
       "      <td>...</td>\n",
       "      <td>...</td>\n",
       "      <td>...</td>\n",
       "    </tr>\n",
       "    <tr>\n",
       "      <th>243782</th>\n",
       "      <td>77</td>\n",
       "      <td>9.64</td>\n",
       "      <td>742.27</td>\n",
       "      <td>Basic</td>\n",
       "      <td>Mailed check</td>\n",
       "      <td>No</td>\n",
       "      <td>Movies</td>\n",
       "      <td>No</td>\n",
       "      <td>Computer</td>\n",
       "      <td>13.50</td>\n",
       "      <td>80.37</td>\n",
       "      <td>47</td>\n",
       "      <td>Sci-Fi</td>\n",
       "      <td>3.70</td>\n",
       "      <td>1</td>\n",
       "      <td>Male</td>\n",
       "      <td>8</td>\n",
       "      <td>Yes</td>\n",
       "      <td>No</td>\n",
       "      <td>0</td>\n",
       "    </tr>\n",
       "    <tr>\n",
       "      <th>243783</th>\n",
       "      <td>117</td>\n",
       "      <td>13.05</td>\n",
       "      <td>1526.76</td>\n",
       "      <td>Premium</td>\n",
       "      <td>Credit card</td>\n",
       "      <td>No</td>\n",
       "      <td>TV Shows</td>\n",
       "      <td>Yes</td>\n",
       "      <td>TV</td>\n",
       "      <td>24.96</td>\n",
       "      <td>59.82</td>\n",
       "      <td>35</td>\n",
       "      <td>Comedy</td>\n",
       "      <td>1.45</td>\n",
       "      <td>4</td>\n",
       "      <td>Male</td>\n",
       "      <td>20</td>\n",
       "      <td>No</td>\n",
       "      <td>No</td>\n",
       "      <td>0</td>\n",
       "    </tr>\n",
       "    <tr>\n",
       "      <th>243784</th>\n",
       "      <td>113</td>\n",
       "      <td>14.51</td>\n",
       "      <td>1640.15</td>\n",
       "      <td>Premium</td>\n",
       "      <td>Credit card</td>\n",
       "      <td>Yes</td>\n",
       "      <td>TV Shows</td>\n",
       "      <td>No</td>\n",
       "      <td>TV</td>\n",
       "      <td>10.63</td>\n",
       "      <td>176.19</td>\n",
       "      <td>44</td>\n",
       "      <td>Action</td>\n",
       "      <td>4.01</td>\n",
       "      <td>6</td>\n",
       "      <td>Male</td>\n",
       "      <td>13</td>\n",
       "      <td>Yes</td>\n",
       "      <td>Yes</td>\n",
       "      <td>0</td>\n",
       "    </tr>\n",
       "    <tr>\n",
       "      <th>243785</th>\n",
       "      <td>7</td>\n",
       "      <td>18.14</td>\n",
       "      <td>126.98</td>\n",
       "      <td>Premium</td>\n",
       "      <td>Bank transfer</td>\n",
       "      <td>Yes</td>\n",
       "      <td>TV Shows</td>\n",
       "      <td>No</td>\n",
       "      <td>TV</td>\n",
       "      <td>30.47</td>\n",
       "      <td>153.39</td>\n",
       "      <td>36</td>\n",
       "      <td>Fantasy</td>\n",
       "      <td>2.14</td>\n",
       "      <td>7</td>\n",
       "      <td>Female</td>\n",
       "      <td>5</td>\n",
       "      <td>No</td>\n",
       "      <td>Yes</td>\n",
       "      <td>0</td>\n",
       "    </tr>\n",
       "    <tr>\n",
       "      <th>243786</th>\n",
       "      <td>90</td>\n",
       "      <td>11.59</td>\n",
       "      <td>1043.44</td>\n",
       "      <td>Premium</td>\n",
       "      <td>Mailed check</td>\n",
       "      <td>No</td>\n",
       "      <td>Both</td>\n",
       "      <td>No</td>\n",
       "      <td>TV</td>\n",
       "      <td>24.97</td>\n",
       "      <td>84.82</td>\n",
       "      <td>11</td>\n",
       "      <td>Action</td>\n",
       "      <td>1.43</td>\n",
       "      <td>3</td>\n",
       "      <td>Female</td>\n",
       "      <td>1</td>\n",
       "      <td>Yes</td>\n",
       "      <td>No</td>\n",
       "      <td>0</td>\n",
       "    </tr>\n",
       "  </tbody>\n",
       "</table>\n",
       "<p>243787 rows × 20 columns</p>\n",
       "</div>"
      ],
      "text/plain": [
       "        accountage  monthlycharges  totalcharges subscriptiontype     paymentmethod paperlessbilling contenttype multideviceaccess deviceregistered  viewinghoursperweek  averageviewingduration  contentdownloadspermonth genrepreference  userrating  supportticketspermonth  gender  watchlistsize parentalcontrol subtitlesenabled  churn\n",
       "0               20           11.06        221.10          Premium      Mailed check               No        Both                No           Mobile                36.76                   63.53                        10          Sci-Fi        2.18                       4    Male              3              No               No      0\n",
       "1               57            5.18        294.99            Basic       Credit card              Yes      Movies                No           Tablet                32.45                   25.73                        18          Action        3.48                       8    Male             23              No              Yes      0\n",
       "2               73           12.11        883.79            Basic      Mailed check              Yes      Movies                No         Computer                 7.40                   57.36                        23         Fantasy        4.24                       6    Male              1             Yes              Yes      0\n",
       "3               32            7.26        232.44            Basic  Electronic check               No    TV Shows                No           Tablet                27.96                  131.54                        30           Drama        4.28                       2    Male             24             Yes              Yes      0\n",
       "4               57           16.95        966.33          Premium  Electronic check              Yes    TV Shows                No               TV                20.08                   45.36                        20          Comedy        3.62                       4  Female              0              No               No      0\n",
       "...            ...             ...           ...              ...               ...              ...         ...               ...              ...                  ...                     ...                       ...             ...         ...                     ...     ...            ...             ...              ...    ...\n",
       "243782          77            9.64        742.27            Basic      Mailed check               No      Movies                No         Computer                13.50                   80.37                        47          Sci-Fi        3.70                       1    Male              8             Yes               No      0\n",
       "243783         117           13.05       1526.76          Premium       Credit card               No    TV Shows               Yes               TV                24.96                   59.82                        35          Comedy        1.45                       4    Male             20              No               No      0\n",
       "243784         113           14.51       1640.15          Premium       Credit card              Yes    TV Shows                No               TV                10.63                  176.19                        44          Action        4.01                       6    Male             13             Yes              Yes      0\n",
       "243785           7           18.14        126.98          Premium     Bank transfer              Yes    TV Shows                No               TV                30.47                  153.39                        36         Fantasy        2.14                       7  Female              5              No              Yes      0\n",
       "243786          90           11.59       1043.44          Premium      Mailed check               No        Both                No               TV                24.97                   84.82                        11          Action        1.43                       3  Female              1             Yes               No      0\n",
       "\n",
       "[243787 rows x 20 columns]"
      ]
     },
     "execution_count": 3,
     "metadata": {},
     "output_type": "execute_result"
    }
   ],
   "source": [
    "df"
   ]
  },
  {
   "cell_type": "code",
   "execution_count": 4,
   "metadata": {},
   "outputs": [
    {
     "name": "stdout",
     "output_type": "stream",
     "text": [
      "<class 'pandas.core.frame.DataFrame'>\n",
      "RangeIndex: 243787 entries, 0 to 243786\n",
      "Data columns (total 20 columns):\n",
      " #   Column                    Non-Null Count   Dtype  \n",
      "---  ------                    --------------   -----  \n",
      " 0   accountage                243787 non-null  int64  \n",
      " 1   monthlycharges            243787 non-null  float64\n",
      " 2   totalcharges              243787 non-null  float64\n",
      " 3   subscriptiontype          243787 non-null  object \n",
      " 4   paymentmethod             243787 non-null  object \n",
      " 5   paperlessbilling          243787 non-null  object \n",
      " 6   contenttype               243787 non-null  object \n",
      " 7   multideviceaccess         243787 non-null  object \n",
      " 8   deviceregistered          243787 non-null  object \n",
      " 9   viewinghoursperweek       243787 non-null  float64\n",
      " 10  averageviewingduration    243787 non-null  float64\n",
      " 11  contentdownloadspermonth  243787 non-null  int64  \n",
      " 12  genrepreference           243787 non-null  object \n",
      " 13  userrating                243787 non-null  float64\n",
      " 14  supportticketspermonth    243787 non-null  int64  \n",
      " 15  gender                    243787 non-null  object \n",
      " 16  watchlistsize             243787 non-null  int64  \n",
      " 17  parentalcontrol           243787 non-null  object \n",
      " 18  subtitlesenabled          243787 non-null  object \n",
      " 19  churn                     243787 non-null  int64  \n",
      "dtypes: float64(5), int64(5), object(10)\n",
      "memory usage: 37.2+ MB\n"
     ]
    }
   ],
   "source": [
    "df.info()"
   ]
  },
  {
   "cell_type": "code",
   "execution_count": null,
   "metadata": {},
   "outputs": [],
   "source": [
    "df.dtypes.value_counts()"
   ]
  },
  {
   "cell_type": "code",
   "execution_count": null,
   "metadata": {},
   "outputs": [],
   "source": [
    "# Descriptive Statistical Analysis\n",
    "df.describe(include=\"all\")"
   ]
  },
  {
   "cell_type": "code",
   "execution_count": null,
   "metadata": {},
   "outputs": [],
   "source": [
    "# Descriptive Statistical Analysis\n",
    "df.describe(include=[\"int\", \"float\"])"
   ]
  },
  {
   "cell_type": "code",
   "execution_count": null,
   "metadata": {},
   "outputs": [],
   "source": [
    "# Descriptive Statistical Analysis\n",
    "df.describe(include=\"object\")"
   ]
  },
  {
   "cell_type": "code",
   "execution_count": null,
   "metadata": {},
   "outputs": [],
   "source": [
    "df.shape"
   ]
  },
  {
   "cell_type": "code",
   "execution_count": null,
   "metadata": {},
   "outputs": [],
   "source": [
    "df.columns"
   ]
  },
  {
   "cell_type": "code",
   "execution_count": null,
   "metadata": {},
   "outputs": [],
   "source": [
    "# Check class balance\n",
    "df['left'].value_counts().to_frame()"
   ]
  },
  {
   "cell_type": "markdown",
   "metadata": {},
   "source": [
    "**=================================================================================================================**"
   ]
  },
  {
   "cell_type": "markdown",
   "metadata": {},
   "source": [
    "## Data Visualization"
   ]
  },
  {
   "cell_type": "code",
   "execution_count": null,
   "metadata": {
    "scrolled": false
   },
   "outputs": [],
   "source": [
    "df.hist(bins=50, figsize=(20,45), grid=False, layout=(len(df.columns),2), edgecolor = 'black')\n",
    "plt.suptitle('Histogram Feature Distribution', x=0.5, y=1.02, ha='center', fontsize=20)\n",
    "plt.tight_layout()\n",
    "plt.show()"
   ]
  },
  {
   "cell_type": "code",
   "execution_count": null,
   "metadata": {},
   "outputs": [],
   "source": [
    "df.boxplot(figsize=(20,10), color=\"blue\", fontsize = 15)\n",
    "plt.title('BoxPlots Feature Distribution', x=0.5, y=1.02, ha='center', fontsize=20)\n",
    "plt.tight_layout()\n",
    "plt.show()"
   ]
  },
  {
   "cell_type": "markdown",
   "metadata": {},
   "source": [
    "**=================================================================================================================**"
   ]
  },
  {
   "cell_type": "markdown",
   "metadata": {},
   "source": [
    "## Sample a smaller dataset"
   ]
  },
  {
   "cell_type": "code",
   "execution_count": 5,
   "metadata": {},
   "outputs": [],
   "source": [
    "df = df.sample(frac=0.1)"
   ]
  },
  {
   "cell_type": "code",
   "execution_count": 6,
   "metadata": {},
   "outputs": [
    {
     "data": {
      "text/html": [
       "<div>\n",
       "<style scoped>\n",
       "    .dataframe tbody tr th:only-of-type {\n",
       "        vertical-align: middle;\n",
       "    }\n",
       "\n",
       "    .dataframe tbody tr th {\n",
       "        vertical-align: top;\n",
       "    }\n",
       "\n",
       "    .dataframe thead th {\n",
       "        text-align: right;\n",
       "    }\n",
       "</style>\n",
       "<table border=\"1\" class=\"dataframe\">\n",
       "  <thead>\n",
       "    <tr style=\"text-align: right;\">\n",
       "      <th></th>\n",
       "      <th>accountage</th>\n",
       "      <th>monthlycharges</th>\n",
       "      <th>totalcharges</th>\n",
       "      <th>subscriptiontype</th>\n",
       "      <th>paymentmethod</th>\n",
       "      <th>paperlessbilling</th>\n",
       "      <th>contenttype</th>\n",
       "      <th>multideviceaccess</th>\n",
       "      <th>deviceregistered</th>\n",
       "      <th>viewinghoursperweek</th>\n",
       "      <th>averageviewingduration</th>\n",
       "      <th>contentdownloadspermonth</th>\n",
       "      <th>genrepreference</th>\n",
       "      <th>userrating</th>\n",
       "      <th>supportticketspermonth</th>\n",
       "      <th>gender</th>\n",
       "      <th>watchlistsize</th>\n",
       "      <th>parentalcontrol</th>\n",
       "      <th>subtitlesenabled</th>\n",
       "      <th>churn</th>\n",
       "    </tr>\n",
       "  </thead>\n",
       "  <tbody>\n",
       "    <tr>\n",
       "      <th>86721</th>\n",
       "      <td>13</td>\n",
       "      <td>19.71</td>\n",
       "      <td>256.26</td>\n",
       "      <td>Basic</td>\n",
       "      <td>Credit card</td>\n",
       "      <td>No</td>\n",
       "      <td>Both</td>\n",
       "      <td>No</td>\n",
       "      <td>Tablet</td>\n",
       "      <td>6.48</td>\n",
       "      <td>50.03</td>\n",
       "      <td>33</td>\n",
       "      <td>Action</td>\n",
       "      <td>1.18</td>\n",
       "      <td>6</td>\n",
       "      <td>Male</td>\n",
       "      <td>7</td>\n",
       "      <td>Yes</td>\n",
       "      <td>No</td>\n",
       "      <td>0</td>\n",
       "    </tr>\n",
       "    <tr>\n",
       "      <th>160337</th>\n",
       "      <td>57</td>\n",
       "      <td>9.25</td>\n",
       "      <td>527.13</td>\n",
       "      <td>Premium</td>\n",
       "      <td>Bank transfer</td>\n",
       "      <td>No</td>\n",
       "      <td>Both</td>\n",
       "      <td>No</td>\n",
       "      <td>Mobile</td>\n",
       "      <td>17.04</td>\n",
       "      <td>44.53</td>\n",
       "      <td>14</td>\n",
       "      <td>Action</td>\n",
       "      <td>4.57</td>\n",
       "      <td>8</td>\n",
       "      <td>Male</td>\n",
       "      <td>7</td>\n",
       "      <td>Yes</td>\n",
       "      <td>Yes</td>\n",
       "      <td>0</td>\n",
       "    </tr>\n",
       "    <tr>\n",
       "      <th>202410</th>\n",
       "      <td>99</td>\n",
       "      <td>9.36</td>\n",
       "      <td>926.48</td>\n",
       "      <td>Basic</td>\n",
       "      <td>Bank transfer</td>\n",
       "      <td>No</td>\n",
       "      <td>Both</td>\n",
       "      <td>Yes</td>\n",
       "      <td>Computer</td>\n",
       "      <td>14.30</td>\n",
       "      <td>43.81</td>\n",
       "      <td>31</td>\n",
       "      <td>Fantasy</td>\n",
       "      <td>1.95</td>\n",
       "      <td>0</td>\n",
       "      <td>Male</td>\n",
       "      <td>17</td>\n",
       "      <td>No</td>\n",
       "      <td>No</td>\n",
       "      <td>0</td>\n",
       "    </tr>\n",
       "    <tr>\n",
       "      <th>102943</th>\n",
       "      <td>28</td>\n",
       "      <td>13.17</td>\n",
       "      <td>368.90</td>\n",
       "      <td>Basic</td>\n",
       "      <td>Mailed check</td>\n",
       "      <td>Yes</td>\n",
       "      <td>Movies</td>\n",
       "      <td>No</td>\n",
       "      <td>Mobile</td>\n",
       "      <td>6.88</td>\n",
       "      <td>57.23</td>\n",
       "      <td>49</td>\n",
       "      <td>Drama</td>\n",
       "      <td>1.41</td>\n",
       "      <td>2</td>\n",
       "      <td>Female</td>\n",
       "      <td>7</td>\n",
       "      <td>Yes</td>\n",
       "      <td>Yes</td>\n",
       "      <td>0</td>\n",
       "    </tr>\n",
       "    <tr>\n",
       "      <th>165297</th>\n",
       "      <td>7</td>\n",
       "      <td>18.95</td>\n",
       "      <td>132.63</td>\n",
       "      <td>Standard</td>\n",
       "      <td>Bank transfer</td>\n",
       "      <td>Yes</td>\n",
       "      <td>Both</td>\n",
       "      <td>Yes</td>\n",
       "      <td>Tablet</td>\n",
       "      <td>27.01</td>\n",
       "      <td>95.18</td>\n",
       "      <td>44</td>\n",
       "      <td>Fantasy</td>\n",
       "      <td>3.99</td>\n",
       "      <td>7</td>\n",
       "      <td>Female</td>\n",
       "      <td>11</td>\n",
       "      <td>Yes</td>\n",
       "      <td>No</td>\n",
       "      <td>0</td>\n",
       "    </tr>\n",
       "    <tr>\n",
       "      <th>...</th>\n",
       "      <td>...</td>\n",
       "      <td>...</td>\n",
       "      <td>...</td>\n",
       "      <td>...</td>\n",
       "      <td>...</td>\n",
       "      <td>...</td>\n",
       "      <td>...</td>\n",
       "      <td>...</td>\n",
       "      <td>...</td>\n",
       "      <td>...</td>\n",
       "      <td>...</td>\n",
       "      <td>...</td>\n",
       "      <td>...</td>\n",
       "      <td>...</td>\n",
       "      <td>...</td>\n",
       "      <td>...</td>\n",
       "      <td>...</td>\n",
       "      <td>...</td>\n",
       "      <td>...</td>\n",
       "      <td>...</td>\n",
       "    </tr>\n",
       "    <tr>\n",
       "      <th>202455</th>\n",
       "      <td>109</td>\n",
       "      <td>19.31</td>\n",
       "      <td>2105.27</td>\n",
       "      <td>Basic</td>\n",
       "      <td>Electronic check</td>\n",
       "      <td>Yes</td>\n",
       "      <td>TV Shows</td>\n",
       "      <td>Yes</td>\n",
       "      <td>Computer</td>\n",
       "      <td>8.90</td>\n",
       "      <td>51.56</td>\n",
       "      <td>12</td>\n",
       "      <td>Comedy</td>\n",
       "      <td>1.39</td>\n",
       "      <td>6</td>\n",
       "      <td>Female</td>\n",
       "      <td>20</td>\n",
       "      <td>Yes</td>\n",
       "      <td>No</td>\n",
       "      <td>0</td>\n",
       "    </tr>\n",
       "    <tr>\n",
       "      <th>40636</th>\n",
       "      <td>23</td>\n",
       "      <td>8.70</td>\n",
       "      <td>200.13</td>\n",
       "      <td>Standard</td>\n",
       "      <td>Electronic check</td>\n",
       "      <td>Yes</td>\n",
       "      <td>Both</td>\n",
       "      <td>Yes</td>\n",
       "      <td>TV</td>\n",
       "      <td>8.58</td>\n",
       "      <td>26.49</td>\n",
       "      <td>3</td>\n",
       "      <td>Comedy</td>\n",
       "      <td>1.44</td>\n",
       "      <td>7</td>\n",
       "      <td>Female</td>\n",
       "      <td>9</td>\n",
       "      <td>Yes</td>\n",
       "      <td>Yes</td>\n",
       "      <td>0</td>\n",
       "    </tr>\n",
       "    <tr>\n",
       "      <th>41783</th>\n",
       "      <td>90</td>\n",
       "      <td>19.66</td>\n",
       "      <td>1769.08</td>\n",
       "      <td>Basic</td>\n",
       "      <td>Bank transfer</td>\n",
       "      <td>Yes</td>\n",
       "      <td>Movies</td>\n",
       "      <td>Yes</td>\n",
       "      <td>Computer</td>\n",
       "      <td>2.19</td>\n",
       "      <td>100.69</td>\n",
       "      <td>23</td>\n",
       "      <td>Drama</td>\n",
       "      <td>2.86</td>\n",
       "      <td>7</td>\n",
       "      <td>Male</td>\n",
       "      <td>20</td>\n",
       "      <td>Yes</td>\n",
       "      <td>Yes</td>\n",
       "      <td>0</td>\n",
       "    </tr>\n",
       "    <tr>\n",
       "      <th>176345</th>\n",
       "      <td>100</td>\n",
       "      <td>11.94</td>\n",
       "      <td>1194.10</td>\n",
       "      <td>Standard</td>\n",
       "      <td>Mailed check</td>\n",
       "      <td>No</td>\n",
       "      <td>Both</td>\n",
       "      <td>No</td>\n",
       "      <td>TV</td>\n",
       "      <td>28.80</td>\n",
       "      <td>94.19</td>\n",
       "      <td>10</td>\n",
       "      <td>Sci-Fi</td>\n",
       "      <td>4.89</td>\n",
       "      <td>9</td>\n",
       "      <td>Male</td>\n",
       "      <td>9</td>\n",
       "      <td>Yes</td>\n",
       "      <td>No</td>\n",
       "      <td>0</td>\n",
       "    </tr>\n",
       "    <tr>\n",
       "      <th>136749</th>\n",
       "      <td>82</td>\n",
       "      <td>15.88</td>\n",
       "      <td>1301.82</td>\n",
       "      <td>Premium</td>\n",
       "      <td>Mailed check</td>\n",
       "      <td>Yes</td>\n",
       "      <td>Both</td>\n",
       "      <td>No</td>\n",
       "      <td>TV</td>\n",
       "      <td>4.76</td>\n",
       "      <td>44.37</td>\n",
       "      <td>38</td>\n",
       "      <td>Action</td>\n",
       "      <td>3.34</td>\n",
       "      <td>0</td>\n",
       "      <td>Female</td>\n",
       "      <td>24</td>\n",
       "      <td>No</td>\n",
       "      <td>Yes</td>\n",
       "      <td>0</td>\n",
       "    </tr>\n",
       "  </tbody>\n",
       "</table>\n",
       "<p>24379 rows × 20 columns</p>\n",
       "</div>"
      ],
      "text/plain": [
       "        accountage  monthlycharges  totalcharges subscriptiontype     paymentmethod paperlessbilling contenttype multideviceaccess deviceregistered  viewinghoursperweek  averageviewingduration  contentdownloadspermonth genrepreference  userrating  supportticketspermonth  gender  watchlistsize parentalcontrol subtitlesenabled  churn\n",
       "86721           13           19.71        256.26            Basic       Credit card               No        Both                No           Tablet                 6.48                   50.03                        33          Action        1.18                       6    Male              7             Yes               No      0\n",
       "160337          57            9.25        527.13          Premium     Bank transfer               No        Both                No           Mobile                17.04                   44.53                        14          Action        4.57                       8    Male              7             Yes              Yes      0\n",
       "202410          99            9.36        926.48            Basic     Bank transfer               No        Both               Yes         Computer                14.30                   43.81                        31         Fantasy        1.95                       0    Male             17              No               No      0\n",
       "102943          28           13.17        368.90            Basic      Mailed check              Yes      Movies                No           Mobile                 6.88                   57.23                        49           Drama        1.41                       2  Female              7             Yes              Yes      0\n",
       "165297           7           18.95        132.63         Standard     Bank transfer              Yes        Both               Yes           Tablet                27.01                   95.18                        44         Fantasy        3.99                       7  Female             11             Yes               No      0\n",
       "...            ...             ...           ...              ...               ...              ...         ...               ...              ...                  ...                     ...                       ...             ...         ...                     ...     ...            ...             ...              ...    ...\n",
       "202455         109           19.31       2105.27            Basic  Electronic check              Yes    TV Shows               Yes         Computer                 8.90                   51.56                        12          Comedy        1.39                       6  Female             20             Yes               No      0\n",
       "40636           23            8.70        200.13         Standard  Electronic check              Yes        Both               Yes               TV                 8.58                   26.49                         3          Comedy        1.44                       7  Female              9             Yes              Yes      0\n",
       "41783           90           19.66       1769.08            Basic     Bank transfer              Yes      Movies               Yes         Computer                 2.19                  100.69                        23           Drama        2.86                       7    Male             20             Yes              Yes      0\n",
       "176345         100           11.94       1194.10         Standard      Mailed check               No        Both                No               TV                28.80                   94.19                        10          Sci-Fi        4.89                       9    Male              9             Yes               No      0\n",
       "136749          82           15.88       1301.82          Premium      Mailed check              Yes        Both                No               TV                 4.76                   44.37                        38          Action        3.34                       0  Female             24              No              Yes      0\n",
       "\n",
       "[24379 rows x 20 columns]"
      ]
     },
     "execution_count": 6,
     "metadata": {},
     "output_type": "execute_result"
    }
   ],
   "source": [
    "df"
   ]
  },
  {
   "cell_type": "code",
   "execution_count": 7,
   "metadata": {},
   "outputs": [],
   "source": [
    "df.reset_index(drop=True, inplace=True)"
   ]
  },
  {
   "cell_type": "code",
   "execution_count": 8,
   "metadata": {},
   "outputs": [
    {
     "data": {
      "text/plain": [
       "(24379, 20)"
      ]
     },
     "execution_count": 8,
     "metadata": {},
     "output_type": "execute_result"
    }
   ],
   "source": [
    "df.shape"
   ]
  },
  {
   "cell_type": "code",
   "execution_count": 9,
   "metadata": {},
   "outputs": [
    {
     "data": {
      "text/plain": [
       "0    19990\n",
       "1     4389\n",
       "Name: churn, dtype: int64"
      ]
     },
     "execution_count": 9,
     "metadata": {},
     "output_type": "execute_result"
    }
   ],
   "source": [
    "df.churn.value_counts()"
   ]
  },
  {
   "cell_type": "code",
   "execution_count": 10,
   "metadata": {},
   "outputs": [
    {
     "data": {
      "text/html": [
       "<div>\n",
       "<style scoped>\n",
       "    .dataframe tbody tr th:only-of-type {\n",
       "        vertical-align: middle;\n",
       "    }\n",
       "\n",
       "    .dataframe tbody tr th {\n",
       "        vertical-align: top;\n",
       "    }\n",
       "\n",
       "    .dataframe thead th {\n",
       "        text-align: right;\n",
       "    }\n",
       "</style>\n",
       "<table border=\"1\" class=\"dataframe\">\n",
       "  <thead>\n",
       "    <tr style=\"text-align: right;\">\n",
       "      <th></th>\n",
       "      <th>accountage</th>\n",
       "      <th>monthlycharges</th>\n",
       "      <th>totalcharges</th>\n",
       "      <th>subscriptiontype</th>\n",
       "      <th>paymentmethod</th>\n",
       "      <th>paperlessbilling</th>\n",
       "      <th>contenttype</th>\n",
       "      <th>multideviceaccess</th>\n",
       "      <th>deviceregistered</th>\n",
       "      <th>viewinghoursperweek</th>\n",
       "      <th>averageviewingduration</th>\n",
       "      <th>contentdownloadspermonth</th>\n",
       "      <th>genrepreference</th>\n",
       "      <th>userrating</th>\n",
       "      <th>supportticketspermonth</th>\n",
       "      <th>gender</th>\n",
       "      <th>watchlistsize</th>\n",
       "      <th>parentalcontrol</th>\n",
       "      <th>subtitlesenabled</th>\n",
       "      <th>churn</th>\n",
       "    </tr>\n",
       "  </thead>\n",
       "  <tbody>\n",
       "    <tr>\n",
       "      <th>0</th>\n",
       "      <td>13</td>\n",
       "      <td>19.71</td>\n",
       "      <td>256.26</td>\n",
       "      <td>Basic</td>\n",
       "      <td>Credit card</td>\n",
       "      <td>No</td>\n",
       "      <td>Both</td>\n",
       "      <td>No</td>\n",
       "      <td>Tablet</td>\n",
       "      <td>6.48</td>\n",
       "      <td>50.03</td>\n",
       "      <td>33</td>\n",
       "      <td>Action</td>\n",
       "      <td>1.18</td>\n",
       "      <td>6</td>\n",
       "      <td>Male</td>\n",
       "      <td>7</td>\n",
       "      <td>Yes</td>\n",
       "      <td>No</td>\n",
       "      <td>0</td>\n",
       "    </tr>\n",
       "    <tr>\n",
       "      <th>1</th>\n",
       "      <td>57</td>\n",
       "      <td>9.25</td>\n",
       "      <td>527.13</td>\n",
       "      <td>Premium</td>\n",
       "      <td>Bank transfer</td>\n",
       "      <td>No</td>\n",
       "      <td>Both</td>\n",
       "      <td>No</td>\n",
       "      <td>Mobile</td>\n",
       "      <td>17.04</td>\n",
       "      <td>44.53</td>\n",
       "      <td>14</td>\n",
       "      <td>Action</td>\n",
       "      <td>4.57</td>\n",
       "      <td>8</td>\n",
       "      <td>Male</td>\n",
       "      <td>7</td>\n",
       "      <td>Yes</td>\n",
       "      <td>Yes</td>\n",
       "      <td>0</td>\n",
       "    </tr>\n",
       "    <tr>\n",
       "      <th>2</th>\n",
       "      <td>99</td>\n",
       "      <td>9.36</td>\n",
       "      <td>926.48</td>\n",
       "      <td>Basic</td>\n",
       "      <td>Bank transfer</td>\n",
       "      <td>No</td>\n",
       "      <td>Both</td>\n",
       "      <td>Yes</td>\n",
       "      <td>Computer</td>\n",
       "      <td>14.30</td>\n",
       "      <td>43.81</td>\n",
       "      <td>31</td>\n",
       "      <td>Fantasy</td>\n",
       "      <td>1.95</td>\n",
       "      <td>0</td>\n",
       "      <td>Male</td>\n",
       "      <td>17</td>\n",
       "      <td>No</td>\n",
       "      <td>No</td>\n",
       "      <td>0</td>\n",
       "    </tr>\n",
       "    <tr>\n",
       "      <th>3</th>\n",
       "      <td>28</td>\n",
       "      <td>13.17</td>\n",
       "      <td>368.90</td>\n",
       "      <td>Basic</td>\n",
       "      <td>Mailed check</td>\n",
       "      <td>Yes</td>\n",
       "      <td>Movies</td>\n",
       "      <td>No</td>\n",
       "      <td>Mobile</td>\n",
       "      <td>6.88</td>\n",
       "      <td>57.23</td>\n",
       "      <td>49</td>\n",
       "      <td>Drama</td>\n",
       "      <td>1.41</td>\n",
       "      <td>2</td>\n",
       "      <td>Female</td>\n",
       "      <td>7</td>\n",
       "      <td>Yes</td>\n",
       "      <td>Yes</td>\n",
       "      <td>0</td>\n",
       "    </tr>\n",
       "    <tr>\n",
       "      <th>4</th>\n",
       "      <td>7</td>\n",
       "      <td>18.95</td>\n",
       "      <td>132.63</td>\n",
       "      <td>Standard</td>\n",
       "      <td>Bank transfer</td>\n",
       "      <td>Yes</td>\n",
       "      <td>Both</td>\n",
       "      <td>Yes</td>\n",
       "      <td>Tablet</td>\n",
       "      <td>27.01</td>\n",
       "      <td>95.18</td>\n",
       "      <td>44</td>\n",
       "      <td>Fantasy</td>\n",
       "      <td>3.99</td>\n",
       "      <td>7</td>\n",
       "      <td>Female</td>\n",
       "      <td>11</td>\n",
       "      <td>Yes</td>\n",
       "      <td>No</td>\n",
       "      <td>0</td>\n",
       "    </tr>\n",
       "  </tbody>\n",
       "</table>\n",
       "</div>"
      ],
      "text/plain": [
       "   accountage  monthlycharges  totalcharges subscriptiontype  paymentmethod paperlessbilling contenttype multideviceaccess deviceregistered  viewinghoursperweek  averageviewingduration  contentdownloadspermonth genrepreference  userrating  supportticketspermonth  gender  watchlistsize parentalcontrol subtitlesenabled  churn\n",
       "0          13           19.71        256.26            Basic    Credit card               No        Both                No           Tablet                 6.48                   50.03                        33          Action        1.18                       6    Male              7             Yes               No      0\n",
       "1          57            9.25        527.13          Premium  Bank transfer               No        Both                No           Mobile                17.04                   44.53                        14          Action        4.57                       8    Male              7             Yes              Yes      0\n",
       "2          99            9.36        926.48            Basic  Bank transfer               No        Both               Yes         Computer                14.30                   43.81                        31         Fantasy        1.95                       0    Male             17              No               No      0\n",
       "3          28           13.17        368.90            Basic   Mailed check              Yes      Movies                No           Mobile                 6.88                   57.23                        49           Drama        1.41                       2  Female              7             Yes              Yes      0\n",
       "4           7           18.95        132.63         Standard  Bank transfer              Yes        Both               Yes           Tablet                27.01                   95.18                        44         Fantasy        3.99                       7  Female             11             Yes               No      0"
      ]
     },
     "execution_count": 10,
     "metadata": {},
     "output_type": "execute_result"
    }
   ],
   "source": [
    "df.head()"
   ]
  },
  {
   "cell_type": "markdown",
   "metadata": {},
   "source": [
    "**=================================================================================================================**"
   ]
  },
  {
   "cell_type": "markdown",
   "metadata": {},
   "source": [
    "# Regression Section"
   ]
  },
  {
   "cell_type": "markdown",
   "metadata": {},
   "source": [
    "## Model Training"
   ]
  },
  {
   "cell_type": "code",
   "execution_count": null,
   "metadata": {},
   "outputs": [],
   "source": [
    "exp_reg = setup(data = df, target = '', session_id=0, normalize=True) "
   ]
  },
  {
   "cell_type": "code",
   "execution_count": null,
   "metadata": {},
   "outputs": [],
   "source": [
    "compare_models(exclude=['omp','br','ard','par','ransac','tr','huber','kr','svm','knn','dt','rf',\n",
    "                        'et','ada','gbr','mlp','xgboost','lightgbm','catboost'],fold=5) # For Regressor"
   ]
  },
  {
   "cell_type": "code",
   "execution_count": null,
   "metadata": {},
   "outputs": [],
   "source": [
    "model_selected = create_model('catboost')"
   ]
  },
  {
   "cell_type": "code",
   "execution_count": null,
   "metadata": {},
   "outputs": [],
   "source": [
    "print(model_selected)"
   ]
  },
  {
   "cell_type": "code",
   "execution_count": null,
   "metadata": {},
   "outputs": [],
   "source": [
    "tuned_model = tune_model(catboost, optimize='mse')"
   ]
  },
  {
   "cell_type": "code",
   "execution_count": null,
   "metadata": {},
   "outputs": [],
   "source": [
    "print(tuned_model)"
   ]
  },
  {
   "cell_type": "code",
   "execution_count": null,
   "metadata": {},
   "outputs": [],
   "source": [
    "plot_model(tuned_model)"
   ]
  },
  {
   "cell_type": "code",
   "execution_count": null,
   "metadata": {},
   "outputs": [],
   "source": [
    "plot_model(tuned_model, plot = 'error')"
   ]
  },
  {
   "cell_type": "code",
   "execution_count": null,
   "metadata": {},
   "outputs": [],
   "source": [
    "plot_model(tuned_model, plot='feature')"
   ]
  },
  {
   "cell_type": "code",
   "execution_count": null,
   "metadata": {},
   "outputs": [],
   "source": [
    "interpret_model(tuned_model)"
   ]
  },
  {
   "cell_type": "code",
   "execution_count": null,
   "metadata": {},
   "outputs": [],
   "source": [
    "evaluate_model(tuned_model)"
   ]
  },
  {
   "cell_type": "code",
   "execution_count": null,
   "metadata": {},
   "outputs": [],
   "source": [
    "predict_model(tuned_model)"
   ]
  },
  {
   "cell_type": "code",
   "execution_count": null,
   "metadata": {},
   "outputs": [],
   "source": [
    "final_model = finalize_model(tuned_model)"
   ]
  },
  {
   "cell_type": "code",
   "execution_count": null,
   "metadata": {},
   "outputs": [],
   "source": [
    "unseen_predictions = predict_model(final_model, data=data_unseen)\n",
    "unseen_predictions.head()"
   ]
  },
  {
   "cell_type": "markdown",
   "metadata": {},
   "source": [
    "**=================================================================================================================**"
   ]
  },
  {
   "cell_type": "markdown",
   "metadata": {},
   "source": [
    "# Classification Section"
   ]
  },
  {
   "cell_type": "markdown",
   "metadata": {},
   "source": [
    "PyCaret’s Classification Module is a supervised machine learning module that is used for classifying elements into groups. The goal is to predict the categorical class labels which are discrete and unordered. \n",
    "\n",
    "Some common use cases include predicting customer default (Yes or No), predicting customer churn (customer will leave or stay), the disease found (positive or negative). \n",
    "\n",
    "This module can be used for binary or multiclass problems. It provides several pre-processing features that prepare the data for modeling through the setup function. It has over 18 ready-to-use algorithms and several plots to analyze the performance of trained models.\n",
    "\n",
    "A typical workflow in PyCaret consist of following 5 steps in this order:\n",
    "\n",
    "## **Setup** ➡️ **Compare Models** ➡️ **Analyze Model** ➡️ **Prediction** ➡️ **Save Model**"
   ]
  },
  {
   "cell_type": "markdown",
   "metadata": {},
   "source": [
    "## Setup\n",
    "This function initializes the training environment and creates the transformation pipeline. Setup function must be called before executing any other function in PyCaret. It only has two required parameters i.e. `data` and `target`. All the other parameters are optional.\n",
    "\n",
    "Once the setup has been successfully executed it shows the information grid containing experiment level information. \n",
    "\n",
    "- **Session id:**  A pseudo-random number distributed as a seed in all functions for later reproducibility. If no `session_id` is passed, a random number is automatically generated that is distributed to all functions.<br/>\n",
    "<br/>\n",
    "- **Target type:**  Binary, Multiclass, or Regression. The Target type is automatically detected. <br/>\n",
    "<br/>\n",
    "- **Label Encoding:**  When the Target variable is of type string (i.e. 'Yes' or 'No') instead of 1 or 0, it automatically encodes the label into 1 and 0 and displays the mapping (0 : No, 1 : Yes) for reference. In this tutorial, no label encoding is required since the target variable is of numeric type. <br/>\n",
    "<br/>\n",
    "- **Original data shape:**  Shape of the original data prior to any transformations. <br/>\n",
    "<br/>\n",
    "- **Transformed train set shape :**  Shape of transformed train set <br/>\n",
    "<br/>\n",
    "- **Transformed test set shape :**  Shape of transformed test set <br/>\n",
    "<br/>\n",
    "- **Numeric features :**  The number of features considered as numerical. <br/>\n",
    "<br/>\n",
    "- **Categorical features :**  The number of features considered as categorical. <br/>\n",
    "\n",
    "All the preprocessing configurations and experiment settings/parameters are passed into the `setup` function. To see all available parameters, check the docstring:"
   ]
  },
  {
   "cell_type": "code",
   "execution_count": 11,
   "metadata": {},
   "outputs": [
    {
     "data": {
      "text/html": [
       "<style type=\"text/css\">\n",
       "#T_7f393_row10_col1, #T_7f393_row16_col1 {\n",
       "  background-color: lightgreen;\n",
       "}\n",
       "</style>\n",
       "<table id=\"T_7f393\">\n",
       "  <thead>\n",
       "    <tr>\n",
       "      <th class=\"blank level0\" >&nbsp;</th>\n",
       "      <th id=\"T_7f393_level0_col0\" class=\"col_heading level0 col0\" >Description</th>\n",
       "      <th id=\"T_7f393_level0_col1\" class=\"col_heading level0 col1\" >Value</th>\n",
       "    </tr>\n",
       "  </thead>\n",
       "  <tbody>\n",
       "    <tr>\n",
       "      <th id=\"T_7f393_level0_row0\" class=\"row_heading level0 row0\" >0</th>\n",
       "      <td id=\"T_7f393_row0_col0\" class=\"data row0 col0\" >Session id</td>\n",
       "      <td id=\"T_7f393_row0_col1\" class=\"data row0 col1\" >0</td>\n",
       "    </tr>\n",
       "    <tr>\n",
       "      <th id=\"T_7f393_level0_row1\" class=\"row_heading level0 row1\" >1</th>\n",
       "      <td id=\"T_7f393_row1_col0\" class=\"data row1 col0\" >Target</td>\n",
       "      <td id=\"T_7f393_row1_col1\" class=\"data row1 col1\" >churn</td>\n",
       "    </tr>\n",
       "    <tr>\n",
       "      <th id=\"T_7f393_level0_row2\" class=\"row_heading level0 row2\" >2</th>\n",
       "      <td id=\"T_7f393_row2_col0\" class=\"data row2 col0\" >Target type</td>\n",
       "      <td id=\"T_7f393_row2_col1\" class=\"data row2 col1\" >Binary</td>\n",
       "    </tr>\n",
       "    <tr>\n",
       "      <th id=\"T_7f393_level0_row3\" class=\"row_heading level0 row3\" >3</th>\n",
       "      <td id=\"T_7f393_row3_col0\" class=\"data row3 col0\" >Original data shape</td>\n",
       "      <td id=\"T_7f393_row3_col1\" class=\"data row3 col1\" >(24379, 20)</td>\n",
       "    </tr>\n",
       "    <tr>\n",
       "      <th id=\"T_7f393_level0_row4\" class=\"row_heading level0 row4\" >4</th>\n",
       "      <td id=\"T_7f393_row4_col0\" class=\"data row4 col0\" >Transformed data shape</td>\n",
       "      <td id=\"T_7f393_row4_col1\" class=\"data row4 col1\" >(24379, 34)</td>\n",
       "    </tr>\n",
       "    <tr>\n",
       "      <th id=\"T_7f393_level0_row5\" class=\"row_heading level0 row5\" >5</th>\n",
       "      <td id=\"T_7f393_row5_col0\" class=\"data row5 col0\" >Transformed train set shape</td>\n",
       "      <td id=\"T_7f393_row5_col1\" class=\"data row5 col1\" >(19503, 34)</td>\n",
       "    </tr>\n",
       "    <tr>\n",
       "      <th id=\"T_7f393_level0_row6\" class=\"row_heading level0 row6\" >6</th>\n",
       "      <td id=\"T_7f393_row6_col0\" class=\"data row6 col0\" >Transformed test set shape</td>\n",
       "      <td id=\"T_7f393_row6_col1\" class=\"data row6 col1\" >(4876, 34)</td>\n",
       "    </tr>\n",
       "    <tr>\n",
       "      <th id=\"T_7f393_level0_row7\" class=\"row_heading level0 row7\" >7</th>\n",
       "      <td id=\"T_7f393_row7_col0\" class=\"data row7 col0\" >Ordinal features</td>\n",
       "      <td id=\"T_7f393_row7_col1\" class=\"data row7 col1\" >5</td>\n",
       "    </tr>\n",
       "    <tr>\n",
       "      <th id=\"T_7f393_level0_row8\" class=\"row_heading level0 row8\" >8</th>\n",
       "      <td id=\"T_7f393_row8_col0\" class=\"data row8 col0\" >Numeric features</td>\n",
       "      <td id=\"T_7f393_row8_col1\" class=\"data row8 col1\" >9</td>\n",
       "    </tr>\n",
       "    <tr>\n",
       "      <th id=\"T_7f393_level0_row9\" class=\"row_heading level0 row9\" >9</th>\n",
       "      <td id=\"T_7f393_row9_col0\" class=\"data row9 col0\" >Categorical features</td>\n",
       "      <td id=\"T_7f393_row9_col1\" class=\"data row9 col1\" >10</td>\n",
       "    </tr>\n",
       "    <tr>\n",
       "      <th id=\"T_7f393_level0_row10\" class=\"row_heading level0 row10\" >10</th>\n",
       "      <td id=\"T_7f393_row10_col0\" class=\"data row10 col0\" >Preprocess</td>\n",
       "      <td id=\"T_7f393_row10_col1\" class=\"data row10 col1\" >True</td>\n",
       "    </tr>\n",
       "    <tr>\n",
       "      <th id=\"T_7f393_level0_row11\" class=\"row_heading level0 row11\" >11</th>\n",
       "      <td id=\"T_7f393_row11_col0\" class=\"data row11 col0\" >Imputation type</td>\n",
       "      <td id=\"T_7f393_row11_col1\" class=\"data row11 col1\" >simple</td>\n",
       "    </tr>\n",
       "    <tr>\n",
       "      <th id=\"T_7f393_level0_row12\" class=\"row_heading level0 row12\" >12</th>\n",
       "      <td id=\"T_7f393_row12_col0\" class=\"data row12 col0\" >Numeric imputation</td>\n",
       "      <td id=\"T_7f393_row12_col1\" class=\"data row12 col1\" >mean</td>\n",
       "    </tr>\n",
       "    <tr>\n",
       "      <th id=\"T_7f393_level0_row13\" class=\"row_heading level0 row13\" >13</th>\n",
       "      <td id=\"T_7f393_row13_col0\" class=\"data row13 col0\" >Categorical imputation</td>\n",
       "      <td id=\"T_7f393_row13_col1\" class=\"data row13 col1\" >mode</td>\n",
       "    </tr>\n",
       "    <tr>\n",
       "      <th id=\"T_7f393_level0_row14\" class=\"row_heading level0 row14\" >14</th>\n",
       "      <td id=\"T_7f393_row14_col0\" class=\"data row14 col0\" >Maximum one-hot encoding</td>\n",
       "      <td id=\"T_7f393_row14_col1\" class=\"data row14 col1\" >25</td>\n",
       "    </tr>\n",
       "    <tr>\n",
       "      <th id=\"T_7f393_level0_row15\" class=\"row_heading level0 row15\" >15</th>\n",
       "      <td id=\"T_7f393_row15_col0\" class=\"data row15 col0\" >Encoding method</td>\n",
       "      <td id=\"T_7f393_row15_col1\" class=\"data row15 col1\" >None</td>\n",
       "    </tr>\n",
       "    <tr>\n",
       "      <th id=\"T_7f393_level0_row16\" class=\"row_heading level0 row16\" >16</th>\n",
       "      <td id=\"T_7f393_row16_col0\" class=\"data row16 col0\" >Normalize</td>\n",
       "      <td id=\"T_7f393_row16_col1\" class=\"data row16 col1\" >True</td>\n",
       "    </tr>\n",
       "    <tr>\n",
       "      <th id=\"T_7f393_level0_row17\" class=\"row_heading level0 row17\" >17</th>\n",
       "      <td id=\"T_7f393_row17_col0\" class=\"data row17 col0\" >Normalize method</td>\n",
       "      <td id=\"T_7f393_row17_col1\" class=\"data row17 col1\" >minmax</td>\n",
       "    </tr>\n",
       "    <tr>\n",
       "      <th id=\"T_7f393_level0_row18\" class=\"row_heading level0 row18\" >18</th>\n",
       "      <td id=\"T_7f393_row18_col0\" class=\"data row18 col0\" >Fold Generator</td>\n",
       "      <td id=\"T_7f393_row18_col1\" class=\"data row18 col1\" >StratifiedKFold</td>\n",
       "    </tr>\n",
       "    <tr>\n",
       "      <th id=\"T_7f393_level0_row19\" class=\"row_heading level0 row19\" >19</th>\n",
       "      <td id=\"T_7f393_row19_col0\" class=\"data row19 col0\" >Fold Number</td>\n",
       "      <td id=\"T_7f393_row19_col1\" class=\"data row19 col1\" >10</td>\n",
       "    </tr>\n",
       "    <tr>\n",
       "      <th id=\"T_7f393_level0_row20\" class=\"row_heading level0 row20\" >20</th>\n",
       "      <td id=\"T_7f393_row20_col0\" class=\"data row20 col0\" >CPU Jobs</td>\n",
       "      <td id=\"T_7f393_row20_col1\" class=\"data row20 col1\" >-1</td>\n",
       "    </tr>\n",
       "    <tr>\n",
       "      <th id=\"T_7f393_level0_row21\" class=\"row_heading level0 row21\" >21</th>\n",
       "      <td id=\"T_7f393_row21_col0\" class=\"data row21 col0\" >Use GPU</td>\n",
       "      <td id=\"T_7f393_row21_col1\" class=\"data row21 col1\" >False</td>\n",
       "    </tr>\n",
       "    <tr>\n",
       "      <th id=\"T_7f393_level0_row22\" class=\"row_heading level0 row22\" >22</th>\n",
       "      <td id=\"T_7f393_row22_col0\" class=\"data row22 col0\" >Log Experiment</td>\n",
       "      <td id=\"T_7f393_row22_col1\" class=\"data row22 col1\" >False</td>\n",
       "    </tr>\n",
       "    <tr>\n",
       "      <th id=\"T_7f393_level0_row23\" class=\"row_heading level0 row23\" >23</th>\n",
       "      <td id=\"T_7f393_row23_col0\" class=\"data row23 col0\" >Experiment Name</td>\n",
       "      <td id=\"T_7f393_row23_col1\" class=\"data row23 col1\" >clf-default-name</td>\n",
       "    </tr>\n",
       "    <tr>\n",
       "      <th id=\"T_7f393_level0_row24\" class=\"row_heading level0 row24\" >24</th>\n",
       "      <td id=\"T_7f393_row24_col0\" class=\"data row24 col0\" >USI</td>\n",
       "      <td id=\"T_7f393_row24_col1\" class=\"data row24 col1\" >49f9</td>\n",
       "    </tr>\n",
       "  </tbody>\n",
       "</table>\n"
      ],
      "text/plain": [
       "<pandas.io.formats.style.Styler at 0x1b3230eaf40>"
      ]
     },
     "metadata": {},
     "output_type": "display_data"
    }
   ],
   "source": [
    "s = setup(data=df, target = 'churn', train_size= 0.8, ordinal_features = None, numeric_features = None, \n",
    "          categorical_features = None, date_features = None, text_features = None, \n",
    "          ignore_features = None, preprocess = True, imputation_type = 'simple', \n",
    "          numeric_imputation = 'mean', categorical_imputation= 'mode', iterative_imputation_iters= 5,\n",
    "          max_encoding_ohe = 25, encoding_method= None, \n",
    "          fix_imbalance = False, fix_imbalance_method = 'SMOTE',\n",
    "          normalize = True, normalize_method = \"minmax\",\n",
    "          feature_selection = False, feature_selection_method = 'classic', \n",
    "          feature_selection_estimator='rf', n_features_to_select = 0.2,\n",
    "          data_split_shuffle = True, data_split_stratify = True, fold_strategy= 'stratifiedkfold',\n",
    "          fold = 10, fold_shuffle= False, fold_groups = None,\n",
    "          session_id = 0)"
   ]
  },
  {
   "cell_type": "code",
   "execution_count": 12,
   "metadata": {
    "scrolled": false
   },
   "outputs": [],
   "source": [
    "#help(setup)"
   ]
  },
  {
   "cell_type": "markdown",
   "metadata": {},
   "source": [
    "## Compare Models\n",
    "\n",
    "This function trains and evaluates the performance of all the estimators available in the model library using cross-validation. The output of this function is a scoring grid with average cross-validated scores. Metrics evaluated during CV can be accessed using the `get_metrics` function. Custom metrics can be added or removed using `add_metric` and `remove_metric` function.\n",
    "\n",
    "By default `compare_models` return the single best performing model based on the metric defined in the `sort` parameter. Let's change our code to return 3 top models based on `Recall`."
   ]
  },
  {
   "cell_type": "code",
   "execution_count": null,
   "metadata": {},
   "outputs": [],
   "source": [
    "# help(compare_models)"
   ]
  },
  {
   "cell_type": "code",
   "execution_count": null,
   "metadata": {},
   "outputs": [],
   "source": [
    "# check available models\n",
    "models()"
   ]
  },
  {
   "cell_type": "code",
   "execution_count": 14,
   "metadata": {},
   "outputs": [
    {
     "data": {
      "text/html": [],
      "text/plain": [
       "<IPython.core.display.HTML object>"
      ]
     },
     "metadata": {},
     "output_type": "display_data"
    },
    {
     "data": {
      "text/html": [
       "<style type=\"text/css\">\n",
       "#T_c3f3a th {\n",
       "  text-align: left;\n",
       "}\n",
       "#T_c3f3a_row0_col0, #T_c3f3a_row0_col3, #T_c3f3a_row0_col4, #T_c3f3a_row0_col5, #T_c3f3a_row0_col6, #T_c3f3a_row0_col7, #T_c3f3a_row1_col0, #T_c3f3a_row1_col1, #T_c3f3a_row1_col2, #T_c3f3a_row1_col3, #T_c3f3a_row1_col5, #T_c3f3a_row1_col6, #T_c3f3a_row1_col7, #T_c3f3a_row2_col0, #T_c3f3a_row2_col1, #T_c3f3a_row2_col2, #T_c3f3a_row2_col3, #T_c3f3a_row2_col4, #T_c3f3a_row2_col5, #T_c3f3a_row3_col0, #T_c3f3a_row3_col1, #T_c3f3a_row3_col2, #T_c3f3a_row3_col4, #T_c3f3a_row3_col6, #T_c3f3a_row3_col7 {\n",
       "  text-align: left;\n",
       "}\n",
       "#T_c3f3a_row0_col1, #T_c3f3a_row0_col2, #T_c3f3a_row1_col4, #T_c3f3a_row2_col6, #T_c3f3a_row2_col7, #T_c3f3a_row3_col3, #T_c3f3a_row3_col5 {\n",
       "  text-align: left;\n",
       "  background-color: yellow;\n",
       "}\n",
       "#T_c3f3a_row0_col8, #T_c3f3a_row1_col8, #T_c3f3a_row2_col8 {\n",
       "  text-align: left;\n",
       "  background-color: lightgrey;\n",
       "}\n",
       "#T_c3f3a_row3_col8 {\n",
       "  text-align: left;\n",
       "  background-color: yellow;\n",
       "  background-color: lightgrey;\n",
       "}\n",
       "</style>\n",
       "<table id=\"T_c3f3a\">\n",
       "  <thead>\n",
       "    <tr>\n",
       "      <th class=\"blank level0\" >&nbsp;</th>\n",
       "      <th id=\"T_c3f3a_level0_col0\" class=\"col_heading level0 col0\" >Model</th>\n",
       "      <th id=\"T_c3f3a_level0_col1\" class=\"col_heading level0 col1\" >Accuracy</th>\n",
       "      <th id=\"T_c3f3a_level0_col2\" class=\"col_heading level0 col2\" >AUC</th>\n",
       "      <th id=\"T_c3f3a_level0_col3\" class=\"col_heading level0 col3\" >Recall</th>\n",
       "      <th id=\"T_c3f3a_level0_col4\" class=\"col_heading level0 col4\" >Prec.</th>\n",
       "      <th id=\"T_c3f3a_level0_col5\" class=\"col_heading level0 col5\" >F1</th>\n",
       "      <th id=\"T_c3f3a_level0_col6\" class=\"col_heading level0 col6\" >Kappa</th>\n",
       "      <th id=\"T_c3f3a_level0_col7\" class=\"col_heading level0 col7\" >MCC</th>\n",
       "      <th id=\"T_c3f3a_level0_col8\" class=\"col_heading level0 col8\" >TT (Sec)</th>\n",
       "    </tr>\n",
       "  </thead>\n",
       "  <tbody>\n",
       "    <tr>\n",
       "      <th id=\"T_c3f3a_level0_row0\" class=\"row_heading level0 row0\" >gbc</th>\n",
       "      <td id=\"T_c3f3a_row0_col0\" class=\"data row0 col0\" >Gradient Boosting Classifier</td>\n",
       "      <td id=\"T_c3f3a_row0_col1\" class=\"data row0 col1\" >0.8224</td>\n",
       "      <td id=\"T_c3f3a_row0_col2\" class=\"data row0 col2\" >0.7258</td>\n",
       "      <td id=\"T_c3f3a_row0_col3\" class=\"data row0 col3\" >0.0800</td>\n",
       "      <td id=\"T_c3f3a_row0_col4\" class=\"data row0 col4\" >0.5542</td>\n",
       "      <td id=\"T_c3f3a_row0_col5\" class=\"data row0 col5\" >0.1395</td>\n",
       "      <td id=\"T_c3f3a_row0_col6\" class=\"data row0 col6\" >0.0982</td>\n",
       "      <td id=\"T_c3f3a_row0_col7\" class=\"data row0 col7\" >0.1582</td>\n",
       "      <td id=\"T_c3f3a_row0_col8\" class=\"data row0 col8\" >0.7160</td>\n",
       "    </tr>\n",
       "    <tr>\n",
       "      <th id=\"T_c3f3a_level0_row1\" class=\"row_heading level0 row1\" >rf</th>\n",
       "      <td id=\"T_c3f3a_row1_col0\" class=\"data row1 col0\" >Random Forest Classifier</td>\n",
       "      <td id=\"T_c3f3a_row1_col1\" class=\"data row1 col1\" >0.8211</td>\n",
       "      <td id=\"T_c3f3a_row1_col2\" class=\"data row1 col2\" >0.7058</td>\n",
       "      <td id=\"T_c3f3a_row1_col3\" class=\"data row1 col3\" >0.0347</td>\n",
       "      <td id=\"T_c3f3a_row1_col4\" class=\"data row1 col4\" >0.5643</td>\n",
       "      <td id=\"T_c3f3a_row1_col5\" class=\"data row1 col5\" >0.0653</td>\n",
       "      <td id=\"T_c3f3a_row1_col6\" class=\"data row1 col6\" >0.0449</td>\n",
       "      <td id=\"T_c3f3a_row1_col7\" class=\"data row1 col7\" >0.1046</td>\n",
       "      <td id=\"T_c3f3a_row1_col8\" class=\"data row1 col8\" >0.9970</td>\n",
       "    </tr>\n",
       "    <tr>\n",
       "      <th id=\"T_c3f3a_level0_row2\" class=\"row_heading level0 row2\" >xgboost</th>\n",
       "      <td id=\"T_c3f3a_row2_col0\" class=\"data row2 col0\" >Extreme Gradient Boosting</td>\n",
       "      <td id=\"T_c3f3a_row2_col1\" class=\"data row2 col1\" >0.8128</td>\n",
       "      <td id=\"T_c3f3a_row2_col2\" class=\"data row2 col2\" >0.6939</td>\n",
       "      <td id=\"T_c3f3a_row2_col3\" class=\"data row2 col3\" >0.1350</td>\n",
       "      <td id=\"T_c3f3a_row2_col4\" class=\"data row2 col4\" >0.4365</td>\n",
       "      <td id=\"T_c3f3a_row2_col5\" class=\"data row2 col5\" >0.2059</td>\n",
       "      <td id=\"T_c3f3a_row2_col6\" class=\"data row2 col6\" >0.1321</td>\n",
       "      <td id=\"T_c3f3a_row2_col7\" class=\"data row2 col7\" >0.1618</td>\n",
       "      <td id=\"T_c3f3a_row2_col8\" class=\"data row2 col8\" >0.6530</td>\n",
       "    </tr>\n",
       "    <tr>\n",
       "      <th id=\"T_c3f3a_level0_row3\" class=\"row_heading level0 row3\" >dt</th>\n",
       "      <td id=\"T_c3f3a_row3_col0\" class=\"data row3 col0\" >Decision Tree Classifier</td>\n",
       "      <td id=\"T_c3f3a_row3_col1\" class=\"data row3 col1\" >0.7252</td>\n",
       "      <td id=\"T_c3f3a_row3_col2\" class=\"data row3 col2\" >0.5544</td>\n",
       "      <td id=\"T_c3f3a_row3_col3\" class=\"data row3 col3\" >0.2874</td>\n",
       "      <td id=\"T_c3f3a_row3_col4\" class=\"data row3 col4\" >0.2612</td>\n",
       "      <td id=\"T_c3f3a_row3_col5\" class=\"data row3 col5\" >0.2735</td>\n",
       "      <td id=\"T_c3f3a_row3_col6\" class=\"data row3 col6\" >0.1047</td>\n",
       "      <td id=\"T_c3f3a_row3_col7\" class=\"data row3 col7\" >0.1049</td>\n",
       "      <td id=\"T_c3f3a_row3_col8\" class=\"data row3 col8\" >0.5940</td>\n",
       "    </tr>\n",
       "  </tbody>\n",
       "</table>\n"
      ],
      "text/plain": [
       "<pandas.io.formats.style.Styler at 0x1b322f2ffd0>"
      ]
     },
     "metadata": {},
     "output_type": "display_data"
    },
    {
     "data": {
      "application/vnd.jupyter.widget-view+json": {
       "model_id": "",
       "version_major": 2,
       "version_minor": 0
      },
      "text/plain": [
       "Processing:   0%|          | 0/21 [00:00<?, ?it/s]"
      ]
     },
     "metadata": {},
     "output_type": "display_data"
    }
   ],
   "source": [
    "# compare baseline models\n",
    "clf = compare_models(sort=\"AUC\", include = ['dt', 'rf', 'gbc', 'xgboost'], fold=10, cross_validation=True)"
   ]
  },
  {
   "cell_type": "code",
   "execution_count": 15,
   "metadata": {},
   "outputs": [
    {
     "data": {
      "text/html": [
       "<style>#sk-container-id-1 {color: black;background-color: white;}#sk-container-id-1 pre{padding: 0;}#sk-container-id-1 div.sk-toggleable {background-color: white;}#sk-container-id-1 label.sk-toggleable__label {cursor: pointer;display: block;width: 100%;margin-bottom: 0;padding: 0.3em;box-sizing: border-box;text-align: center;}#sk-container-id-1 label.sk-toggleable__label-arrow:before {content: \"▸\";float: left;margin-right: 0.25em;color: #696969;}#sk-container-id-1 label.sk-toggleable__label-arrow:hover:before {color: black;}#sk-container-id-1 div.sk-estimator:hover label.sk-toggleable__label-arrow:before {color: black;}#sk-container-id-1 div.sk-toggleable__content {max-height: 0;max-width: 0;overflow: hidden;text-align: left;background-color: #f0f8ff;}#sk-container-id-1 div.sk-toggleable__content pre {margin: 0.2em;color: black;border-radius: 0.25em;background-color: #f0f8ff;}#sk-container-id-1 input.sk-toggleable__control:checked~div.sk-toggleable__content {max-height: 200px;max-width: 100%;overflow: auto;}#sk-container-id-1 input.sk-toggleable__control:checked~label.sk-toggleable__label-arrow:before {content: \"▾\";}#sk-container-id-1 div.sk-estimator input.sk-toggleable__control:checked~label.sk-toggleable__label {background-color: #d4ebff;}#sk-container-id-1 div.sk-label input.sk-toggleable__control:checked~label.sk-toggleable__label {background-color: #d4ebff;}#sk-container-id-1 input.sk-hidden--visually {border: 0;clip: rect(1px 1px 1px 1px);clip: rect(1px, 1px, 1px, 1px);height: 1px;margin: -1px;overflow: hidden;padding: 0;position: absolute;width: 1px;}#sk-container-id-1 div.sk-estimator {font-family: monospace;background-color: #f0f8ff;border: 1px dotted black;border-radius: 0.25em;box-sizing: border-box;margin-bottom: 0.5em;}#sk-container-id-1 div.sk-estimator:hover {background-color: #d4ebff;}#sk-container-id-1 div.sk-parallel-item::after {content: \"\";width: 100%;border-bottom: 1px solid gray;flex-grow: 1;}#sk-container-id-1 div.sk-label:hover label.sk-toggleable__label {background-color: #d4ebff;}#sk-container-id-1 div.sk-serial::before {content: \"\";position: absolute;border-left: 1px solid gray;box-sizing: border-box;top: 0;bottom: 0;left: 50%;z-index: 0;}#sk-container-id-1 div.sk-serial {display: flex;flex-direction: column;align-items: center;background-color: white;padding-right: 0.2em;padding-left: 0.2em;position: relative;}#sk-container-id-1 div.sk-item {position: relative;z-index: 1;}#sk-container-id-1 div.sk-parallel {display: flex;align-items: stretch;justify-content: center;background-color: white;position: relative;}#sk-container-id-1 div.sk-item::before, #sk-container-id-1 div.sk-parallel-item::before {content: \"\";position: absolute;border-left: 1px solid gray;box-sizing: border-box;top: 0;bottom: 0;left: 50%;z-index: -1;}#sk-container-id-1 div.sk-parallel-item {display: flex;flex-direction: column;z-index: 1;position: relative;background-color: white;}#sk-container-id-1 div.sk-parallel-item:first-child::after {align-self: flex-end;width: 50%;}#sk-container-id-1 div.sk-parallel-item:last-child::after {align-self: flex-start;width: 50%;}#sk-container-id-1 div.sk-parallel-item:only-child::after {width: 0;}#sk-container-id-1 div.sk-dashed-wrapped {border: 1px dashed gray;margin: 0 0.4em 0.5em 0.4em;box-sizing: border-box;padding-bottom: 0.4em;background-color: white;}#sk-container-id-1 div.sk-label label {font-family: monospace;font-weight: bold;display: inline-block;line-height: 1.2em;}#sk-container-id-1 div.sk-label-container {text-align: center;}#sk-container-id-1 div.sk-container {/* jupyter's `normalize.less` sets `[hidden] { display: none; }` but bootstrap.min.css set `[hidden] { display: none !important; }` so we also need the `!important` here to be able to override the default hidden behavior on the sphinx rendered scikit-learn.org. See: https://github.com/scikit-learn/scikit-learn/issues/21755 */display: inline-block !important;position: relative;}#sk-container-id-1 div.sk-text-repr-fallback {display: none;}</style><div id=\"sk-container-id-1\" class=\"sk-top-container\"><div class=\"sk-text-repr-fallback\"><pre>GradientBoostingClassifier(ccp_alpha=0.0, criterion=&#x27;friedman_mse&#x27;, init=None,\n",
       "                           learning_rate=0.1, loss=&#x27;log_loss&#x27;, max_depth=3,\n",
       "                           max_features=None, max_leaf_nodes=None,\n",
       "                           min_impurity_decrease=0.0, min_samples_leaf=1,\n",
       "                           min_samples_split=2, min_weight_fraction_leaf=0.0,\n",
       "                           n_estimators=100, n_iter_no_change=None,\n",
       "                           random_state=0, subsample=1.0, tol=0.0001,\n",
       "                           validation_fraction=0.1, verbose=0,\n",
       "                           warm_start=False)</pre><b>In a Jupyter environment, please rerun this cell to show the HTML representation or trust the notebook. <br />On GitHub, the HTML representation is unable to render, please try loading this page with nbviewer.org.</b></div><div class=\"sk-container\" hidden><div class=\"sk-item\"><div class=\"sk-estimator sk-toggleable\"><input class=\"sk-toggleable__control sk-hidden--visually\" id=\"sk-estimator-id-1\" type=\"checkbox\" checked><label for=\"sk-estimator-id-1\" class=\"sk-toggleable__label sk-toggleable__label-arrow\">GradientBoostingClassifier</label><div class=\"sk-toggleable__content\"><pre>GradientBoostingClassifier(ccp_alpha=0.0, criterion=&#x27;friedman_mse&#x27;, init=None,\n",
       "                           learning_rate=0.1, loss=&#x27;log_loss&#x27;, max_depth=3,\n",
       "                           max_features=None, max_leaf_nodes=None,\n",
       "                           min_impurity_decrease=0.0, min_samples_leaf=1,\n",
       "                           min_samples_split=2, min_weight_fraction_leaf=0.0,\n",
       "                           n_estimators=100, n_iter_no_change=None,\n",
       "                           random_state=0, subsample=1.0, tol=0.0001,\n",
       "                           validation_fraction=0.1, verbose=0,\n",
       "                           warm_start=False)</pre></div></div></div></div></div>"
      ],
      "text/plain": [
       "GradientBoostingClassifier(ccp_alpha=0.0, criterion='friedman_mse', init=None,\n",
       "                           learning_rate=0.1, loss='log_loss', max_depth=3,\n",
       "                           max_features=None, max_leaf_nodes=None,\n",
       "                           min_impurity_decrease=0.0, min_samples_leaf=1,\n",
       "                           min_samples_split=2, min_weight_fraction_leaf=0.0,\n",
       "                           n_estimators=100, n_iter_no_change=None,\n",
       "                           random_state=0, subsample=1.0, tol=0.0001,\n",
       "                           validation_fraction=0.1, verbose=0,\n",
       "                           warm_start=False)"
      ]
     },
     "execution_count": 15,
     "metadata": {},
     "output_type": "execute_result"
    }
   ],
   "source": [
    "clf"
   ]
  },
  {
   "cell_type": "code",
   "execution_count": 16,
   "metadata": {},
   "outputs": [
    {
     "data": {
      "text/html": [
       "<div>\n",
       "<style scoped>\n",
       "    .dataframe tbody tr th:only-of-type {\n",
       "        vertical-align: middle;\n",
       "    }\n",
       "\n",
       "    .dataframe tbody tr th {\n",
       "        vertical-align: top;\n",
       "    }\n",
       "\n",
       "    .dataframe thead th {\n",
       "        text-align: right;\n",
       "    }\n",
       "</style>\n",
       "<table border=\"1\" class=\"dataframe\">\n",
       "  <thead>\n",
       "    <tr style=\"text-align: right;\">\n",
       "      <th></th>\n",
       "      <th>Model</th>\n",
       "      <th>Accuracy</th>\n",
       "      <th>AUC</th>\n",
       "      <th>Recall</th>\n",
       "      <th>Prec.</th>\n",
       "      <th>F1</th>\n",
       "      <th>Kappa</th>\n",
       "      <th>MCC</th>\n",
       "      <th>TT (Sec)</th>\n",
       "    </tr>\n",
       "  </thead>\n",
       "  <tbody>\n",
       "    <tr>\n",
       "      <th>gbc</th>\n",
       "      <td>Gradient Boosting Classifier</td>\n",
       "      <td>0.82</td>\n",
       "      <td>0.73</td>\n",
       "      <td>0.08</td>\n",
       "      <td>0.55</td>\n",
       "      <td>0.14</td>\n",
       "      <td>0.10</td>\n",
       "      <td>0.16</td>\n",
       "      <td>0.72</td>\n",
       "    </tr>\n",
       "    <tr>\n",
       "      <th>rf</th>\n",
       "      <td>Random Forest Classifier</td>\n",
       "      <td>0.82</td>\n",
       "      <td>0.71</td>\n",
       "      <td>0.03</td>\n",
       "      <td>0.56</td>\n",
       "      <td>0.07</td>\n",
       "      <td>0.04</td>\n",
       "      <td>0.10</td>\n",
       "      <td>1.00</td>\n",
       "    </tr>\n",
       "    <tr>\n",
       "      <th>xgboost</th>\n",
       "      <td>Extreme Gradient Boosting</td>\n",
       "      <td>0.81</td>\n",
       "      <td>0.69</td>\n",
       "      <td>0.14</td>\n",
       "      <td>0.44</td>\n",
       "      <td>0.21</td>\n",
       "      <td>0.13</td>\n",
       "      <td>0.16</td>\n",
       "      <td>0.65</td>\n",
       "    </tr>\n",
       "    <tr>\n",
       "      <th>dt</th>\n",
       "      <td>Decision Tree Classifier</td>\n",
       "      <td>0.73</td>\n",
       "      <td>0.55</td>\n",
       "      <td>0.29</td>\n",
       "      <td>0.26</td>\n",
       "      <td>0.27</td>\n",
       "      <td>0.10</td>\n",
       "      <td>0.10</td>\n",
       "      <td>0.59</td>\n",
       "    </tr>\n",
       "  </tbody>\n",
       "</table>\n",
       "</div>"
      ],
      "text/plain": [
       "                                Model  Accuracy  AUC  Recall  Prec.   F1  Kappa  MCC  TT (Sec)\n",
       "gbc      Gradient Boosting Classifier      0.82 0.73    0.08   0.55 0.14   0.10 0.16      0.72\n",
       "rf           Random Forest Classifier      0.82 0.71    0.03   0.56 0.07   0.04 0.10      1.00\n",
       "xgboost     Extreme Gradient Boosting      0.81 0.69    0.14   0.44 0.21   0.13 0.16      0.65\n",
       "dt           Decision Tree Classifier      0.73 0.55    0.29   0.26 0.27   0.10 0.10      0.59"
      ]
     },
     "execution_count": 16,
     "metadata": {},
     "output_type": "execute_result"
    }
   ],
   "source": [
    "clf_results = pull()\n",
    "clf_results"
   ]
  },
  {
   "cell_type": "markdown",
   "metadata": {},
   "source": [
    "## ✅ Set Custom Metrics"
   ]
  },
  {
   "cell_type": "markdown",
   "metadata": {},
   "source": [
    "## ✅ Experiment Logging\n",
    "PyCaret integrates with many different type of experiment loggers (default = 'mlflow'). To turn on experiment tracking in PyCaret you can set `log_experiment` and `experiment_name` parameter. It will automatically track all the metrics, hyperparameters, and artifacts based on the defined logger."
   ]
  },
  {
   "cell_type": "markdown",
   "metadata": {},
   "source": [
    "## Analyze Model\n",
    "You can use the `plot_model` function to analyzes the performance of a trained model on the test set. It may require re-training the model in certain cases."
   ]
  },
  {
   "cell_type": "code",
   "execution_count": 17,
   "metadata": {},
   "outputs": [
    {
     "data": {
      "text/html": [],
      "text/plain": [
       "<IPython.core.display.HTML object>"
      ]
     },
     "metadata": {},
     "output_type": "display_data"
    },
    {
     "data": {
      "image/png": "[encoded data removed]",
      "text/plain": [
       "<Figure size 432x288 with 1 Axes>"
      ]
     },
     "metadata": {
      "needs_background": "light"
     },
     "output_type": "display_data"
    }
   ],
   "source": [
    "# plot confusion matrix\n",
    "plot_model(clf, plot = 'confusion_matrix')"
   ]
  },
  {
   "cell_type": "code",
   "execution_count": 18,
   "metadata": {},
   "outputs": [
    {
     "data": {
      "text/html": [],
      "text/plain": [
       "<IPython.core.display.HTML object>"
      ]
     },
     "metadata": {},
     "output_type": "display_data"
    },
    {
     "data": {
      "image/png": "[encoded data removed]",
      "text/plain": [
       "<Figure size 432x288 with 1 Axes>"
      ]
     },
     "metadata": {
      "needs_background": "light"
     },
     "output_type": "display_data"
    }
   ],
   "source": [
    "# plot AUC\n",
    "plot_model(clf, plot = 'auc')"
   ]
  },
  {
   "cell_type": "code",
   "execution_count": 19,
   "metadata": {},
   "outputs": [
    {
     "data": {
      "text/html": [],
      "text/plain": [
       "<IPython.core.display.HTML object>"
      ]
     },
     "metadata": {},
     "output_type": "display_data"
    },
    {
     "data": {
      "image/png": "[encoded data removed]",
      "text/plain": [
       "<Figure size 800x500 with 1 Axes>"
      ]
     },
     "metadata": {
      "needs_background": "light"
     },
     "output_type": "display_data"
    }
   ],
   "source": [
    "# plot feature importance\n",
    "plot_model(clf, plot = 'feature')"
   ]
  },
  {
   "cell_type": "code",
   "execution_count": 20,
   "metadata": {},
   "outputs": [
    {
     "data": {
      "image/png": "[encoded data removed]",
      "text/plain": [
       "<Figure size 2700x600 with 1 Axes>"
      ]
     },
     "metadata": {
      "needs_background": "light"
     },
     "output_type": "display_data"
    }
   ],
   "source": [
    "# plot pipeline\n",
    "plot_model(clf, plot = 'pipeline')"
   ]
  },
  {
   "cell_type": "code",
   "execution_count": 22,
   "metadata": {},
   "outputs": [
    {
     "data": {
      "text/html": [],
      "text/plain": [
       "<IPython.core.display.HTML object>"
      ]
     },
     "metadata": {},
     "output_type": "display_data"
    },
    {
     "data": {
      "image/png": "[encoded data removed]",
      "text/plain": [
       "<Figure size 800x1500 with 1 Axes>"
      ]
     },
     "metadata": {
      "needs_background": "light"
     },
     "output_type": "display_data"
    }
   ],
   "source": [
    "# plot all features\n",
    "plot_model(clf, plot = 'feature_all')"
   ]
  },
  {
   "cell_type": "code",
   "execution_count": null,
   "metadata": {},
   "outputs": [],
   "source": [
    "# plot rfe\n",
    "plot_model(clf, plot = 'rfe')"
   ]
  },
  {
   "cell_type": "code",
   "execution_count": null,
   "metadata": {},
   "outputs": [],
   "source": [
    "# plot class report\n",
    "plot_model(clf, plot = 'class_report', scale=2)"
   ]
  },
  {
   "cell_type": "code",
   "execution_count": null,
   "metadata": {},
   "outputs": [],
   "source": [
    "# check docstring to see available plots \n",
    "# help(plot_model)"
   ]
  },
  {
   "cell_type": "markdown",
   "metadata": {},
   "source": [
    "## ✅ Create Model\n",
    "This function trains and evaluates the performance of a given estimator using cross-validation. The output of this function is a scoring grid with CV scores by fold. Metrics evaluated during CV can be accessed using the `get_metrics` function. Custom metrics can be added or removed using `add_metric` and `remove_metric` function. All the available models can be accessed using the models function."
   ]
  },
  {
   "cell_type": "code",
   "execution_count": null,
   "metadata": {},
   "outputs": [],
   "source": [
    "#help(create_model)"
   ]
  },
  {
   "cell_type": "code",
   "execution_count": 24,
   "metadata": {},
   "outputs": [
    {
     "data": {
      "text/html": [],
      "text/plain": [
       "<IPython.core.display.HTML object>"
      ]
     },
     "metadata": {},
     "output_type": "display_data"
    },
    {
     "data": {
      "text/html": [
       "<style type=\"text/css\">\n",
       "#T_47aa1_row5_col0, #T_47aa1_row5_col1, #T_47aa1_row5_col2, #T_47aa1_row5_col3, #T_47aa1_row5_col4, #T_47aa1_row5_col5, #T_47aa1_row5_col6 {\n",
       "  background: yellow;\n",
       "}\n",
       "</style>\n",
       "<table id=\"T_47aa1\">\n",
       "  <thead>\n",
       "    <tr>\n",
       "      <th class=\"blank level0\" >&nbsp;</th>\n",
       "      <th id=\"T_47aa1_level0_col0\" class=\"col_heading level0 col0\" >Accuracy</th>\n",
       "      <th id=\"T_47aa1_level0_col1\" class=\"col_heading level0 col1\" >AUC</th>\n",
       "      <th id=\"T_47aa1_level0_col2\" class=\"col_heading level0 col2\" >Recall</th>\n",
       "      <th id=\"T_47aa1_level0_col3\" class=\"col_heading level0 col3\" >Prec.</th>\n",
       "      <th id=\"T_47aa1_level0_col4\" class=\"col_heading level0 col4\" >F1</th>\n",
       "      <th id=\"T_47aa1_level0_col5\" class=\"col_heading level0 col5\" >Kappa</th>\n",
       "      <th id=\"T_47aa1_level0_col6\" class=\"col_heading level0 col6\" >MCC</th>\n",
       "    </tr>\n",
       "    <tr>\n",
       "      <th class=\"index_name level0\" >Fold</th>\n",
       "      <th class=\"blank col0\" >&nbsp;</th>\n",
       "      <th class=\"blank col1\" >&nbsp;</th>\n",
       "      <th class=\"blank col2\" >&nbsp;</th>\n",
       "      <th class=\"blank col3\" >&nbsp;</th>\n",
       "      <th class=\"blank col4\" >&nbsp;</th>\n",
       "      <th class=\"blank col5\" >&nbsp;</th>\n",
       "      <th class=\"blank col6\" >&nbsp;</th>\n",
       "    </tr>\n",
       "  </thead>\n",
       "  <tbody>\n",
       "    <tr>\n",
       "      <th id=\"T_47aa1_level0_row0\" class=\"row_heading level0 row0\" >0</th>\n",
       "      <td id=\"T_47aa1_row0_col0\" class=\"data row0 col0\" >0.8249</td>\n",
       "      <td id=\"T_47aa1_row0_col1\" class=\"data row0 col1\" >0.7267</td>\n",
       "      <td id=\"T_47aa1_row0_col2\" class=\"data row0 col2\" >0.0825</td>\n",
       "      <td id=\"T_47aa1_row0_col3\" class=\"data row0 col3\" >0.6042</td>\n",
       "      <td id=\"T_47aa1_row0_col4\" class=\"data row0 col4\" >0.1452</td>\n",
       "      <td id=\"T_47aa1_row0_col5\" class=\"data row0 col5\" >0.1065</td>\n",
       "      <td id=\"T_47aa1_row0_col6\" class=\"data row0 col6\" >0.1752</td>\n",
       "    </tr>\n",
       "    <tr>\n",
       "      <th id=\"T_47aa1_level0_row1\" class=\"row_heading level0 row1\" >1</th>\n",
       "      <td id=\"T_47aa1_row1_col0\" class=\"data row1 col0\" >0.8193</td>\n",
       "      <td id=\"T_47aa1_row1_col1\" class=\"data row1 col1\" >0.7293</td>\n",
       "      <td id=\"T_47aa1_row1_col2\" class=\"data row1 col2\" >0.0812</td>\n",
       "      <td id=\"T_47aa1_row1_col3\" class=\"data row1 col3\" >0.4872</td>\n",
       "      <td id=\"T_47aa1_row1_col4\" class=\"data row1 col4\" >0.1392</td>\n",
       "      <td id=\"T_47aa1_row1_col5\" class=\"data row1 col5\" >0.0925</td>\n",
       "      <td id=\"T_47aa1_row1_col6\" class=\"data row1 col6\" >0.1406</td>\n",
       "    </tr>\n",
       "    <tr>\n",
       "      <th id=\"T_47aa1_level0_row2\" class=\"row_heading level0 row2\" >2</th>\n",
       "      <td id=\"T_47aa1_row2_col0\" class=\"data row2 col0\" >0.8216</td>\n",
       "      <td id=\"T_47aa1_row2_col1\" class=\"data row2 col1\" >0.7377</td>\n",
       "      <td id=\"T_47aa1_row2_col2\" class=\"data row2 col2\" >0.0798</td>\n",
       "      <td id=\"T_47aa1_row2_col3\" class=\"data row2 col3\" >0.5283</td>\n",
       "      <td id=\"T_47aa1_row2_col4\" class=\"data row2 col4\" >0.1386</td>\n",
       "      <td id=\"T_47aa1_row2_col5\" class=\"data row2 col5\" >0.0959</td>\n",
       "      <td id=\"T_47aa1_row2_col6\" class=\"data row2 col6\" >0.1516</td>\n",
       "    </tr>\n",
       "    <tr>\n",
       "      <th id=\"T_47aa1_level0_row3\" class=\"row_heading level0 row3\" >3</th>\n",
       "      <td id=\"T_47aa1_row3_col0\" class=\"data row3 col0\" >0.8174</td>\n",
       "      <td id=\"T_47aa1_row3_col1\" class=\"data row3 col1\" >0.7174</td>\n",
       "      <td id=\"T_47aa1_row3_col2\" class=\"data row3 col2\" >0.1026</td>\n",
       "      <td id=\"T_47aa1_row3_col3\" class=\"data row3 col3\" >0.4675</td>\n",
       "      <td id=\"T_47aa1_row3_col4\" class=\"data row3 col4\" >0.1682</td>\n",
       "      <td id=\"T_47aa1_row3_col5\" class=\"data row3 col5\" >0.1106</td>\n",
       "      <td id=\"T_47aa1_row3_col6\" class=\"data row3 col6\" >0.1517</td>\n",
       "    </tr>\n",
       "    <tr>\n",
       "      <th id=\"T_47aa1_level0_row4\" class=\"row_heading level0 row4\" >4</th>\n",
       "      <td id=\"T_47aa1_row4_col0\" class=\"data row4 col0\" >0.8254</td>\n",
       "      <td id=\"T_47aa1_row4_col1\" class=\"data row4 col1\" >0.7160</td>\n",
       "      <td id=\"T_47aa1_row4_col2\" class=\"data row4 col2\" >0.0798</td>\n",
       "      <td id=\"T_47aa1_row4_col3\" class=\"data row4 col3\" >0.6154</td>\n",
       "      <td id=\"T_47aa1_row4_col4\" class=\"data row4 col4\" >0.1412</td>\n",
       "      <td id=\"T_47aa1_row4_col5\" class=\"data row4 col5\" >0.1042</td>\n",
       "      <td id=\"T_47aa1_row4_col6\" class=\"data row4 col6\" >0.1752</td>\n",
       "    </tr>\n",
       "    <tr>\n",
       "      <th id=\"T_47aa1_level0_row5\" class=\"row_heading level0 row5\" >Mean</th>\n",
       "      <td id=\"T_47aa1_row5_col0\" class=\"data row5 col0\" >0.8217</td>\n",
       "      <td id=\"T_47aa1_row5_col1\" class=\"data row5 col1\" >0.7254</td>\n",
       "      <td id=\"T_47aa1_row5_col2\" class=\"data row5 col2\" >0.0852</td>\n",
       "      <td id=\"T_47aa1_row5_col3\" class=\"data row5 col3\" >0.5405</td>\n",
       "      <td id=\"T_47aa1_row5_col4\" class=\"data row5 col4\" >0.1465</td>\n",
       "      <td id=\"T_47aa1_row5_col5\" class=\"data row5 col5\" >0.1020</td>\n",
       "      <td id=\"T_47aa1_row5_col6\" class=\"data row5 col6\" >0.1589</td>\n",
       "    </tr>\n",
       "    <tr>\n",
       "      <th id=\"T_47aa1_level0_row6\" class=\"row_heading level0 row6\" >Std</th>\n",
       "      <td id=\"T_47aa1_row6_col0\" class=\"data row6 col0\" >0.0031</td>\n",
       "      <td id=\"T_47aa1_row6_col1\" class=\"data row6 col1\" >0.0080</td>\n",
       "      <td id=\"T_47aa1_row6_col2\" class=\"data row6 col2\" >0.0088</td>\n",
       "      <td id=\"T_47aa1_row6_col3\" class=\"data row6 col3\" >0.0600</td>\n",
       "      <td id=\"T_47aa1_row6_col4\" class=\"data row6 col4\" >0.0111</td>\n",
       "      <td id=\"T_47aa1_row6_col5\" class=\"data row6 col5\" >0.0067</td>\n",
       "      <td id=\"T_47aa1_row6_col6\" class=\"data row6 col6\" >0.0139</td>\n",
       "    </tr>\n",
       "  </tbody>\n",
       "</table>\n"
      ],
      "text/plain": [
       "<pandas.io.formats.style.Styler at 0x1b329a22e80>"
      ]
     },
     "metadata": {},
     "output_type": "display_data"
    },
    {
     "data": {
      "application/vnd.jupyter.widget-view+json": {
       "model_id": "",
       "version_major": 2,
       "version_minor": 0
      },
      "text/plain": [
       "Processing:   0%|          | 0/4 [00:00<?, ?it/s]"
      ]
     },
     "metadata": {},
     "output_type": "display_data"
    }
   ],
   "source": [
    "# train logistic regression with default fold=10\n",
    "gbc = create_model('gbc', fold=5)"
   ]
  },
  {
   "cell_type": "markdown",
   "metadata": {},
   "source": [
    "The function above has return trained model object as an output. The scoring grid is only displayed and not returned. If you need access to the scoring grid you can use `pull` function to access the dataframe."
   ]
  },
  {
   "cell_type": "code",
   "execution_count": null,
   "metadata": {},
   "outputs": [],
   "source": [
    "gbc_results = pull()\n",
    "print(type(gbc_results))\n",
    "gbc_results"
   ]
  },
  {
   "cell_type": "code",
   "execution_count": null,
   "metadata": {},
   "outputs": [],
   "source": []
  },
  {
   "cell_type": "code",
   "execution_count": null,
   "metadata": {},
   "outputs": [],
   "source": [
    "# interpret summary model\n",
    "interpret_model(gbc, plot = 'summary')"
   ]
  },
  {
   "cell_type": "markdown",
   "metadata": {},
   "source": [
    "## ✅ Tune Model\n",
    "\n",
    "This function tunes the hyperparameters of the model. The output of this function is a scoring grid with cross-validated scores by fold. The best model is selected based on the metric defined in optimize parameter. Metrics evaluated during cross-validation can be accessed using the `get_metrics` function. Custom metrics can be added or removed using `add_metric` and `remove_metric` function."
   ]
  },
  {
   "cell_type": "code",
   "execution_count": null,
   "metadata": {},
   "outputs": [],
   "source": [
    "#help(tune_model)"
   ]
  },
  {
   "cell_type": "code",
   "execution_count": 25,
   "metadata": {},
   "outputs": [
    {
     "data": {
      "text/html": [],
      "text/plain": [
       "<IPython.core.display.HTML object>"
      ]
     },
     "metadata": {},
     "output_type": "display_data"
    },
    {
     "data": {
      "text/html": [
       "<style type=\"text/css\">\n",
       "#T_8b6d0_row5_col0, #T_8b6d0_row5_col1, #T_8b6d0_row5_col2, #T_8b6d0_row5_col3, #T_8b6d0_row5_col4, #T_8b6d0_row5_col5, #T_8b6d0_row5_col6 {\n",
       "  background: yellow;\n",
       "}\n",
       "</style>\n",
       "<table id=\"T_8b6d0\">\n",
       "  <thead>\n",
       "    <tr>\n",
       "      <th class=\"blank level0\" >&nbsp;</th>\n",
       "      <th id=\"T_8b6d0_level0_col0\" class=\"col_heading level0 col0\" >Accuracy</th>\n",
       "      <th id=\"T_8b6d0_level0_col1\" class=\"col_heading level0 col1\" >AUC</th>\n",
       "      <th id=\"T_8b6d0_level0_col2\" class=\"col_heading level0 col2\" >Recall</th>\n",
       "      <th id=\"T_8b6d0_level0_col3\" class=\"col_heading level0 col3\" >Prec.</th>\n",
       "      <th id=\"T_8b6d0_level0_col4\" class=\"col_heading level0 col4\" >F1</th>\n",
       "      <th id=\"T_8b6d0_level0_col5\" class=\"col_heading level0 col5\" >Kappa</th>\n",
       "      <th id=\"T_8b6d0_level0_col6\" class=\"col_heading level0 col6\" >MCC</th>\n",
       "    </tr>\n",
       "    <tr>\n",
       "      <th class=\"index_name level0\" >Fold</th>\n",
       "      <th class=\"blank col0\" >&nbsp;</th>\n",
       "      <th class=\"blank col1\" >&nbsp;</th>\n",
       "      <th class=\"blank col2\" >&nbsp;</th>\n",
       "      <th class=\"blank col3\" >&nbsp;</th>\n",
       "      <th class=\"blank col4\" >&nbsp;</th>\n",
       "      <th class=\"blank col5\" >&nbsp;</th>\n",
       "      <th class=\"blank col6\" >&nbsp;</th>\n",
       "    </tr>\n",
       "  </thead>\n",
       "  <tbody>\n",
       "    <tr>\n",
       "      <th id=\"T_8b6d0_level0_row0\" class=\"row_heading level0 row0\" >0</th>\n",
       "      <td id=\"T_8b6d0_row0_col0\" class=\"data row0 col0\" >0.8229</td>\n",
       "      <td id=\"T_8b6d0_row0_col1\" class=\"data row0 col1\" >0.7228</td>\n",
       "      <td id=\"T_8b6d0_row0_col2\" class=\"data row0 col2\" >0.0213</td>\n",
       "      <td id=\"T_8b6d0_row0_col3\" class=\"data row0 col3\" >0.8333</td>\n",
       "      <td id=\"T_8b6d0_row0_col4\" class=\"data row0 col4\" >0.0416</td>\n",
       "      <td id=\"T_8b6d0_row0_col5\" class=\"data row0 col5\" >0.0329</td>\n",
       "      <td id=\"T_8b6d0_row0_col6\" class=\"data row0 col6\" >0.1157</td>\n",
       "    </tr>\n",
       "    <tr>\n",
       "      <th id=\"T_8b6d0_level0_row1\" class=\"row_heading level0 row1\" >1</th>\n",
       "      <td id=\"T_8b6d0_row1_col0\" class=\"data row1 col0\" >0.8216</td>\n",
       "      <td id=\"T_8b6d0_row1_col1\" class=\"data row1 col1\" >0.7289</td>\n",
       "      <td id=\"T_8b6d0_row1_col2\" class=\"data row1 col2\" >0.0185</td>\n",
       "      <td id=\"T_8b6d0_row1_col3\" class=\"data row1 col3\" >0.6500</td>\n",
       "      <td id=\"T_8b6d0_row1_col4\" class=\"data row1 col4\" >0.0360</td>\n",
       "      <td id=\"T_8b6d0_row1_col5\" class=\"data row1 col5\" >0.0263</td>\n",
       "      <td id=\"T_8b6d0_row1_col6\" class=\"data row1 col6\" >0.0878</td>\n",
       "    </tr>\n",
       "    <tr>\n",
       "      <th id=\"T_8b6d0_level0_row2\" class=\"row_heading level0 row2\" >2</th>\n",
       "      <td id=\"T_8b6d0_row2_col0\" class=\"data row2 col0\" >0.8213</td>\n",
       "      <td id=\"T_8b6d0_row2_col1\" class=\"data row2 col1\" >0.7379</td>\n",
       "      <td id=\"T_8b6d0_row2_col2\" class=\"data row2 col2\" >0.0157</td>\n",
       "      <td id=\"T_8b6d0_row2_col3\" class=\"data row2 col3\" >0.6471</td>\n",
       "      <td id=\"T_8b6d0_row2_col4\" class=\"data row2 col4\" >0.0306</td>\n",
       "      <td id=\"T_8b6d0_row2_col5\" class=\"data row2 col5\" >0.0223</td>\n",
       "      <td id=\"T_8b6d0_row2_col6\" class=\"data row2 col6\" >0.0804</td>\n",
       "    </tr>\n",
       "    <tr>\n",
       "      <th id=\"T_8b6d0_level0_row3\" class=\"row_heading level0 row3\" >3</th>\n",
       "      <td id=\"T_8b6d0_row3_col0\" class=\"data row3 col0\" >0.8195</td>\n",
       "      <td id=\"T_8b6d0_row3_col1\" class=\"data row3 col1\" >0.7188</td>\n",
       "      <td id=\"T_8b6d0_row3_col2\" class=\"data row3 col2\" >0.0071</td>\n",
       "      <td id=\"T_8b6d0_row3_col3\" class=\"data row3 col3\" >0.4167</td>\n",
       "      <td id=\"T_8b6d0_row3_col4\" class=\"data row3 col4\" >0.0140</td>\n",
       "      <td id=\"T_8b6d0_row3_col5\" class=\"data row3 col5\" >0.0080</td>\n",
       "      <td id=\"T_8b6d0_row3_col6\" class=\"data row3 col6\" >0.0342</td>\n",
       "    </tr>\n",
       "    <tr>\n",
       "      <th id=\"T_8b6d0_level0_row4\" class=\"row_heading level0 row4\" >4</th>\n",
       "      <td id=\"T_8b6d0_row4_col0\" class=\"data row4 col0\" >0.8218</td>\n",
       "      <td id=\"T_8b6d0_row4_col1\" class=\"data row4 col1\" >0.7213</td>\n",
       "      <td id=\"T_8b6d0_row4_col2\" class=\"data row4 col2\" >0.0114</td>\n",
       "      <td id=\"T_8b6d0_row4_col3\" class=\"data row4 col3\" >0.8889</td>\n",
       "      <td id=\"T_8b6d0_row4_col4\" class=\"data row4 col4\" >0.0225</td>\n",
       "      <td id=\"T_8b6d0_row4_col5\" class=\"data row4 col5\" >0.0180</td>\n",
       "      <td id=\"T_8b6d0_row4_col6\" class=\"data row4 col6\" >0.0887</td>\n",
       "    </tr>\n",
       "    <tr>\n",
       "      <th id=\"T_8b6d0_level0_row5\" class=\"row_heading level0 row5\" >Mean</th>\n",
       "      <td id=\"T_8b6d0_row5_col0\" class=\"data row5 col0\" >0.8214</td>\n",
       "      <td id=\"T_8b6d0_row5_col1\" class=\"data row5 col1\" >0.7259</td>\n",
       "      <td id=\"T_8b6d0_row5_col2\" class=\"data row5 col2\" >0.0148</td>\n",
       "      <td id=\"T_8b6d0_row5_col3\" class=\"data row5 col3\" >0.6872</td>\n",
       "      <td id=\"T_8b6d0_row5_col4\" class=\"data row5 col4\" >0.0289</td>\n",
       "      <td id=\"T_8b6d0_row5_col5\" class=\"data row5 col5\" >0.0215</td>\n",
       "      <td id=\"T_8b6d0_row5_col6\" class=\"data row5 col6\" >0.0814</td>\n",
       "    </tr>\n",
       "    <tr>\n",
       "      <th id=\"T_8b6d0_level0_row6\" class=\"row_heading level0 row6\" >Std</th>\n",
       "      <td id=\"T_8b6d0_row6_col0\" class=\"data row6 col0\" >0.0011</td>\n",
       "      <td id=\"T_8b6d0_row6_col1\" class=\"data row6 col1\" >0.0068</td>\n",
       "      <td id=\"T_8b6d0_row6_col2\" class=\"data row6 col2\" >0.0051</td>\n",
       "      <td id=\"T_8b6d0_row6_col3\" class=\"data row6 col3\" >0.1663</td>\n",
       "      <td id=\"T_8b6d0_row6_col4\" class=\"data row6 col4\" >0.0098</td>\n",
       "      <td id=\"T_8b6d0_row6_col5\" class=\"data row6 col5\" >0.0083</td>\n",
       "      <td id=\"T_8b6d0_row6_col6\" class=\"data row6 col6\" >0.0264</td>\n",
       "    </tr>\n",
       "  </tbody>\n",
       "</table>\n"
      ],
      "text/plain": [
       "<pandas.io.formats.style.Styler at 0x1b3231c3730>"
      ]
     },
     "metadata": {},
     "output_type": "display_data"
    },
    {
     "data": {
      "application/vnd.jupyter.widget-view+json": {
       "model_id": "",
       "version_major": 2,
       "version_minor": 0
      },
      "text/plain": [
       "Processing:   0%|          | 0/7 [00:00<?, ?it/s]"
      ]
     },
     "metadata": {},
     "output_type": "display_data"
    },
    {
     "name": "stdout",
     "output_type": "stream",
     "text": [
      "Fitting 5 folds for each of 10 candidates, totalling 50 fits\n"
     ]
    }
   ],
   "source": [
    "# tune hyperparameters of dt\n",
    "tuned_gbc = tune_model(gbc, fold=5, optimize=\"AUC\", search_library= 'scikit-learn', n_iter= 10,\n",
    "                       early_stopping=False, early_stopping_max_iters= 10, return_tuner = False)"
   ]
  },
  {
   "cell_type": "code",
   "execution_count": null,
   "metadata": {},
   "outputs": [],
   "source": [
    "# define tuning grid\n",
    "dt_grid = {'max_depth' : [None, 2, 4, 6, 8, 10, 12]}\n",
    "\n",
    "# tune model with custom grid and metric = F1\n",
    "tuned_dt = tune_model(dt, custom_grid = dt_grid, optimize = 'F1')"
   ]
  },
  {
   "cell_type": "code",
   "execution_count": null,
   "metadata": {},
   "outputs": [],
   "source": [
    "# to access the tuner object you can set return_tuner = True\n",
    "tuned_dt, tuner = tune_model(dt, return_tuner=True)"
   ]
  },
  {
   "cell_type": "code",
   "execution_count": 29,
   "metadata": {},
   "outputs": [
    {
     "data": {
      "text/html": [
       "<style>#sk-container-id-4 {color: black;background-color: white;}#sk-container-id-4 pre{padding: 0;}#sk-container-id-4 div.sk-toggleable {background-color: white;}#sk-container-id-4 label.sk-toggleable__label {cursor: pointer;display: block;width: 100%;margin-bottom: 0;padding: 0.3em;box-sizing: border-box;text-align: center;}#sk-container-id-4 label.sk-toggleable__label-arrow:before {content: \"▸\";float: left;margin-right: 0.25em;color: #696969;}#sk-container-id-4 label.sk-toggleable__label-arrow:hover:before {color: black;}#sk-container-id-4 div.sk-estimator:hover label.sk-toggleable__label-arrow:before {color: black;}#sk-container-id-4 div.sk-toggleable__content {max-height: 0;max-width: 0;overflow: hidden;text-align: left;background-color: #f0f8ff;}#sk-container-id-4 div.sk-toggleable__content pre {margin: 0.2em;color: black;border-radius: 0.25em;background-color: #f0f8ff;}#sk-container-id-4 input.sk-toggleable__control:checked~div.sk-toggleable__content {max-height: 200px;max-width: 100%;overflow: auto;}#sk-container-id-4 input.sk-toggleable__control:checked~label.sk-toggleable__label-arrow:before {content: \"▾\";}#sk-container-id-4 div.sk-estimator input.sk-toggleable__control:checked~label.sk-toggleable__label {background-color: #d4ebff;}#sk-container-id-4 div.sk-label input.sk-toggleable__control:checked~label.sk-toggleable__label {background-color: #d4ebff;}#sk-container-id-4 input.sk-hidden--visually {border: 0;clip: rect(1px 1px 1px 1px);clip: rect(1px, 1px, 1px, 1px);height: 1px;margin: -1px;overflow: hidden;padding: 0;position: absolute;width: 1px;}#sk-container-id-4 div.sk-estimator {font-family: monospace;background-color: #f0f8ff;border: 1px dotted black;border-radius: 0.25em;box-sizing: border-box;margin-bottom: 0.5em;}#sk-container-id-4 div.sk-estimator:hover {background-color: #d4ebff;}#sk-container-id-4 div.sk-parallel-item::after {content: \"\";width: 100%;border-bottom: 1px solid gray;flex-grow: 1;}#sk-container-id-4 div.sk-label:hover label.sk-toggleable__label {background-color: #d4ebff;}#sk-container-id-4 div.sk-serial::before {content: \"\";position: absolute;border-left: 1px solid gray;box-sizing: border-box;top: 0;bottom: 0;left: 50%;z-index: 0;}#sk-container-id-4 div.sk-serial {display: flex;flex-direction: column;align-items: center;background-color: white;padding-right: 0.2em;padding-left: 0.2em;position: relative;}#sk-container-id-4 div.sk-item {position: relative;z-index: 1;}#sk-container-id-4 div.sk-parallel {display: flex;align-items: stretch;justify-content: center;background-color: white;position: relative;}#sk-container-id-4 div.sk-item::before, #sk-container-id-4 div.sk-parallel-item::before {content: \"\";position: absolute;border-left: 1px solid gray;box-sizing: border-box;top: 0;bottom: 0;left: 50%;z-index: -1;}#sk-container-id-4 div.sk-parallel-item {display: flex;flex-direction: column;z-index: 1;position: relative;background-color: white;}#sk-container-id-4 div.sk-parallel-item:first-child::after {align-self: flex-end;width: 50%;}#sk-container-id-4 div.sk-parallel-item:last-child::after {align-self: flex-start;width: 50%;}#sk-container-id-4 div.sk-parallel-item:only-child::after {width: 0;}#sk-container-id-4 div.sk-dashed-wrapped {border: 1px dashed gray;margin: 0 0.4em 0.5em 0.4em;box-sizing: border-box;padding-bottom: 0.4em;background-color: white;}#sk-container-id-4 div.sk-label label {font-family: monospace;font-weight: bold;display: inline-block;line-height: 1.2em;}#sk-container-id-4 div.sk-label-container {text-align: center;}#sk-container-id-4 div.sk-container {/* jupyter's `normalize.less` sets `[hidden] { display: none; }` but bootstrap.min.css set `[hidden] { display: none !important; }` so we also need the `!important` here to be able to override the default hidden behavior on the sphinx rendered scikit-learn.org. See: https://github.com/scikit-learn/scikit-learn/issues/21755 */display: inline-block !important;position: relative;}#sk-container-id-4 div.sk-text-repr-fallback {display: none;}</style><div id=\"sk-container-id-4\" class=\"sk-top-container\"><div class=\"sk-text-repr-fallback\"><pre>GradientBoostingClassifier(ccp_alpha=0.0, criterion=&#x27;friedman_mse&#x27;, init=None,\n",
       "                           learning_rate=0.1, loss=&#x27;log_loss&#x27;, max_depth=1,\n",
       "                           max_features=&#x27;sqrt&#x27;, max_leaf_nodes=None,\n",
       "                           min_impurity_decrease=0.05, min_samples_leaf=5,\n",
       "                           min_samples_split=9, min_weight_fraction_leaf=0.0,\n",
       "                           n_estimators=150, n_iter_no_change=None,\n",
       "                           random_state=0, subsample=0.45, tol=0.0001,\n",
       "                           validation_fraction=0.1, verbose=0,\n",
       "                           warm_start=False)</pre><b>In a Jupyter environment, please rerun this cell to show the HTML representation or trust the notebook. <br />On GitHub, the HTML representation is unable to render, please try loading this page with nbviewer.org.</b></div><div class=\"sk-container\" hidden><div class=\"sk-item\"><div class=\"sk-estimator sk-toggleable\"><input class=\"sk-toggleable__control sk-hidden--visually\" id=\"sk-estimator-id-4\" type=\"checkbox\" checked><label for=\"sk-estimator-id-4\" class=\"sk-toggleable__label sk-toggleable__label-arrow\">GradientBoostingClassifier</label><div class=\"sk-toggleable__content\"><pre>GradientBoostingClassifier(ccp_alpha=0.0, criterion=&#x27;friedman_mse&#x27;, init=None,\n",
       "                           learning_rate=0.1, loss=&#x27;log_loss&#x27;, max_depth=1,\n",
       "                           max_features=&#x27;sqrt&#x27;, max_leaf_nodes=None,\n",
       "                           min_impurity_decrease=0.05, min_samples_leaf=5,\n",
       "                           min_samples_split=9, min_weight_fraction_leaf=0.0,\n",
       "                           n_estimators=150, n_iter_no_change=None,\n",
       "                           random_state=0, subsample=0.45, tol=0.0001,\n",
       "                           validation_fraction=0.1, verbose=0,\n",
       "                           warm_start=False)</pre></div></div></div></div></div>"
      ],
      "text/plain": [
       "GradientBoostingClassifier(ccp_alpha=0.0, criterion='friedman_mse', init=None,\n",
       "                           learning_rate=0.1, loss='log_loss', max_depth=1,\n",
       "                           max_features='sqrt', max_leaf_nodes=None,\n",
       "                           min_impurity_decrease=0.05, min_samples_leaf=5,\n",
       "                           min_samples_split=9, min_weight_fraction_leaf=0.0,\n",
       "                           n_estimators=150, n_iter_no_change=None,\n",
       "                           random_state=0, subsample=0.45, tol=0.0001,\n",
       "                           validation_fraction=0.1, verbose=0,\n",
       "                           warm_start=False)"
      ]
     },
     "execution_count": 29,
     "metadata": {},
     "output_type": "execute_result"
    }
   ],
   "source": [
    "# model object\n",
    "tuned_gbc"
   ]
  },
  {
   "cell_type": "code",
   "execution_count": null,
   "metadata": {},
   "outputs": [],
   "source": [
    "# tuner object\n",
    "tuner"
   ]
  },
  {
   "cell_type": "markdown",
   "metadata": {},
   "source": [
    "## ✅ Ensemble Model\n",
    "\n",
    "This function ensembles a given estimator. The output of this function is a scoring grid with CV scores by fold. Metrics evaluated during CV can be accessed using the `get_metrics` function. Custom metrics can be added or removed using `add_metric` and `remove_metric` function."
   ]
  },
  {
   "cell_type": "code",
   "execution_count": null,
   "metadata": {},
   "outputs": [],
   "source": [
    "# ensemble with bagging\n",
    "ensemble_model(dt, method = 'Bagging')"
   ]
  },
  {
   "cell_type": "code",
   "execution_count": null,
   "metadata": {},
   "outputs": [],
   "source": [
    "# ensemble with boosting\n",
    "ensemble_model(dt, method = 'Boosting')"
   ]
  },
  {
   "cell_type": "markdown",
   "metadata": {},
   "source": [
    "## ✅ Blend Models\n",
    "\n",
    "This function trains a Soft Voting / Majority Rule classifier for select models passed in the estimator_list parameter. The output of this function is a scoring grid with CV scores by fold. Metrics evaluated during CV can be accessed using the `get_metrics` function. Custom metrics can be added or removed using `add_metric` and `remove_metric` function."
   ]
  },
  {
   "cell_type": "code",
   "execution_count": null,
   "metadata": {},
   "outputs": [],
   "source": []
  },
  {
   "cell_type": "code",
   "execution_count": null,
   "metadata": {},
   "outputs": [],
   "source": []
  },
  {
   "cell_type": "markdown",
   "metadata": {},
   "source": [
    "## Prediction\n",
    "The `predict_model` function returns `prediction_label` and `prediction_score` (probability of the predicted class) as new columns in dataframe. When data is `None` (default), it uses the test set (created during the setup function) for scoring."
   ]
  },
  {
   "cell_type": "code",
   "execution_count": null,
   "metadata": {},
   "outputs": [],
   "source": [
    "# predict on test set\n",
    "holdout_pred = predict_model(clf)"
   ]
  },
  {
   "cell_type": "code",
   "execution_count": null,
   "metadata": {},
   "outputs": [],
   "source": [
    "# show predictions df\n",
    "holdout_pred.head()"
   ]
  },
  {
   "cell_type": "code",
   "execution_count": null,
   "metadata": {},
   "outputs": [],
   "source": [
    "# predict model on new_data\n",
    "predictions = predict_model(clf, data = new_data)\n",
    "predictions.head()"
   ]
  },
  {
   "cell_type": "markdown",
   "metadata": {},
   "source": [
    "## Save Model\n",
    "\n",
    "Finally, you can save the entire pipeline on disk for later use, using pycaret's `save_model` function."
   ]
  },
  {
   "cell_type": "code",
   "execution_count": null,
   "metadata": {},
   "outputs": [],
   "source": [
    "# save pipeline\n",
    "save_model(clf, 'my_first_pipeline')"
   ]
  },
  {
   "cell_type": "code",
   "execution_count": null,
   "metadata": {},
   "outputs": [],
   "source": [
    "# load pipeline\n",
    "loaded_best_pipeline = load_model('my_first_pipeline')\n",
    "loaded_best_pipeline"
   ]
  },
  {
   "cell_type": "code",
   "execution_count": null,
   "metadata": {},
   "outputs": [],
   "source": []
  },
  {
   "cell_type": "markdown",
   "metadata": {},
   "source": [
    "**=================================================================================================================**"
   ]
  },
  {
   "cell_type": "markdown",
   "metadata": {},
   "source": [
    "#### Python code done by Dennis Lam"
   ]
  }
 ],
 "metadata": {
  "kernelspec": {
   "display_name": "Python 3 (ipykernel)",
   "language": "python",
   "name": "python3"
  },
  "language_info": {
   "codemirror_mode": {
    "name": "ipython",
    "version": 3
   },
   "file_extension": ".py",
   "mimetype": "text/x-python",
   "name": "python",
   "nbconvert_exporter": "python",
   "pygments_lexer": "ipython3",
   "version": "3.9.12"
  }
 },
 "nbformat": 4,
 "nbformat_minor": 4
}
