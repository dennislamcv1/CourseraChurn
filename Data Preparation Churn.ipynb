{
 "cells": [
  {
   "cell_type": "markdown",
   "metadata": {},
   "source": [
    "# Data Preparation Churn\n",
    "\n",
    "## This notebook is for Data Cleaning and Feature Engineering"
   ]
  },
  {
   "cell_type": "markdown",
   "metadata": {},
   "source": [
    "**==============================================================================================================**"
   ]
  },
  {
   "cell_type": "markdown",
   "metadata": {},
   "source": [
    "## Data Dictionary"
   ]
  },
  {
   "cell_type": "markdown",
   "metadata": {},
   "source": [
    "## Data Tasks\n",
    "\n",
    "### 1) Understand the shape of the data (Histograms, box plots, etc.)\n",
    "\n",
    "### 2) Data Cleaning \n",
    "\n",
    "### 3) Data Exploration\n",
    "\n",
    "### 4) Feature Engineering \n",
    "\n",
    "### 5) Data Preprocessing for Model\n",
    "\n",
    "### 6) Basic Model Building \n",
    "\n",
    "### 7) Model Tuning \n",
    "\n",
    "### 8) Ensemble Model Building \n",
    "\n",
    "### 9) Results \n"
   ]
  },
  {
   "cell_type": "markdown",
   "metadata": {},
   "source": [
    "**==============================================================================================================**"
   ]
  },
  {
   "cell_type": "markdown",
   "metadata": {},
   "source": [
    "## Import Libraries"
   ]
  },
  {
   "cell_type": "code",
   "execution_count": 1,
   "metadata": {},
   "outputs": [
    {
     "data": {
      "application/javascript": [
       "IPython.notebook.set_autosave_interval(60000)"
      ]
     },
     "metadata": {},
     "output_type": "display_data"
    },
    {
     "name": "stdout",
     "output_type": "stream",
     "text": [
      "Autosaving every 60 seconds\n"
     ]
    }
   ],
   "source": [
    "import numpy as np\n",
    "#from numpy import count_nonzero, median, mean\n",
    "import pandas as pd\n",
    "import matplotlib.pyplot as plt\n",
    "import seaborn as sns\n",
    "import random\n",
    "#import squarify\n",
    "\n",
    "import datetime\n",
    "from datetime import datetime, timedelta, date, time\n",
    "\n",
    "\n",
    "#import os\n",
    "#import zipfile\n",
    "import scipy\n",
    "from scipy import stats\n",
    "#from scipy.stats.mstats import normaltest # D'Agostino K^2 Test\n",
    "#from scipy.stats import boxcox\n",
    "from collections import Counter\n",
    "\n",
    "import sklearn\n",
    "from sklearn.model_selection import train_test_split\n",
    "from sklearn.preprocessing import StandardScaler, MinMaxScaler, OneHotEncoder, OrdinalEncoder, LabelEncoder\n",
    "from sklearn.preprocessing import PolynomialFeatures, RobustScaler, Binarizer\n",
    "from sklearn.impute import SimpleImputer, MissingIndicator, KNNImputer\n",
    "from sklearn.compose import make_column_transformer, ColumnTransformer\n",
    "from sklearn.pipeline import make_pipeline, Pipeline\n",
    "from sklearn import set_config\n",
    "\n",
    "%matplotlib inline\n",
    "#sets the default autosave frequency in seconds\n",
    "%autosave 60 \n",
    "sns.set_style('dark')\n",
    "sns.set(font_scale=1.2)\n",
    "\n",
    "plt.rc('axes', titlesize=9)\n",
    "plt.rc('axes', labelsize=14)\n",
    "plt.rc('xtick', labelsize=12)\n",
    "plt.rc('ytick', labelsize=12)\n",
    "\n",
    "import warnings\n",
    "warnings.filterwarnings('ignore')\n",
    "\n",
    "# Use Feature-Engine library\n",
    "import feature_engine\n",
    "\n",
    "from feature_engine.imputation import AddMissingIndicator, CategoricalImputer, DropMissingData, MeanMedianImputer\n",
    "from feature_engine.imputation import ArbitraryNumberImputer, RandomSampleImputer\n",
    "\n",
    "from feature_engine.outliers import Winsorizer, ArbitraryOutlierCapper, OutlierTrimmer\n",
    "\n",
    "from feature_engine.encoding import CountFrequencyEncoder, DecisionTreeEncoder, MeanEncoder, OneHotEncoder\n",
    "from feature_engine.encoding import OrdinalEncoder, WoEEncoder, RareLabelEncoder, StringSimilarityEncoder\n",
    "\n",
    "from feature_engine.discretisation import EqualWidthDiscretiser, EqualFrequencyDiscretiser, ArbitraryDiscretiser\n",
    "from feature_engine.discretisation import DecisionTreeDiscretiser, EqualWidthDiscretiser\n",
    "\n",
    "from feature_engine.datetime import DatetimeFeatures\n",
    "\n",
    "from feature_engine.creation import CyclicalFeatures, MathFeatures, RelativeFeatures\n",
    "\n",
    "\n",
    "pd.set_option('display.max_columns',None)\n",
    "#pd.set_option('display.max_rows',None)\n",
    "pd.set_option('display.width', 1000)\n",
    "pd.set_option('display.float_format','{:.2f}'.format)\n",
    "\n",
    "random.seed(0)\n",
    "np.random.seed(0)\n",
    "np.set_printoptions(suppress=True)"
   ]
  },
  {
   "cell_type": "code",
   "execution_count": 2,
   "metadata": {},
   "outputs": [
    {
     "data": {
      "text/html": [
       "<div>\n",
       "<style scoped>\n",
       "    .dataframe tbody tr th:only-of-type {\n",
       "        vertical-align: middle;\n",
       "    }\n",
       "\n",
       "    .dataframe tbody tr th {\n",
       "        vertical-align: top;\n",
       "    }\n",
       "\n",
       "    .dataframe thead th {\n",
       "        text-align: right;\n",
       "    }\n",
       "</style>\n",
       "<table border=\"1\" class=\"dataframe\">\n",
       "  <thead>\n",
       "    <tr style=\"text-align: right;\">\n",
       "      <th></th>\n",
       "      <th>Column_name</th>\n",
       "      <th>Column_type</th>\n",
       "      <th>Data_type</th>\n",
       "      <th>Description</th>\n",
       "    </tr>\n",
       "  </thead>\n",
       "  <tbody>\n",
       "    <tr>\n",
       "      <th>0</th>\n",
       "      <td>AccountAge</td>\n",
       "      <td>Feature</td>\n",
       "      <td>integer</td>\n",
       "      <td>The age of the user's account in months.</td>\n",
       "    </tr>\n",
       "    <tr>\n",
       "      <th>1</th>\n",
       "      <td>MonthlyCharges</td>\n",
       "      <td>Feature</td>\n",
       "      <td>float</td>\n",
       "      <td>The amount charged to the user on a monthly ba...</td>\n",
       "    </tr>\n",
       "    <tr>\n",
       "      <th>2</th>\n",
       "      <td>TotalCharges</td>\n",
       "      <td>Feature</td>\n",
       "      <td>float</td>\n",
       "      <td>The total charges incurred by the user over th...</td>\n",
       "    </tr>\n",
       "    <tr>\n",
       "      <th>3</th>\n",
       "      <td>SubscriptionType</td>\n",
       "      <td>Feature</td>\n",
       "      <td>object</td>\n",
       "      <td>The type of subscription chosen by the user (B...</td>\n",
       "    </tr>\n",
       "    <tr>\n",
       "      <th>4</th>\n",
       "      <td>PaymentMethod</td>\n",
       "      <td>Feature</td>\n",
       "      <td>string</td>\n",
       "      <td>The method of payment used by the user.</td>\n",
       "    </tr>\n",
       "    <tr>\n",
       "      <th>5</th>\n",
       "      <td>PaperlessBilling</td>\n",
       "      <td>Feature</td>\n",
       "      <td>string</td>\n",
       "      <td>Indicates whether the user has opted for paper...</td>\n",
       "    </tr>\n",
       "    <tr>\n",
       "      <th>6</th>\n",
       "      <td>ContentType</td>\n",
       "      <td>Feature</td>\n",
       "      <td>string</td>\n",
       "      <td>The type of content preferred by the user (Mov...</td>\n",
       "    </tr>\n",
       "    <tr>\n",
       "      <th>7</th>\n",
       "      <td>MultiDeviceAccess</td>\n",
       "      <td>Feature</td>\n",
       "      <td>string</td>\n",
       "      <td>Indicates whether the user has access to the s...</td>\n",
       "    </tr>\n",
       "    <tr>\n",
       "      <th>8</th>\n",
       "      <td>DeviceRegistered</td>\n",
       "      <td>Feature</td>\n",
       "      <td>string</td>\n",
       "      <td>The type of device registered by the user (TV,...</td>\n",
       "    </tr>\n",
       "    <tr>\n",
       "      <th>9</th>\n",
       "      <td>ViewingHoursPerWeek</td>\n",
       "      <td>Feature</td>\n",
       "      <td>float</td>\n",
       "      <td>The number of hours the user spends watching c...</td>\n",
       "    </tr>\n",
       "    <tr>\n",
       "      <th>10</th>\n",
       "      <td>AverageViewingDuration</td>\n",
       "      <td>Feature</td>\n",
       "      <td>float</td>\n",
       "      <td>The average duration of each viewing session i...</td>\n",
       "    </tr>\n",
       "    <tr>\n",
       "      <th>11</th>\n",
       "      <td>ContentDownloadsPerMonth</td>\n",
       "      <td>Feature</td>\n",
       "      <td>integer</td>\n",
       "      <td>The number of content downloads by the user pe...</td>\n",
       "    </tr>\n",
       "    <tr>\n",
       "      <th>12</th>\n",
       "      <td>GenrePreference</td>\n",
       "      <td>Feature</td>\n",
       "      <td>string</td>\n",
       "      <td>The preferred genre of content chosen by the u...</td>\n",
       "    </tr>\n",
       "    <tr>\n",
       "      <th>13</th>\n",
       "      <td>UserRating</td>\n",
       "      <td>Feature</td>\n",
       "      <td>float</td>\n",
       "      <td>The user's rating for the service on a scale o...</td>\n",
       "    </tr>\n",
       "    <tr>\n",
       "      <th>14</th>\n",
       "      <td>SupportTicketsPerMonth</td>\n",
       "      <td>Feature</td>\n",
       "      <td>integer</td>\n",
       "      <td>The number of support tickets raised by the us...</td>\n",
       "    </tr>\n",
       "    <tr>\n",
       "      <th>15</th>\n",
       "      <td>Gender</td>\n",
       "      <td>Feature</td>\n",
       "      <td>string</td>\n",
       "      <td>The gender of the user (Male or Female).</td>\n",
       "    </tr>\n",
       "    <tr>\n",
       "      <th>16</th>\n",
       "      <td>WatchlistSize</td>\n",
       "      <td>Feature</td>\n",
       "      <td>float</td>\n",
       "      <td>The number of items in the user's watchlist.</td>\n",
       "    </tr>\n",
       "    <tr>\n",
       "      <th>17</th>\n",
       "      <td>ParentalControl</td>\n",
       "      <td>Feature</td>\n",
       "      <td>string</td>\n",
       "      <td>Indicates whether parental control is enabled ...</td>\n",
       "    </tr>\n",
       "    <tr>\n",
       "      <th>18</th>\n",
       "      <td>SubtitlesEnabled</td>\n",
       "      <td>Feature</td>\n",
       "      <td>string</td>\n",
       "      <td>Indicates whether subtitles are enabled for th...</td>\n",
       "    </tr>\n",
       "    <tr>\n",
       "      <th>19</th>\n",
       "      <td>CustomerID</td>\n",
       "      <td>Identifier</td>\n",
       "      <td>string</td>\n",
       "      <td>A unique identifier for each customer.</td>\n",
       "    </tr>\n",
       "    <tr>\n",
       "      <th>20</th>\n",
       "      <td>Churn</td>\n",
       "      <td>Target</td>\n",
       "      <td>integer</td>\n",
       "      <td>The target variable indicating whether a user ...</td>\n",
       "    </tr>\n",
       "  </tbody>\n",
       "</table>\n",
       "</div>"
      ],
      "text/plain": [
       "                 Column_name Column_type Data_type                                        Description\n",
       "0                 AccountAge     Feature   integer           The age of the user's account in months.\n",
       "1             MonthlyCharges     Feature     float  The amount charged to the user on a monthly ba...\n",
       "2               TotalCharges     Feature     float  The total charges incurred by the user over th...\n",
       "3           SubscriptionType     Feature    object  The type of subscription chosen by the user (B...\n",
       "4              PaymentMethod     Feature    string            The method of payment used by the user.\n",
       "5           PaperlessBilling     Feature    string  Indicates whether the user has opted for paper...\n",
       "6                ContentType     Feature    string  The type of content preferred by the user (Mov...\n",
       "7          MultiDeviceAccess     Feature    string  Indicates whether the user has access to the s...\n",
       "8           DeviceRegistered     Feature    string  The type of device registered by the user (TV,...\n",
       "9        ViewingHoursPerWeek     Feature     float  The number of hours the user spends watching c...\n",
       "10    AverageViewingDuration     Feature     float  The average duration of each viewing session i...\n",
       "11  ContentDownloadsPerMonth     Feature   integer  The number of content downloads by the user pe...\n",
       "12           GenrePreference     Feature    string  The preferred genre of content chosen by the u...\n",
       "13                UserRating     Feature     float  The user's rating for the service on a scale o...\n",
       "14    SupportTicketsPerMonth     Feature   integer  The number of support tickets raised by the us...\n",
       "15                    Gender     Feature    string           The gender of the user (Male or Female).\n",
       "16             WatchlistSize     Feature     float       The number of items in the user's watchlist.\n",
       "17           ParentalControl     Feature    string  Indicates whether parental control is enabled ...\n",
       "18          SubtitlesEnabled     Feature    string  Indicates whether subtitles are enabled for th...\n",
       "19                CustomerID  Identifier    string             A unique identifier for each customer.\n",
       "20                     Churn      Target   integer  The target variable indicating whether a user ..."
      ]
     },
     "execution_count": 2,
     "metadata": {},
     "output_type": "execute_result"
    }
   ],
   "source": [
    "desc = pd.read_csv(\"data_descriptions.csv\")\n",
    "desc"
   ]
  },
  {
   "cell_type": "markdown",
   "metadata": {},
   "source": [
    "**==============================================================================================================**"
   ]
  },
  {
   "cell_type": "markdown",
   "metadata": {},
   "source": [
    "## Data Quick Glance"
   ]
  },
  {
   "cell_type": "code",
   "execution_count": 3,
   "metadata": {},
   "outputs": [],
   "source": [
    "train = pd.read_csv(\"train.csv\")"
   ]
  },
  {
   "cell_type": "code",
   "execution_count": 4,
   "metadata": {},
   "outputs": [
    {
     "data": {
      "text/html": [
       "<div>\n",
       "<style scoped>\n",
       "    .dataframe tbody tr th:only-of-type {\n",
       "        vertical-align: middle;\n",
       "    }\n",
       "\n",
       "    .dataframe tbody tr th {\n",
       "        vertical-align: top;\n",
       "    }\n",
       "\n",
       "    .dataframe thead th {\n",
       "        text-align: right;\n",
       "    }\n",
       "</style>\n",
       "<table border=\"1\" class=\"dataframe\">\n",
       "  <thead>\n",
       "    <tr style=\"text-align: right;\">\n",
       "      <th></th>\n",
       "      <th>accountage</th>\n",
       "      <th>monthlycharges</th>\n",
       "      <th>totalcharges</th>\n",
       "      <th>subscriptiontype</th>\n",
       "      <th>paymentmethod</th>\n",
       "      <th>paperlessbilling</th>\n",
       "      <th>contenttype</th>\n",
       "      <th>multideviceaccess</th>\n",
       "      <th>deviceregistered</th>\n",
       "      <th>viewinghoursperweek</th>\n",
       "      <th>averageviewingduration</th>\n",
       "      <th>contentdownloadspermonth</th>\n",
       "      <th>genrepreference</th>\n",
       "      <th>userrating</th>\n",
       "      <th>supportticketspermonth</th>\n",
       "      <th>gender</th>\n",
       "      <th>watchlistsize</th>\n",
       "      <th>parentalcontrol</th>\n",
       "      <th>subtitlesenabled</th>\n",
       "      <th>churn</th>\n",
       "    </tr>\n",
       "  </thead>\n",
       "  <tbody>\n",
       "    <tr>\n",
       "      <th>0</th>\n",
       "      <td>20</td>\n",
       "      <td>11.06</td>\n",
       "      <td>221.10</td>\n",
       "      <td>Premium</td>\n",
       "      <td>Mailed check</td>\n",
       "      <td>No</td>\n",
       "      <td>Both</td>\n",
       "      <td>No</td>\n",
       "      <td>Mobile</td>\n",
       "      <td>36.76</td>\n",
       "      <td>63.53</td>\n",
       "      <td>10</td>\n",
       "      <td>Sci-Fi</td>\n",
       "      <td>2.18</td>\n",
       "      <td>4</td>\n",
       "      <td>Male</td>\n",
       "      <td>3</td>\n",
       "      <td>No</td>\n",
       "      <td>No</td>\n",
       "      <td>0</td>\n",
       "    </tr>\n",
       "    <tr>\n",
       "      <th>1</th>\n",
       "      <td>57</td>\n",
       "      <td>5.18</td>\n",
       "      <td>294.99</td>\n",
       "      <td>Basic</td>\n",
       "      <td>Credit card</td>\n",
       "      <td>Yes</td>\n",
       "      <td>Movies</td>\n",
       "      <td>No</td>\n",
       "      <td>Tablet</td>\n",
       "      <td>32.45</td>\n",
       "      <td>25.73</td>\n",
       "      <td>18</td>\n",
       "      <td>Action</td>\n",
       "      <td>3.48</td>\n",
       "      <td>8</td>\n",
       "      <td>Male</td>\n",
       "      <td>23</td>\n",
       "      <td>No</td>\n",
       "      <td>Yes</td>\n",
       "      <td>0</td>\n",
       "    </tr>\n",
       "    <tr>\n",
       "      <th>2</th>\n",
       "      <td>73</td>\n",
       "      <td>12.11</td>\n",
       "      <td>883.79</td>\n",
       "      <td>Basic</td>\n",
       "      <td>Mailed check</td>\n",
       "      <td>Yes</td>\n",
       "      <td>Movies</td>\n",
       "      <td>No</td>\n",
       "      <td>Computer</td>\n",
       "      <td>7.40</td>\n",
       "      <td>57.36</td>\n",
       "      <td>23</td>\n",
       "      <td>Fantasy</td>\n",
       "      <td>4.24</td>\n",
       "      <td>6</td>\n",
       "      <td>Male</td>\n",
       "      <td>1</td>\n",
       "      <td>Yes</td>\n",
       "      <td>Yes</td>\n",
       "      <td>0</td>\n",
       "    </tr>\n",
       "    <tr>\n",
       "      <th>3</th>\n",
       "      <td>32</td>\n",
       "      <td>7.26</td>\n",
       "      <td>232.44</td>\n",
       "      <td>Basic</td>\n",
       "      <td>Electronic check</td>\n",
       "      <td>No</td>\n",
       "      <td>TV Shows</td>\n",
       "      <td>No</td>\n",
       "      <td>Tablet</td>\n",
       "      <td>27.96</td>\n",
       "      <td>131.54</td>\n",
       "      <td>30</td>\n",
       "      <td>Drama</td>\n",
       "      <td>4.28</td>\n",
       "      <td>2</td>\n",
       "      <td>Male</td>\n",
       "      <td>24</td>\n",
       "      <td>Yes</td>\n",
       "      <td>Yes</td>\n",
       "      <td>0</td>\n",
       "    </tr>\n",
       "    <tr>\n",
       "      <th>4</th>\n",
       "      <td>57</td>\n",
       "      <td>16.95</td>\n",
       "      <td>966.33</td>\n",
       "      <td>Premium</td>\n",
       "      <td>Electronic check</td>\n",
       "      <td>Yes</td>\n",
       "      <td>TV Shows</td>\n",
       "      <td>No</td>\n",
       "      <td>TV</td>\n",
       "      <td>20.08</td>\n",
       "      <td>45.36</td>\n",
       "      <td>20</td>\n",
       "      <td>Comedy</td>\n",
       "      <td>3.62</td>\n",
       "      <td>4</td>\n",
       "      <td>Female</td>\n",
       "      <td>0</td>\n",
       "      <td>No</td>\n",
       "      <td>No</td>\n",
       "      <td>0</td>\n",
       "    </tr>\n",
       "  </tbody>\n",
       "</table>\n",
       "</div>"
      ],
      "text/plain": [
       "   accountage  monthlycharges  totalcharges subscriptiontype     paymentmethod paperlessbilling contenttype multideviceaccess deviceregistered  viewinghoursperweek  averageviewingduration  contentdownloadspermonth genrepreference  userrating  supportticketspermonth  gender  watchlistsize parentalcontrol subtitlesenabled  churn\n",
       "0          20           11.06        221.10          Premium      Mailed check               No        Both                No           Mobile                36.76                   63.53                        10          Sci-Fi        2.18                       4    Male              3              No               No      0\n",
       "1          57            5.18        294.99            Basic       Credit card              Yes      Movies                No           Tablet                32.45                   25.73                        18          Action        3.48                       8    Male             23              No              Yes      0\n",
       "2          73           12.11        883.79            Basic      Mailed check              Yes      Movies                No         Computer                 7.40                   57.36                        23         Fantasy        4.24                       6    Male              1             Yes              Yes      0\n",
       "3          32            7.26        232.44            Basic  Electronic check               No    TV Shows                No           Tablet                27.96                  131.54                        30           Drama        4.28                       2    Male             24             Yes              Yes      0\n",
       "4          57           16.95        966.33          Premium  Electronic check              Yes    TV Shows                No               TV                20.08                   45.36                        20          Comedy        3.62                       4  Female              0              No               No      0"
      ]
     },
     "execution_count": 4,
     "metadata": {},
     "output_type": "execute_result"
    }
   ],
   "source": [
    "train.head()"
   ]
  },
  {
   "cell_type": "code",
   "execution_count": 5,
   "metadata": {},
   "outputs": [
    {
     "name": "stdout",
     "output_type": "stream",
     "text": [
      "<class 'pandas.core.frame.DataFrame'>\n",
      "RangeIndex: 243787 entries, 0 to 243786\n",
      "Data columns (total 20 columns):\n",
      " #   Column                    Non-Null Count   Dtype  \n",
      "---  ------                    --------------   -----  \n",
      " 0   accountage                243787 non-null  int64  \n",
      " 1   monthlycharges            243787 non-null  float64\n",
      " 2   totalcharges              243787 non-null  float64\n",
      " 3   subscriptiontype          243787 non-null  object \n",
      " 4   paymentmethod             243787 non-null  object \n",
      " 5   paperlessbilling          243787 non-null  object \n",
      " 6   contenttype               243787 non-null  object \n",
      " 7   multideviceaccess         243787 non-null  object \n",
      " 8   deviceregistered          243787 non-null  object \n",
      " 9   viewinghoursperweek       243787 non-null  float64\n",
      " 10  averageviewingduration    243787 non-null  float64\n",
      " 11  contentdownloadspermonth  243787 non-null  int64  \n",
      " 12  genrepreference           243787 non-null  object \n",
      " 13  userrating                243787 non-null  float64\n",
      " 14  supportticketspermonth    243787 non-null  int64  \n",
      " 15  gender                    243787 non-null  object \n",
      " 16  watchlistsize             243787 non-null  int64  \n",
      " 17  parentalcontrol           243787 non-null  object \n",
      " 18  subtitlesenabled          243787 non-null  object \n",
      " 19  churn                     243787 non-null  int64  \n",
      "dtypes: float64(5), int64(5), object(10)\n",
      "memory usage: 37.2+ MB\n"
     ]
    }
   ],
   "source": [
    "train.info()"
   ]
  },
  {
   "cell_type": "code",
   "execution_count": 6,
   "metadata": {},
   "outputs": [
    {
     "data": {
      "text/plain": [
       "object     10\n",
       "int64       5\n",
       "float64     5\n",
       "dtype: int64"
      ]
     },
     "execution_count": 6,
     "metadata": {},
     "output_type": "execute_result"
    }
   ],
   "source": [
    "train.dtypes.value_counts()"
   ]
  },
  {
   "cell_type": "code",
   "execution_count": 7,
   "metadata": {},
   "outputs": [
    {
     "data": {
      "text/html": [
       "<div>\n",
       "<style scoped>\n",
       "    .dataframe tbody tr th:only-of-type {\n",
       "        vertical-align: middle;\n",
       "    }\n",
       "\n",
       "    .dataframe tbody tr th {\n",
       "        vertical-align: top;\n",
       "    }\n",
       "\n",
       "    .dataframe thead th {\n",
       "        text-align: right;\n",
       "    }\n",
       "</style>\n",
       "<table border=\"1\" class=\"dataframe\">\n",
       "  <thead>\n",
       "    <tr style=\"text-align: right;\">\n",
       "      <th></th>\n",
       "      <th>accountage</th>\n",
       "      <th>monthlycharges</th>\n",
       "      <th>totalcharges</th>\n",
       "      <th>viewinghoursperweek</th>\n",
       "      <th>averageviewingduration</th>\n",
       "      <th>contentdownloadspermonth</th>\n",
       "      <th>userrating</th>\n",
       "      <th>supportticketspermonth</th>\n",
       "      <th>watchlistsize</th>\n",
       "      <th>churn</th>\n",
       "    </tr>\n",
       "  </thead>\n",
       "  <tbody>\n",
       "    <tr>\n",
       "      <th>count</th>\n",
       "      <td>243787.00</td>\n",
       "      <td>243787.00</td>\n",
       "      <td>243787.00</td>\n",
       "      <td>243787.00</td>\n",
       "      <td>243787.00</td>\n",
       "      <td>243787.00</td>\n",
       "      <td>243787.00</td>\n",
       "      <td>243787.00</td>\n",
       "      <td>243787.00</td>\n",
       "      <td>243787.00</td>\n",
       "    </tr>\n",
       "    <tr>\n",
       "      <th>mean</th>\n",
       "      <td>60.08</td>\n",
       "      <td>12.49</td>\n",
       "      <td>750.74</td>\n",
       "      <td>20.50</td>\n",
       "      <td>92.26</td>\n",
       "      <td>24.50</td>\n",
       "      <td>3.00</td>\n",
       "      <td>4.50</td>\n",
       "      <td>12.02</td>\n",
       "      <td>0.18</td>\n",
       "    </tr>\n",
       "    <tr>\n",
       "      <th>std</th>\n",
       "      <td>34.29</td>\n",
       "      <td>4.33</td>\n",
       "      <td>523.07</td>\n",
       "      <td>11.24</td>\n",
       "      <td>50.51</td>\n",
       "      <td>14.42</td>\n",
       "      <td>1.16</td>\n",
       "      <td>2.87</td>\n",
       "      <td>7.19</td>\n",
       "      <td>0.39</td>\n",
       "    </tr>\n",
       "    <tr>\n",
       "      <th>min</th>\n",
       "      <td>1.00</td>\n",
       "      <td>4.99</td>\n",
       "      <td>4.99</td>\n",
       "      <td>1.00</td>\n",
       "      <td>5.00</td>\n",
       "      <td>0.00</td>\n",
       "      <td>1.00</td>\n",
       "      <td>0.00</td>\n",
       "      <td>0.00</td>\n",
       "      <td>0.00</td>\n",
       "    </tr>\n",
       "    <tr>\n",
       "      <th>25%</th>\n",
       "      <td>30.00</td>\n",
       "      <td>8.74</td>\n",
       "      <td>329.15</td>\n",
       "      <td>10.76</td>\n",
       "      <td>48.38</td>\n",
       "      <td>12.00</td>\n",
       "      <td>2.00</td>\n",
       "      <td>2.00</td>\n",
       "      <td>6.00</td>\n",
       "      <td>0.00</td>\n",
       "    </tr>\n",
       "    <tr>\n",
       "      <th>50%</th>\n",
       "      <td>60.00</td>\n",
       "      <td>12.50</td>\n",
       "      <td>649.88</td>\n",
       "      <td>20.52</td>\n",
       "      <td>92.25</td>\n",
       "      <td>24.00</td>\n",
       "      <td>3.00</td>\n",
       "      <td>4.00</td>\n",
       "      <td>12.00</td>\n",
       "      <td>0.00</td>\n",
       "    </tr>\n",
       "    <tr>\n",
       "      <th>75%</th>\n",
       "      <td>90.00</td>\n",
       "      <td>16.24</td>\n",
       "      <td>1089.32</td>\n",
       "      <td>30.22</td>\n",
       "      <td>135.91</td>\n",
       "      <td>37.00</td>\n",
       "      <td>4.00</td>\n",
       "      <td>7.00</td>\n",
       "      <td>18.00</td>\n",
       "      <td>0.00</td>\n",
       "    </tr>\n",
       "    <tr>\n",
       "      <th>max</th>\n",
       "      <td>119.00</td>\n",
       "      <td>19.99</td>\n",
       "      <td>2378.72</td>\n",
       "      <td>40.00</td>\n",
       "      <td>180.00</td>\n",
       "      <td>49.00</td>\n",
       "      <td>5.00</td>\n",
       "      <td>9.00</td>\n",
       "      <td>24.00</td>\n",
       "      <td>1.00</td>\n",
       "    </tr>\n",
       "  </tbody>\n",
       "</table>\n",
       "</div>"
      ],
      "text/plain": [
       "       accountage  monthlycharges  totalcharges  viewinghoursperweek  averageviewingduration  contentdownloadspermonth  userrating  supportticketspermonth  watchlistsize     churn\n",
       "count   243787.00       243787.00     243787.00            243787.00               243787.00                 243787.00   243787.00               243787.00      243787.00 243787.00\n",
       "mean        60.08           12.49        750.74                20.50                   92.26                     24.50        3.00                    4.50          12.02      0.18\n",
       "std         34.29            4.33        523.07                11.24                   50.51                     14.42        1.16                    2.87           7.19      0.39\n",
       "min          1.00            4.99          4.99                 1.00                    5.00                      0.00        1.00                    0.00           0.00      0.00\n",
       "25%         30.00            8.74        329.15                10.76                   48.38                     12.00        2.00                    2.00           6.00      0.00\n",
       "50%         60.00           12.50        649.88                20.52                   92.25                     24.00        3.00                    4.00          12.00      0.00\n",
       "75%         90.00           16.24       1089.32                30.22                  135.91                     37.00        4.00                    7.00          18.00      0.00\n",
       "max        119.00           19.99       2378.72                40.00                  180.00                     49.00        5.00                    9.00          24.00      1.00"
      ]
     },
     "execution_count": 7,
     "metadata": {},
     "output_type": "execute_result"
    }
   ],
   "source": [
    "# Descriptive Statistical Analysis\n",
    "train.describe(include=[\"int\", \"float\"])"
   ]
  },
  {
   "cell_type": "code",
   "execution_count": 8,
   "metadata": {},
   "outputs": [
    {
     "data": {
      "text/html": [
       "<div>\n",
       "<style scoped>\n",
       "    .dataframe tbody tr th:only-of-type {\n",
       "        vertical-align: middle;\n",
       "    }\n",
       "\n",
       "    .dataframe tbody tr th {\n",
       "        vertical-align: top;\n",
       "    }\n",
       "\n",
       "    .dataframe thead th {\n",
       "        text-align: right;\n",
       "    }\n",
       "</style>\n",
       "<table border=\"1\" class=\"dataframe\">\n",
       "  <thead>\n",
       "    <tr style=\"text-align: right;\">\n",
       "      <th></th>\n",
       "      <th>subscriptiontype</th>\n",
       "      <th>paymentmethod</th>\n",
       "      <th>paperlessbilling</th>\n",
       "      <th>contenttype</th>\n",
       "      <th>multideviceaccess</th>\n",
       "      <th>deviceregistered</th>\n",
       "      <th>genrepreference</th>\n",
       "      <th>gender</th>\n",
       "      <th>parentalcontrol</th>\n",
       "      <th>subtitlesenabled</th>\n",
       "    </tr>\n",
       "  </thead>\n",
       "  <tbody>\n",
       "    <tr>\n",
       "      <th>count</th>\n",
       "      <td>243787</td>\n",
       "      <td>243787</td>\n",
       "      <td>243787</td>\n",
       "      <td>243787</td>\n",
       "      <td>243787</td>\n",
       "      <td>243787</td>\n",
       "      <td>243787</td>\n",
       "      <td>243787</td>\n",
       "      <td>243787</td>\n",
       "      <td>243787</td>\n",
       "    </tr>\n",
       "    <tr>\n",
       "      <th>unique</th>\n",
       "      <td>3</td>\n",
       "      <td>4</td>\n",
       "      <td>2</td>\n",
       "      <td>3</td>\n",
       "      <td>2</td>\n",
       "      <td>4</td>\n",
       "      <td>5</td>\n",
       "      <td>2</td>\n",
       "      <td>2</td>\n",
       "      <td>2</td>\n",
       "    </tr>\n",
       "    <tr>\n",
       "      <th>top</th>\n",
       "      <td>Standard</td>\n",
       "      <td>Electronic check</td>\n",
       "      <td>No</td>\n",
       "      <td>Both</td>\n",
       "      <td>No</td>\n",
       "      <td>Computer</td>\n",
       "      <td>Comedy</td>\n",
       "      <td>Female</td>\n",
       "      <td>Yes</td>\n",
       "      <td>Yes</td>\n",
       "    </tr>\n",
       "    <tr>\n",
       "      <th>freq</th>\n",
       "      <td>81920</td>\n",
       "      <td>61313</td>\n",
       "      <td>121980</td>\n",
       "      <td>81737</td>\n",
       "      <td>122035</td>\n",
       "      <td>61147</td>\n",
       "      <td>49060</td>\n",
       "      <td>121930</td>\n",
       "      <td>122085</td>\n",
       "      <td>122180</td>\n",
       "    </tr>\n",
       "  </tbody>\n",
       "</table>\n",
       "</div>"
      ],
      "text/plain": [
       "       subscriptiontype     paymentmethod paperlessbilling contenttype multideviceaccess deviceregistered genrepreference  gender parentalcontrol subtitlesenabled\n",
       "count            243787            243787           243787      243787            243787           243787          243787  243787          243787           243787\n",
       "unique                3                 4                2           3                 2                4               5       2               2                2\n",
       "top            Standard  Electronic check               No        Both                No         Computer          Comedy  Female             Yes              Yes\n",
       "freq              81920             61313           121980       81737            122035            61147           49060  121930          122085           122180"
      ]
     },
     "execution_count": 8,
     "metadata": {},
     "output_type": "execute_result"
    }
   ],
   "source": [
    "# Descriptive Statistical Analysis\n",
    "train.describe(include=\"object\")"
   ]
  },
  {
   "cell_type": "code",
   "execution_count": 12,
   "metadata": {},
   "outputs": [
    {
     "data": {
      "text/plain": [
       "0    199605\n",
       "1     44182\n",
       "Name: churn, dtype: int64"
      ]
     },
     "execution_count": 12,
     "metadata": {},
     "output_type": "execute_result"
    }
   ],
   "source": [
    "# Check target variable\n",
    "\n",
    "train.churn.value_counts()"
   ]
  },
  {
   "cell_type": "code",
   "execution_count": 10,
   "metadata": {},
   "outputs": [
    {
     "data": {
      "text/plain": [
       "accountage                  0\n",
       "monthlycharges              0\n",
       "totalcharges                0\n",
       "subscriptiontype            0\n",
       "paymentmethod               0\n",
       "paperlessbilling            0\n",
       "contenttype                 0\n",
       "multideviceaccess           0\n",
       "deviceregistered            0\n",
       "viewinghoursperweek         0\n",
       "averageviewingduration      0\n",
       "contentdownloadspermonth    0\n",
       "genrepreference             0\n",
       "userrating                  0\n",
       "supportticketspermonth      0\n",
       "gender                      0\n",
       "watchlistsize               0\n",
       "parentalcontrol             0\n",
       "subtitlesenabled            0\n",
       "churn                       0\n",
       "dtype: int64"
      ]
     },
     "execution_count": 10,
     "metadata": {},
     "output_type": "execute_result"
    }
   ],
   "source": [
    "train.isnull().sum()"
   ]
  },
  {
   "cell_type": "code",
   "execution_count": 11,
   "metadata": {},
   "outputs": [
    {
     "data": {
      "text/plain": [
       "0"
      ]
     },
     "execution_count": 11,
     "metadata": {},
     "output_type": "execute_result"
    }
   ],
   "source": [
    "train.duplicated().sum()"
   ]
  },
  {
   "cell_type": "markdown",
   "metadata": {},
   "source": [
    "# Test dataset"
   ]
  },
  {
   "cell_type": "code",
   "execution_count": 13,
   "metadata": {},
   "outputs": [],
   "source": [
    "test = pd.read_csv(\"test.csv\")"
   ]
  },
  {
   "cell_type": "code",
   "execution_count": 14,
   "metadata": {},
   "outputs": [
    {
     "data": {
      "text/html": [
       "<div>\n",
       "<style scoped>\n",
       "    .dataframe tbody tr th:only-of-type {\n",
       "        vertical-align: middle;\n",
       "    }\n",
       "\n",
       "    .dataframe tbody tr th {\n",
       "        vertical-align: top;\n",
       "    }\n",
       "\n",
       "    .dataframe thead th {\n",
       "        text-align: right;\n",
       "    }\n",
       "</style>\n",
       "<table border=\"1\" class=\"dataframe\">\n",
       "  <thead>\n",
       "    <tr style=\"text-align: right;\">\n",
       "      <th></th>\n",
       "      <th>accountage</th>\n",
       "      <th>monthlycharges</th>\n",
       "      <th>totalcharges</th>\n",
       "      <th>subscriptiontype</th>\n",
       "      <th>paymentmethod</th>\n",
       "      <th>paperlessbilling</th>\n",
       "      <th>contenttype</th>\n",
       "      <th>multideviceaccess</th>\n",
       "      <th>deviceregistered</th>\n",
       "      <th>viewinghoursperweek</th>\n",
       "      <th>averageviewingduration</th>\n",
       "      <th>contentdownloadspermonth</th>\n",
       "      <th>genrepreference</th>\n",
       "      <th>userrating</th>\n",
       "      <th>supportticketspermonth</th>\n",
       "      <th>gender</th>\n",
       "      <th>watchlistsize</th>\n",
       "      <th>parentalcontrol</th>\n",
       "      <th>subtitlesenabled</th>\n",
       "    </tr>\n",
       "  </thead>\n",
       "  <tbody>\n",
       "    <tr>\n",
       "      <th>0</th>\n",
       "      <td>38</td>\n",
       "      <td>17.87</td>\n",
       "      <td>679.04</td>\n",
       "      <td>Premium</td>\n",
       "      <td>Mailed check</td>\n",
       "      <td>No</td>\n",
       "      <td>TV Shows</td>\n",
       "      <td>No</td>\n",
       "      <td>TV</td>\n",
       "      <td>29.13</td>\n",
       "      <td>122.27</td>\n",
       "      <td>42</td>\n",
       "      <td>Comedy</td>\n",
       "      <td>3.52</td>\n",
       "      <td>2</td>\n",
       "      <td>Male</td>\n",
       "      <td>23</td>\n",
       "      <td>No</td>\n",
       "      <td>No</td>\n",
       "    </tr>\n",
       "    <tr>\n",
       "      <th>1</th>\n",
       "      <td>77</td>\n",
       "      <td>9.91</td>\n",
       "      <td>763.29</td>\n",
       "      <td>Basic</td>\n",
       "      <td>Electronic check</td>\n",
       "      <td>Yes</td>\n",
       "      <td>TV Shows</td>\n",
       "      <td>No</td>\n",
       "      <td>TV</td>\n",
       "      <td>36.87</td>\n",
       "      <td>57.09</td>\n",
       "      <td>43</td>\n",
       "      <td>Action</td>\n",
       "      <td>2.02</td>\n",
       "      <td>2</td>\n",
       "      <td>Female</td>\n",
       "      <td>22</td>\n",
       "      <td>Yes</td>\n",
       "      <td>No</td>\n",
       "    </tr>\n",
       "    <tr>\n",
       "      <th>2</th>\n",
       "      <td>5</td>\n",
       "      <td>15.02</td>\n",
       "      <td>75.10</td>\n",
       "      <td>Standard</td>\n",
       "      <td>Bank transfer</td>\n",
       "      <td>No</td>\n",
       "      <td>TV Shows</td>\n",
       "      <td>Yes</td>\n",
       "      <td>Computer</td>\n",
       "      <td>7.60</td>\n",
       "      <td>140.41</td>\n",
       "      <td>14</td>\n",
       "      <td>Sci-Fi</td>\n",
       "      <td>4.81</td>\n",
       "      <td>2</td>\n",
       "      <td>Female</td>\n",
       "      <td>22</td>\n",
       "      <td>No</td>\n",
       "      <td>Yes</td>\n",
       "    </tr>\n",
       "    <tr>\n",
       "      <th>3</th>\n",
       "      <td>88</td>\n",
       "      <td>15.36</td>\n",
       "      <td>1351.45</td>\n",
       "      <td>Standard</td>\n",
       "      <td>Electronic check</td>\n",
       "      <td>No</td>\n",
       "      <td>Both</td>\n",
       "      <td>Yes</td>\n",
       "      <td>Tablet</td>\n",
       "      <td>35.59</td>\n",
       "      <td>177.00</td>\n",
       "      <td>14</td>\n",
       "      <td>Comedy</td>\n",
       "      <td>4.94</td>\n",
       "      <td>0</td>\n",
       "      <td>Female</td>\n",
       "      <td>23</td>\n",
       "      <td>Yes</td>\n",
       "      <td>Yes</td>\n",
       "    </tr>\n",
       "    <tr>\n",
       "      <th>4</th>\n",
       "      <td>91</td>\n",
       "      <td>12.41</td>\n",
       "      <td>1128.95</td>\n",
       "      <td>Standard</td>\n",
       "      <td>Credit card</td>\n",
       "      <td>Yes</td>\n",
       "      <td>TV Shows</td>\n",
       "      <td>Yes</td>\n",
       "      <td>Tablet</td>\n",
       "      <td>23.50</td>\n",
       "      <td>70.31</td>\n",
       "      <td>6</td>\n",
       "      <td>Drama</td>\n",
       "      <td>2.85</td>\n",
       "      <td>6</td>\n",
       "      <td>Female</td>\n",
       "      <td>0</td>\n",
       "      <td>No</td>\n",
       "      <td>No</td>\n",
       "    </tr>\n",
       "  </tbody>\n",
       "</table>\n",
       "</div>"
      ],
      "text/plain": [
       "   accountage  monthlycharges  totalcharges subscriptiontype     paymentmethod paperlessbilling contenttype multideviceaccess deviceregistered  viewinghoursperweek  averageviewingduration  contentdownloadspermonth genrepreference  userrating  supportticketspermonth  gender  watchlistsize parentalcontrol subtitlesenabled\n",
       "0          38           17.87        679.04          Premium      Mailed check               No    TV Shows                No               TV                29.13                  122.27                        42          Comedy        3.52                       2    Male             23              No               No\n",
       "1          77            9.91        763.29            Basic  Electronic check              Yes    TV Shows                No               TV                36.87                   57.09                        43          Action        2.02                       2  Female             22             Yes               No\n",
       "2           5           15.02         75.10         Standard     Bank transfer               No    TV Shows               Yes         Computer                 7.60                  140.41                        14          Sci-Fi        4.81                       2  Female             22              No              Yes\n",
       "3          88           15.36       1351.45         Standard  Electronic check               No        Both               Yes           Tablet                35.59                  177.00                        14          Comedy        4.94                       0  Female             23             Yes              Yes\n",
       "4          91           12.41       1128.95         Standard       Credit card              Yes    TV Shows               Yes           Tablet                23.50                   70.31                         6           Drama        2.85                       6  Female              0              No               No"
      ]
     },
     "execution_count": 14,
     "metadata": {},
     "output_type": "execute_result"
    }
   ],
   "source": [
    "test.head()"
   ]
  },
  {
   "cell_type": "code",
   "execution_count": 15,
   "metadata": {},
   "outputs": [
    {
     "name": "stdout",
     "output_type": "stream",
     "text": [
      "<class 'pandas.core.frame.DataFrame'>\n",
      "RangeIndex: 104480 entries, 0 to 104479\n",
      "Data columns (total 19 columns):\n",
      " #   Column                    Non-Null Count   Dtype  \n",
      "---  ------                    --------------   -----  \n",
      " 0   accountage                104480 non-null  int64  \n",
      " 1   monthlycharges            104480 non-null  float64\n",
      " 2   totalcharges              104480 non-null  float64\n",
      " 3   subscriptiontype          104480 non-null  object \n",
      " 4   paymentmethod             104480 non-null  object \n",
      " 5   paperlessbilling          104480 non-null  object \n",
      " 6   contenttype               104480 non-null  object \n",
      " 7   multideviceaccess         104480 non-null  object \n",
      " 8   deviceregistered          104480 non-null  object \n",
      " 9   viewinghoursperweek       104480 non-null  float64\n",
      " 10  averageviewingduration    104480 non-null  float64\n",
      " 11  contentdownloadspermonth  104480 non-null  int64  \n",
      " 12  genrepreference           104480 non-null  object \n",
      " 13  userrating                104480 non-null  float64\n",
      " 14  supportticketspermonth    104480 non-null  int64  \n",
      " 15  gender                    104480 non-null  object \n",
      " 16  watchlistsize             104480 non-null  int64  \n",
      " 17  parentalcontrol           104480 non-null  object \n",
      " 18  subtitlesenabled          104480 non-null  object \n",
      "dtypes: float64(5), int64(4), object(10)\n",
      "memory usage: 15.1+ MB\n"
     ]
    }
   ],
   "source": [
    "test.info()"
   ]
  },
  {
   "cell_type": "code",
   "execution_count": 16,
   "metadata": {},
   "outputs": [
    {
     "data": {
      "text/plain": [
       "object     10\n",
       "float64     5\n",
       "int64       4\n",
       "dtype: int64"
      ]
     },
     "execution_count": 16,
     "metadata": {},
     "output_type": "execute_result"
    }
   ],
   "source": [
    "test.dtypes.value_counts()"
   ]
  },
  {
   "cell_type": "code",
   "execution_count": 17,
   "metadata": {},
   "outputs": [
    {
     "data": {
      "text/html": [
       "<div>\n",
       "<style scoped>\n",
       "    .dataframe tbody tr th:only-of-type {\n",
       "        vertical-align: middle;\n",
       "    }\n",
       "\n",
       "    .dataframe tbody tr th {\n",
       "        vertical-align: top;\n",
       "    }\n",
       "\n",
       "    .dataframe thead th {\n",
       "        text-align: right;\n",
       "    }\n",
       "</style>\n",
       "<table border=\"1\" class=\"dataframe\">\n",
       "  <thead>\n",
       "    <tr style=\"text-align: right;\">\n",
       "      <th></th>\n",
       "      <th>accountage</th>\n",
       "      <th>monthlycharges</th>\n",
       "      <th>totalcharges</th>\n",
       "      <th>viewinghoursperweek</th>\n",
       "      <th>averageviewingduration</th>\n",
       "      <th>contentdownloadspermonth</th>\n",
       "      <th>userrating</th>\n",
       "      <th>supportticketspermonth</th>\n",
       "      <th>watchlistsize</th>\n",
       "    </tr>\n",
       "  </thead>\n",
       "  <tbody>\n",
       "    <tr>\n",
       "      <th>count</th>\n",
       "      <td>104480.00</td>\n",
       "      <td>104480.00</td>\n",
       "      <td>104480.00</td>\n",
       "      <td>104480.00</td>\n",
       "      <td>104480.00</td>\n",
       "      <td>104480.00</td>\n",
       "      <td>104480.00</td>\n",
       "      <td>104480.00</td>\n",
       "      <td>104480.00</td>\n",
       "    </tr>\n",
       "    <tr>\n",
       "      <th>mean</th>\n",
       "      <td>60.06</td>\n",
       "      <td>12.47</td>\n",
       "      <td>748.17</td>\n",
       "      <td>20.49</td>\n",
       "      <td>92.65</td>\n",
       "      <td>24.45</td>\n",
       "      <td>3.00</td>\n",
       "      <td>4.51</td>\n",
       "      <td>12.04</td>\n",
       "    </tr>\n",
       "    <tr>\n",
       "      <th>std</th>\n",
       "      <td>34.29</td>\n",
       "      <td>4.33</td>\n",
       "      <td>520.78</td>\n",
       "      <td>11.24</td>\n",
       "      <td>50.63</td>\n",
       "      <td>14.45</td>\n",
       "      <td>1.15</td>\n",
       "      <td>2.88</td>\n",
       "      <td>7.20</td>\n",
       "    </tr>\n",
       "    <tr>\n",
       "      <th>min</th>\n",
       "      <td>1.00</td>\n",
       "      <td>4.99</td>\n",
       "      <td>5.02</td>\n",
       "      <td>1.00</td>\n",
       "      <td>5.00</td>\n",
       "      <td>0.00</td>\n",
       "      <td>1.00</td>\n",
       "      <td>0.00</td>\n",
       "      <td>0.00</td>\n",
       "    </tr>\n",
       "    <tr>\n",
       "      <th>25%</th>\n",
       "      <td>30.00</td>\n",
       "      <td>8.73</td>\n",
       "      <td>328.96</td>\n",
       "      <td>10.77</td>\n",
       "      <td>48.55</td>\n",
       "      <td>12.00</td>\n",
       "      <td>2.00</td>\n",
       "      <td>2.00</td>\n",
       "      <td>6.00</td>\n",
       "    </tr>\n",
       "    <tr>\n",
       "      <th>50%</th>\n",
       "      <td>60.00</td>\n",
       "      <td>12.45</td>\n",
       "      <td>649.39</td>\n",
       "      <td>20.47</td>\n",
       "      <td>92.53</td>\n",
       "      <td>25.00</td>\n",
       "      <td>3.00</td>\n",
       "      <td>5.00</td>\n",
       "      <td>12.00</td>\n",
       "    </tr>\n",
       "    <tr>\n",
       "      <th>75%</th>\n",
       "      <td>90.00</td>\n",
       "      <td>16.21</td>\n",
       "      <td>1081.27</td>\n",
       "      <td>30.20</td>\n",
       "      <td>136.62</td>\n",
       "      <td>37.00</td>\n",
       "      <td>4.00</td>\n",
       "      <td>7.00</td>\n",
       "      <td>18.00</td>\n",
       "    </tr>\n",
       "    <tr>\n",
       "      <th>max</th>\n",
       "      <td>119.00</td>\n",
       "      <td>19.99</td>\n",
       "      <td>2376.24</td>\n",
       "      <td>40.00</td>\n",
       "      <td>180.00</td>\n",
       "      <td>49.00</td>\n",
       "      <td>5.00</td>\n",
       "      <td>9.00</td>\n",
       "      <td>24.00</td>\n",
       "    </tr>\n",
       "  </tbody>\n",
       "</table>\n",
       "</div>"
      ],
      "text/plain": [
       "       accountage  monthlycharges  totalcharges  viewinghoursperweek  averageviewingduration  contentdownloadspermonth  userrating  supportticketspermonth  watchlistsize\n",
       "count   104480.00       104480.00     104480.00            104480.00               104480.00                 104480.00   104480.00               104480.00      104480.00\n",
       "mean        60.06           12.47        748.17                20.49                   92.65                     24.45        3.00                    4.51          12.04\n",
       "std         34.29            4.33        520.78                11.24                   50.63                     14.45        1.15                    2.88           7.20\n",
       "min          1.00            4.99          5.02                 1.00                    5.00                      0.00        1.00                    0.00           0.00\n",
       "25%         30.00            8.73        328.96                10.77                   48.55                     12.00        2.00                    2.00           6.00\n",
       "50%         60.00           12.45        649.39                20.47                   92.53                     25.00        3.00                    5.00          12.00\n",
       "75%         90.00           16.21       1081.27                30.20                  136.62                     37.00        4.00                    7.00          18.00\n",
       "max        119.00           19.99       2376.24                40.00                  180.00                     49.00        5.00                    9.00          24.00"
      ]
     },
     "execution_count": 17,
     "metadata": {},
     "output_type": "execute_result"
    }
   ],
   "source": [
    "# Descriptive Statistical Analysis\n",
    "test.describe(include=[\"int\", \"float\"])"
   ]
  },
  {
   "cell_type": "code",
   "execution_count": 18,
   "metadata": {},
   "outputs": [
    {
     "data": {
      "text/html": [
       "<div>\n",
       "<style scoped>\n",
       "    .dataframe tbody tr th:only-of-type {\n",
       "        vertical-align: middle;\n",
       "    }\n",
       "\n",
       "    .dataframe tbody tr th {\n",
       "        vertical-align: top;\n",
       "    }\n",
       "\n",
       "    .dataframe thead th {\n",
       "        text-align: right;\n",
       "    }\n",
       "</style>\n",
       "<table border=\"1\" class=\"dataframe\">\n",
       "  <thead>\n",
       "    <tr style=\"text-align: right;\">\n",
       "      <th></th>\n",
       "      <th>subscriptiontype</th>\n",
       "      <th>paymentmethod</th>\n",
       "      <th>paperlessbilling</th>\n",
       "      <th>contenttype</th>\n",
       "      <th>multideviceaccess</th>\n",
       "      <th>deviceregistered</th>\n",
       "      <th>genrepreference</th>\n",
       "      <th>gender</th>\n",
       "      <th>parentalcontrol</th>\n",
       "      <th>subtitlesenabled</th>\n",
       "    </tr>\n",
       "  </thead>\n",
       "  <tbody>\n",
       "    <tr>\n",
       "      <th>count</th>\n",
       "      <td>104480</td>\n",
       "      <td>104480</td>\n",
       "      <td>104480</td>\n",
       "      <td>104480</td>\n",
       "      <td>104480</td>\n",
       "      <td>104480</td>\n",
       "      <td>104480</td>\n",
       "      <td>104480</td>\n",
       "      <td>104480</td>\n",
       "      <td>104480</td>\n",
       "    </tr>\n",
       "    <tr>\n",
       "      <th>unique</th>\n",
       "      <td>3</td>\n",
       "      <td>4</td>\n",
       "      <td>2</td>\n",
       "      <td>3</td>\n",
       "      <td>2</td>\n",
       "      <td>4</td>\n",
       "      <td>5</td>\n",
       "      <td>2</td>\n",
       "      <td>2</td>\n",
       "      <td>2</td>\n",
       "    </tr>\n",
       "    <tr>\n",
       "      <th>top</th>\n",
       "      <td>Basic</td>\n",
       "      <td>Mailed check</td>\n",
       "      <td>No</td>\n",
       "      <td>Both</td>\n",
       "      <td>Yes</td>\n",
       "      <td>Tablet</td>\n",
       "      <td>Drama</td>\n",
       "      <td>Female</td>\n",
       "      <td>No</td>\n",
       "      <td>Yes</td>\n",
       "    </tr>\n",
       "    <tr>\n",
       "      <th>freq</th>\n",
       "      <td>34956</td>\n",
       "      <td>26166</td>\n",
       "      <td>52564</td>\n",
       "      <td>35087</td>\n",
       "      <td>52387</td>\n",
       "      <td>26337</td>\n",
       "      <td>21066</td>\n",
       "      <td>52326</td>\n",
       "      <td>52520</td>\n",
       "      <td>52259</td>\n",
       "    </tr>\n",
       "  </tbody>\n",
       "</table>\n",
       "</div>"
      ],
      "text/plain": [
       "       subscriptiontype paymentmethod paperlessbilling contenttype multideviceaccess deviceregistered genrepreference  gender parentalcontrol subtitlesenabled\n",
       "count            104480        104480           104480      104480            104480           104480          104480  104480          104480           104480\n",
       "unique                3             4                2           3                 2                4               5       2               2                2\n",
       "top               Basic  Mailed check               No        Both               Yes           Tablet           Drama  Female              No              Yes\n",
       "freq              34956         26166            52564       35087             52387            26337           21066   52326           52520            52259"
      ]
     },
     "execution_count": 18,
     "metadata": {},
     "output_type": "execute_result"
    }
   ],
   "source": [
    "# Descriptive Statistical Analysis\n",
    "test.describe(include=\"object\")"
   ]
  },
  {
   "cell_type": "code",
   "execution_count": 19,
   "metadata": {},
   "outputs": [],
   "source": [
    "# Check target variable\n",
    "\n",
    "# test.Churn.value_counts()"
   ]
  },
  {
   "cell_type": "code",
   "execution_count": 20,
   "metadata": {},
   "outputs": [
    {
     "data": {
      "text/plain": [
       "accountage                  0\n",
       "monthlycharges              0\n",
       "totalcharges                0\n",
       "subscriptiontype            0\n",
       "paymentmethod               0\n",
       "paperlessbilling            0\n",
       "contenttype                 0\n",
       "multideviceaccess           0\n",
       "deviceregistered            0\n",
       "viewinghoursperweek         0\n",
       "averageviewingduration      0\n",
       "contentdownloadspermonth    0\n",
       "genrepreference             0\n",
       "userrating                  0\n",
       "supportticketspermonth      0\n",
       "gender                      0\n",
       "watchlistsize               0\n",
       "parentalcontrol             0\n",
       "subtitlesenabled            0\n",
       "dtype: int64"
      ]
     },
     "execution_count": 20,
     "metadata": {},
     "output_type": "execute_result"
    }
   ],
   "source": [
    "test.isnull().sum()"
   ]
  },
  {
   "cell_type": "code",
   "execution_count": 21,
   "metadata": {},
   "outputs": [
    {
     "data": {
      "text/plain": [
       "0"
      ]
     },
     "execution_count": 21,
     "metadata": {},
     "output_type": "execute_result"
    }
   ],
   "source": [
    "test.duplicated().sum()"
   ]
  },
  {
   "cell_type": "markdown",
   "metadata": {},
   "source": [
    "## Combine both dataset"
   ]
  },
  {
   "cell_type": "markdown",
   "metadata": {},
   "source": [
    "When you split the data set into three splits, what we get is the test data set. The three splits consist of training data set, validation data set and test data set. You train the model using the training data set and assess the model performance using the validation data set. You optimize the model performance using training and validation data set. Finally, you test the model generalization performance using the test data set. The test data set remains hidden during the model training and model performance evaluation stage. One can split the data into a 70:20:10 ratio. 10% of the data set can be set aside as test data for testing the model performance. "
   ]
  },
  {
   "cell_type": "code",
   "execution_count": 22,
   "metadata": {},
   "outputs": [
    {
     "data": {
      "text/html": [
       "<div>\n",
       "<style scoped>\n",
       "    .dataframe tbody tr th:only-of-type {\n",
       "        vertical-align: middle;\n",
       "    }\n",
       "\n",
       "    .dataframe tbody tr th {\n",
       "        vertical-align: top;\n",
       "    }\n",
       "\n",
       "    .dataframe thead th {\n",
       "        text-align: right;\n",
       "    }\n",
       "</style>\n",
       "<table border=\"1\" class=\"dataframe\">\n",
       "  <thead>\n",
       "    <tr style=\"text-align: right;\">\n",
       "      <th></th>\n",
       "      <th>accountage</th>\n",
       "      <th>monthlycharges</th>\n",
       "      <th>totalcharges</th>\n",
       "      <th>subscriptiontype</th>\n",
       "      <th>paymentmethod</th>\n",
       "      <th>paperlessbilling</th>\n",
       "      <th>contenttype</th>\n",
       "      <th>multideviceaccess</th>\n",
       "      <th>deviceregistered</th>\n",
       "      <th>viewinghoursperweek</th>\n",
       "      <th>averageviewingduration</th>\n",
       "      <th>contentdownloadspermonth</th>\n",
       "      <th>genrepreference</th>\n",
       "      <th>userrating</th>\n",
       "      <th>supportticketspermonth</th>\n",
       "      <th>gender</th>\n",
       "      <th>watchlistsize</th>\n",
       "      <th>parentalcontrol</th>\n",
       "      <th>subtitlesenabled</th>\n",
       "      <th>churn</th>\n",
       "    </tr>\n",
       "  </thead>\n",
       "  <tbody>\n",
       "    <tr>\n",
       "      <th>0</th>\n",
       "      <td>20</td>\n",
       "      <td>11.06</td>\n",
       "      <td>221.10</td>\n",
       "      <td>Premium</td>\n",
       "      <td>Mailed check</td>\n",
       "      <td>No</td>\n",
       "      <td>Both</td>\n",
       "      <td>No</td>\n",
       "      <td>Mobile</td>\n",
       "      <td>36.76</td>\n",
       "      <td>63.53</td>\n",
       "      <td>10</td>\n",
       "      <td>Sci-Fi</td>\n",
       "      <td>2.18</td>\n",
       "      <td>4</td>\n",
       "      <td>Male</td>\n",
       "      <td>3</td>\n",
       "      <td>No</td>\n",
       "      <td>No</td>\n",
       "      <td>0</td>\n",
       "    </tr>\n",
       "    <tr>\n",
       "      <th>1</th>\n",
       "      <td>57</td>\n",
       "      <td>5.18</td>\n",
       "      <td>294.99</td>\n",
       "      <td>Basic</td>\n",
       "      <td>Credit card</td>\n",
       "      <td>Yes</td>\n",
       "      <td>Movies</td>\n",
       "      <td>No</td>\n",
       "      <td>Tablet</td>\n",
       "      <td>32.45</td>\n",
       "      <td>25.73</td>\n",
       "      <td>18</td>\n",
       "      <td>Action</td>\n",
       "      <td>3.48</td>\n",
       "      <td>8</td>\n",
       "      <td>Male</td>\n",
       "      <td>23</td>\n",
       "      <td>No</td>\n",
       "      <td>Yes</td>\n",
       "      <td>0</td>\n",
       "    </tr>\n",
       "    <tr>\n",
       "      <th>2</th>\n",
       "      <td>73</td>\n",
       "      <td>12.11</td>\n",
       "      <td>883.79</td>\n",
       "      <td>Basic</td>\n",
       "      <td>Mailed check</td>\n",
       "      <td>Yes</td>\n",
       "      <td>Movies</td>\n",
       "      <td>No</td>\n",
       "      <td>Computer</td>\n",
       "      <td>7.40</td>\n",
       "      <td>57.36</td>\n",
       "      <td>23</td>\n",
       "      <td>Fantasy</td>\n",
       "      <td>4.24</td>\n",
       "      <td>6</td>\n",
       "      <td>Male</td>\n",
       "      <td>1</td>\n",
       "      <td>Yes</td>\n",
       "      <td>Yes</td>\n",
       "      <td>0</td>\n",
       "    </tr>\n",
       "    <tr>\n",
       "      <th>3</th>\n",
       "      <td>32</td>\n",
       "      <td>7.26</td>\n",
       "      <td>232.44</td>\n",
       "      <td>Basic</td>\n",
       "      <td>Electronic check</td>\n",
       "      <td>No</td>\n",
       "      <td>TV Shows</td>\n",
       "      <td>No</td>\n",
       "      <td>Tablet</td>\n",
       "      <td>27.96</td>\n",
       "      <td>131.54</td>\n",
       "      <td>30</td>\n",
       "      <td>Drama</td>\n",
       "      <td>4.28</td>\n",
       "      <td>2</td>\n",
       "      <td>Male</td>\n",
       "      <td>24</td>\n",
       "      <td>Yes</td>\n",
       "      <td>Yes</td>\n",
       "      <td>0</td>\n",
       "    </tr>\n",
       "    <tr>\n",
       "      <th>4</th>\n",
       "      <td>57</td>\n",
       "      <td>16.95</td>\n",
       "      <td>966.33</td>\n",
       "      <td>Premium</td>\n",
       "      <td>Electronic check</td>\n",
       "      <td>Yes</td>\n",
       "      <td>TV Shows</td>\n",
       "      <td>No</td>\n",
       "      <td>TV</td>\n",
       "      <td>20.08</td>\n",
       "      <td>45.36</td>\n",
       "      <td>20</td>\n",
       "      <td>Comedy</td>\n",
       "      <td>3.62</td>\n",
       "      <td>4</td>\n",
       "      <td>Female</td>\n",
       "      <td>0</td>\n",
       "      <td>No</td>\n",
       "      <td>No</td>\n",
       "      <td>0</td>\n",
       "    </tr>\n",
       "  </tbody>\n",
       "</table>\n",
       "</div>"
      ],
      "text/plain": [
       "   accountage  monthlycharges  totalcharges subscriptiontype     paymentmethod paperlessbilling contenttype multideviceaccess deviceregistered  viewinghoursperweek  averageviewingduration  contentdownloadspermonth genrepreference  userrating  supportticketspermonth  gender  watchlistsize parentalcontrol subtitlesenabled  churn\n",
       "0          20           11.06        221.10          Premium      Mailed check               No        Both                No           Mobile                36.76                   63.53                        10          Sci-Fi        2.18                       4    Male              3              No               No      0\n",
       "1          57            5.18        294.99            Basic       Credit card              Yes      Movies                No           Tablet                32.45                   25.73                        18          Action        3.48                       8    Male             23              No              Yes      0\n",
       "2          73           12.11        883.79            Basic      Mailed check              Yes      Movies                No         Computer                 7.40                   57.36                        23         Fantasy        4.24                       6    Male              1             Yes              Yes      0\n",
       "3          32            7.26        232.44            Basic  Electronic check               No    TV Shows                No           Tablet                27.96                  131.54                        30           Drama        4.28                       2    Male             24             Yes              Yes      0\n",
       "4          57           16.95        966.33          Premium  Electronic check              Yes    TV Shows                No               TV                20.08                   45.36                        20          Comedy        3.62                       4  Female              0              No               No      0"
      ]
     },
     "execution_count": 22,
     "metadata": {},
     "output_type": "execute_result"
    }
   ],
   "source": [
    "train.head()"
   ]
  },
  {
   "cell_type": "code",
   "execution_count": 23,
   "metadata": {},
   "outputs": [
    {
     "data": {
      "text/html": [
       "<div>\n",
       "<style scoped>\n",
       "    .dataframe tbody tr th:only-of-type {\n",
       "        vertical-align: middle;\n",
       "    }\n",
       "\n",
       "    .dataframe tbody tr th {\n",
       "        vertical-align: top;\n",
       "    }\n",
       "\n",
       "    .dataframe thead th {\n",
       "        text-align: right;\n",
       "    }\n",
       "</style>\n",
       "<table border=\"1\" class=\"dataframe\">\n",
       "  <thead>\n",
       "    <tr style=\"text-align: right;\">\n",
       "      <th></th>\n",
       "      <th>accountage</th>\n",
       "      <th>monthlycharges</th>\n",
       "      <th>totalcharges</th>\n",
       "      <th>subscriptiontype</th>\n",
       "      <th>paymentmethod</th>\n",
       "      <th>paperlessbilling</th>\n",
       "      <th>contenttype</th>\n",
       "      <th>multideviceaccess</th>\n",
       "      <th>deviceregistered</th>\n",
       "      <th>viewinghoursperweek</th>\n",
       "      <th>averageviewingduration</th>\n",
       "      <th>contentdownloadspermonth</th>\n",
       "      <th>genrepreference</th>\n",
       "      <th>userrating</th>\n",
       "      <th>supportticketspermonth</th>\n",
       "      <th>gender</th>\n",
       "      <th>watchlistsize</th>\n",
       "      <th>parentalcontrol</th>\n",
       "      <th>subtitlesenabled</th>\n",
       "    </tr>\n",
       "  </thead>\n",
       "  <tbody>\n",
       "    <tr>\n",
       "      <th>0</th>\n",
       "      <td>38</td>\n",
       "      <td>17.87</td>\n",
       "      <td>679.04</td>\n",
       "      <td>Premium</td>\n",
       "      <td>Mailed check</td>\n",
       "      <td>No</td>\n",
       "      <td>TV Shows</td>\n",
       "      <td>No</td>\n",
       "      <td>TV</td>\n",
       "      <td>29.13</td>\n",
       "      <td>122.27</td>\n",
       "      <td>42</td>\n",
       "      <td>Comedy</td>\n",
       "      <td>3.52</td>\n",
       "      <td>2</td>\n",
       "      <td>Male</td>\n",
       "      <td>23</td>\n",
       "      <td>No</td>\n",
       "      <td>No</td>\n",
       "    </tr>\n",
       "    <tr>\n",
       "      <th>1</th>\n",
       "      <td>77</td>\n",
       "      <td>9.91</td>\n",
       "      <td>763.29</td>\n",
       "      <td>Basic</td>\n",
       "      <td>Electronic check</td>\n",
       "      <td>Yes</td>\n",
       "      <td>TV Shows</td>\n",
       "      <td>No</td>\n",
       "      <td>TV</td>\n",
       "      <td>36.87</td>\n",
       "      <td>57.09</td>\n",
       "      <td>43</td>\n",
       "      <td>Action</td>\n",
       "      <td>2.02</td>\n",
       "      <td>2</td>\n",
       "      <td>Female</td>\n",
       "      <td>22</td>\n",
       "      <td>Yes</td>\n",
       "      <td>No</td>\n",
       "    </tr>\n",
       "    <tr>\n",
       "      <th>2</th>\n",
       "      <td>5</td>\n",
       "      <td>15.02</td>\n",
       "      <td>75.10</td>\n",
       "      <td>Standard</td>\n",
       "      <td>Bank transfer</td>\n",
       "      <td>No</td>\n",
       "      <td>TV Shows</td>\n",
       "      <td>Yes</td>\n",
       "      <td>Computer</td>\n",
       "      <td>7.60</td>\n",
       "      <td>140.41</td>\n",
       "      <td>14</td>\n",
       "      <td>Sci-Fi</td>\n",
       "      <td>4.81</td>\n",
       "      <td>2</td>\n",
       "      <td>Female</td>\n",
       "      <td>22</td>\n",
       "      <td>No</td>\n",
       "      <td>Yes</td>\n",
       "    </tr>\n",
       "    <tr>\n",
       "      <th>3</th>\n",
       "      <td>88</td>\n",
       "      <td>15.36</td>\n",
       "      <td>1351.45</td>\n",
       "      <td>Standard</td>\n",
       "      <td>Electronic check</td>\n",
       "      <td>No</td>\n",
       "      <td>Both</td>\n",
       "      <td>Yes</td>\n",
       "      <td>Tablet</td>\n",
       "      <td>35.59</td>\n",
       "      <td>177.00</td>\n",
       "      <td>14</td>\n",
       "      <td>Comedy</td>\n",
       "      <td>4.94</td>\n",
       "      <td>0</td>\n",
       "      <td>Female</td>\n",
       "      <td>23</td>\n",
       "      <td>Yes</td>\n",
       "      <td>Yes</td>\n",
       "    </tr>\n",
       "    <tr>\n",
       "      <th>4</th>\n",
       "      <td>91</td>\n",
       "      <td>12.41</td>\n",
       "      <td>1128.95</td>\n",
       "      <td>Standard</td>\n",
       "      <td>Credit card</td>\n",
       "      <td>Yes</td>\n",
       "      <td>TV Shows</td>\n",
       "      <td>Yes</td>\n",
       "      <td>Tablet</td>\n",
       "      <td>23.50</td>\n",
       "      <td>70.31</td>\n",
       "      <td>6</td>\n",
       "      <td>Drama</td>\n",
       "      <td>2.85</td>\n",
       "      <td>6</td>\n",
       "      <td>Female</td>\n",
       "      <td>0</td>\n",
       "      <td>No</td>\n",
       "      <td>No</td>\n",
       "    </tr>\n",
       "  </tbody>\n",
       "</table>\n",
       "</div>"
      ],
      "text/plain": [
       "   accountage  monthlycharges  totalcharges subscriptiontype     paymentmethod paperlessbilling contenttype multideviceaccess deviceregistered  viewinghoursperweek  averageviewingduration  contentdownloadspermonth genrepreference  userrating  supportticketspermonth  gender  watchlistsize parentalcontrol subtitlesenabled\n",
       "0          38           17.87        679.04          Premium      Mailed check               No    TV Shows                No               TV                29.13                  122.27                        42          Comedy        3.52                       2    Male             23              No               No\n",
       "1          77            9.91        763.29            Basic  Electronic check              Yes    TV Shows                No               TV                36.87                   57.09                        43          Action        2.02                       2  Female             22             Yes               No\n",
       "2           5           15.02         75.10         Standard     Bank transfer               No    TV Shows               Yes         Computer                 7.60                  140.41                        14          Sci-Fi        4.81                       2  Female             22              No              Yes\n",
       "3          88           15.36       1351.45         Standard  Electronic check               No        Both               Yes           Tablet                35.59                  177.00                        14          Comedy        4.94                       0  Female             23             Yes              Yes\n",
       "4          91           12.41       1128.95         Standard       Credit card              Yes    TV Shows               Yes           Tablet                23.50                   70.31                         6           Drama        2.85                       6  Female              0              No               No"
      ]
     },
     "execution_count": 23,
     "metadata": {},
     "output_type": "execute_result"
    }
   ],
   "source": [
    "test.head()"
   ]
  },
  {
   "cell_type": "code",
   "execution_count": 24,
   "metadata": {},
   "outputs": [],
   "source": [
    "full = pd.concat([train,test], axis=0)"
   ]
  },
  {
   "cell_type": "code",
   "execution_count": 25,
   "metadata": {},
   "outputs": [
    {
     "data": {
      "text/html": [
       "<div>\n",
       "<style scoped>\n",
       "    .dataframe tbody tr th:only-of-type {\n",
       "        vertical-align: middle;\n",
       "    }\n",
       "\n",
       "    .dataframe tbody tr th {\n",
       "        vertical-align: top;\n",
       "    }\n",
       "\n",
       "    .dataframe thead th {\n",
       "        text-align: right;\n",
       "    }\n",
       "</style>\n",
       "<table border=\"1\" class=\"dataframe\">\n",
       "  <thead>\n",
       "    <tr style=\"text-align: right;\">\n",
       "      <th></th>\n",
       "      <th>accountage</th>\n",
       "      <th>monthlycharges</th>\n",
       "      <th>totalcharges</th>\n",
       "      <th>subscriptiontype</th>\n",
       "      <th>paymentmethod</th>\n",
       "      <th>paperlessbilling</th>\n",
       "      <th>contenttype</th>\n",
       "      <th>multideviceaccess</th>\n",
       "      <th>deviceregistered</th>\n",
       "      <th>viewinghoursperweek</th>\n",
       "      <th>averageviewingduration</th>\n",
       "      <th>contentdownloadspermonth</th>\n",
       "      <th>genrepreference</th>\n",
       "      <th>userrating</th>\n",
       "      <th>supportticketspermonth</th>\n",
       "      <th>gender</th>\n",
       "      <th>watchlistsize</th>\n",
       "      <th>parentalcontrol</th>\n",
       "      <th>subtitlesenabled</th>\n",
       "      <th>churn</th>\n",
       "    </tr>\n",
       "  </thead>\n",
       "  <tbody>\n",
       "    <tr>\n",
       "      <th>0</th>\n",
       "      <td>20</td>\n",
       "      <td>11.06</td>\n",
       "      <td>221.10</td>\n",
       "      <td>Premium</td>\n",
       "      <td>Mailed check</td>\n",
       "      <td>No</td>\n",
       "      <td>Both</td>\n",
       "      <td>No</td>\n",
       "      <td>Mobile</td>\n",
       "      <td>36.76</td>\n",
       "      <td>63.53</td>\n",
       "      <td>10</td>\n",
       "      <td>Sci-Fi</td>\n",
       "      <td>2.18</td>\n",
       "      <td>4</td>\n",
       "      <td>Male</td>\n",
       "      <td>3</td>\n",
       "      <td>No</td>\n",
       "      <td>No</td>\n",
       "      <td>0.00</td>\n",
       "    </tr>\n",
       "    <tr>\n",
       "      <th>1</th>\n",
       "      <td>57</td>\n",
       "      <td>5.18</td>\n",
       "      <td>294.99</td>\n",
       "      <td>Basic</td>\n",
       "      <td>Credit card</td>\n",
       "      <td>Yes</td>\n",
       "      <td>Movies</td>\n",
       "      <td>No</td>\n",
       "      <td>Tablet</td>\n",
       "      <td>32.45</td>\n",
       "      <td>25.73</td>\n",
       "      <td>18</td>\n",
       "      <td>Action</td>\n",
       "      <td>3.48</td>\n",
       "      <td>8</td>\n",
       "      <td>Male</td>\n",
       "      <td>23</td>\n",
       "      <td>No</td>\n",
       "      <td>Yes</td>\n",
       "      <td>0.00</td>\n",
       "    </tr>\n",
       "    <tr>\n",
       "      <th>2</th>\n",
       "      <td>73</td>\n",
       "      <td>12.11</td>\n",
       "      <td>883.79</td>\n",
       "      <td>Basic</td>\n",
       "      <td>Mailed check</td>\n",
       "      <td>Yes</td>\n",
       "      <td>Movies</td>\n",
       "      <td>No</td>\n",
       "      <td>Computer</td>\n",
       "      <td>7.40</td>\n",
       "      <td>57.36</td>\n",
       "      <td>23</td>\n",
       "      <td>Fantasy</td>\n",
       "      <td>4.24</td>\n",
       "      <td>6</td>\n",
       "      <td>Male</td>\n",
       "      <td>1</td>\n",
       "      <td>Yes</td>\n",
       "      <td>Yes</td>\n",
       "      <td>0.00</td>\n",
       "    </tr>\n",
       "    <tr>\n",
       "      <th>3</th>\n",
       "      <td>32</td>\n",
       "      <td>7.26</td>\n",
       "      <td>232.44</td>\n",
       "      <td>Basic</td>\n",
       "      <td>Electronic check</td>\n",
       "      <td>No</td>\n",
       "      <td>TV Shows</td>\n",
       "      <td>No</td>\n",
       "      <td>Tablet</td>\n",
       "      <td>27.96</td>\n",
       "      <td>131.54</td>\n",
       "      <td>30</td>\n",
       "      <td>Drama</td>\n",
       "      <td>4.28</td>\n",
       "      <td>2</td>\n",
       "      <td>Male</td>\n",
       "      <td>24</td>\n",
       "      <td>Yes</td>\n",
       "      <td>Yes</td>\n",
       "      <td>0.00</td>\n",
       "    </tr>\n",
       "    <tr>\n",
       "      <th>4</th>\n",
       "      <td>57</td>\n",
       "      <td>16.95</td>\n",
       "      <td>966.33</td>\n",
       "      <td>Premium</td>\n",
       "      <td>Electronic check</td>\n",
       "      <td>Yes</td>\n",
       "      <td>TV Shows</td>\n",
       "      <td>No</td>\n",
       "      <td>TV</td>\n",
       "      <td>20.08</td>\n",
       "      <td>45.36</td>\n",
       "      <td>20</td>\n",
       "      <td>Comedy</td>\n",
       "      <td>3.62</td>\n",
       "      <td>4</td>\n",
       "      <td>Female</td>\n",
       "      <td>0</td>\n",
       "      <td>No</td>\n",
       "      <td>No</td>\n",
       "      <td>0.00</td>\n",
       "    </tr>\n",
       "    <tr>\n",
       "      <th>...</th>\n",
       "      <td>...</td>\n",
       "      <td>...</td>\n",
       "      <td>...</td>\n",
       "      <td>...</td>\n",
       "      <td>...</td>\n",
       "      <td>...</td>\n",
       "      <td>...</td>\n",
       "      <td>...</td>\n",
       "      <td>...</td>\n",
       "      <td>...</td>\n",
       "      <td>...</td>\n",
       "      <td>...</td>\n",
       "      <td>...</td>\n",
       "      <td>...</td>\n",
       "      <td>...</td>\n",
       "      <td>...</td>\n",
       "      <td>...</td>\n",
       "      <td>...</td>\n",
       "      <td>...</td>\n",
       "      <td>...</td>\n",
       "    </tr>\n",
       "    <tr>\n",
       "      <th>104475</th>\n",
       "      <td>80</td>\n",
       "      <td>17.35</td>\n",
       "      <td>1387.86</td>\n",
       "      <td>Standard</td>\n",
       "      <td>Credit card</td>\n",
       "      <td>No</td>\n",
       "      <td>TV Shows</td>\n",
       "      <td>Yes</td>\n",
       "      <td>Mobile</td>\n",
       "      <td>19.19</td>\n",
       "      <td>135.45</td>\n",
       "      <td>35</td>\n",
       "      <td>Comedy</td>\n",
       "      <td>1.41</td>\n",
       "      <td>7</td>\n",
       "      <td>Female</td>\n",
       "      <td>14</td>\n",
       "      <td>No</td>\n",
       "      <td>Yes</td>\n",
       "      <td>NaN</td>\n",
       "    </tr>\n",
       "    <tr>\n",
       "      <th>104476</th>\n",
       "      <td>20</td>\n",
       "      <td>8.28</td>\n",
       "      <td>165.51</td>\n",
       "      <td>Premium</td>\n",
       "      <td>Bank transfer</td>\n",
       "      <td>Yes</td>\n",
       "      <td>Movies</td>\n",
       "      <td>Yes</td>\n",
       "      <td>Mobile</td>\n",
       "      <td>30.99</td>\n",
       "      <td>114.87</td>\n",
       "      <td>17</td>\n",
       "      <td>Drama</td>\n",
       "      <td>2.78</td>\n",
       "      <td>2</td>\n",
       "      <td>Male</td>\n",
       "      <td>8</td>\n",
       "      <td>Yes</td>\n",
       "      <td>No</td>\n",
       "      <td>NaN</td>\n",
       "    </tr>\n",
       "    <tr>\n",
       "      <th>104477</th>\n",
       "      <td>106</td>\n",
       "      <td>18.13</td>\n",
       "      <td>1922.24</td>\n",
       "      <td>Basic</td>\n",
       "      <td>Mailed check</td>\n",
       "      <td>No</td>\n",
       "      <td>Movies</td>\n",
       "      <td>Yes</td>\n",
       "      <td>Computer</td>\n",
       "      <td>7.24</td>\n",
       "      <td>109.58</td>\n",
       "      <td>31</td>\n",
       "      <td>Comedy</td>\n",
       "      <td>2.99</td>\n",
       "      <td>1</td>\n",
       "      <td>Male</td>\n",
       "      <td>12</td>\n",
       "      <td>No</td>\n",
       "      <td>Yes</td>\n",
       "      <td>NaN</td>\n",
       "    </tr>\n",
       "    <tr>\n",
       "      <th>104478</th>\n",
       "      <td>46</td>\n",
       "      <td>19.77</td>\n",
       "      <td>909.60</td>\n",
       "      <td>Basic</td>\n",
       "      <td>Bank transfer</td>\n",
       "      <td>No</td>\n",
       "      <td>TV Shows</td>\n",
       "      <td>Yes</td>\n",
       "      <td>TV</td>\n",
       "      <td>25.81</td>\n",
       "      <td>115.15</td>\n",
       "      <td>1</td>\n",
       "      <td>Drama</td>\n",
       "      <td>5.00</td>\n",
       "      <td>0</td>\n",
       "      <td>Female</td>\n",
       "      <td>12</td>\n",
       "      <td>Yes</td>\n",
       "      <td>No</td>\n",
       "      <td>NaN</td>\n",
       "    </tr>\n",
       "    <tr>\n",
       "      <th>104479</th>\n",
       "      <td>110</td>\n",
       "      <td>7.44</td>\n",
       "      <td>818.22</td>\n",
       "      <td>Basic</td>\n",
       "      <td>Bank transfer</td>\n",
       "      <td>Yes</td>\n",
       "      <td>Both</td>\n",
       "      <td>No</td>\n",
       "      <td>Computer</td>\n",
       "      <td>34.15</td>\n",
       "      <td>132.61</td>\n",
       "      <td>29</td>\n",
       "      <td>Drama</td>\n",
       "      <td>4.68</td>\n",
       "      <td>2</td>\n",
       "      <td>Female</td>\n",
       "      <td>7</td>\n",
       "      <td>No</td>\n",
       "      <td>Yes</td>\n",
       "      <td>NaN</td>\n",
       "    </tr>\n",
       "  </tbody>\n",
       "</table>\n",
       "<p>348267 rows × 20 columns</p>\n",
       "</div>"
      ],
      "text/plain": [
       "        accountage  monthlycharges  totalcharges subscriptiontype     paymentmethod paperlessbilling contenttype multideviceaccess deviceregistered  viewinghoursperweek  averageviewingduration  contentdownloadspermonth genrepreference  userrating  supportticketspermonth  gender  watchlistsize parentalcontrol subtitlesenabled  churn\n",
       "0               20           11.06        221.10          Premium      Mailed check               No        Both                No           Mobile                36.76                   63.53                        10          Sci-Fi        2.18                       4    Male              3              No               No   0.00\n",
       "1               57            5.18        294.99            Basic       Credit card              Yes      Movies                No           Tablet                32.45                   25.73                        18          Action        3.48                       8    Male             23              No              Yes   0.00\n",
       "2               73           12.11        883.79            Basic      Mailed check              Yes      Movies                No         Computer                 7.40                   57.36                        23         Fantasy        4.24                       6    Male              1             Yes              Yes   0.00\n",
       "3               32            7.26        232.44            Basic  Electronic check               No    TV Shows                No           Tablet                27.96                  131.54                        30           Drama        4.28                       2    Male             24             Yes              Yes   0.00\n",
       "4               57           16.95        966.33          Premium  Electronic check              Yes    TV Shows                No               TV                20.08                   45.36                        20          Comedy        3.62                       4  Female              0              No               No   0.00\n",
       "...            ...             ...           ...              ...               ...              ...         ...               ...              ...                  ...                     ...                       ...             ...         ...                     ...     ...            ...             ...              ...    ...\n",
       "104475          80           17.35       1387.86         Standard       Credit card               No    TV Shows               Yes           Mobile                19.19                  135.45                        35          Comedy        1.41                       7  Female             14              No              Yes    NaN\n",
       "104476          20            8.28        165.51          Premium     Bank transfer              Yes      Movies               Yes           Mobile                30.99                  114.87                        17           Drama        2.78                       2    Male              8             Yes               No    NaN\n",
       "104477         106           18.13       1922.24            Basic      Mailed check               No      Movies               Yes         Computer                 7.24                  109.58                        31          Comedy        2.99                       1    Male             12              No              Yes    NaN\n",
       "104478          46           19.77        909.60            Basic     Bank transfer               No    TV Shows               Yes               TV                25.81                  115.15                         1           Drama        5.00                       0  Female             12             Yes               No    NaN\n",
       "104479         110            7.44        818.22            Basic     Bank transfer              Yes        Both                No         Computer                34.15                  132.61                        29           Drama        4.68                       2  Female              7              No              Yes    NaN\n",
       "\n",
       "[348267 rows x 20 columns]"
      ]
     },
     "execution_count": 25,
     "metadata": {},
     "output_type": "execute_result"
    }
   ],
   "source": [
    "full"
   ]
  },
  {
   "cell_type": "code",
   "execution_count": 26,
   "metadata": {},
   "outputs": [],
   "source": [
    "full.reset_index(inplace=True, drop=True)"
   ]
  },
  {
   "cell_type": "code",
   "execution_count": 27,
   "metadata": {},
   "outputs": [
    {
     "data": {
      "text/html": [
       "<div>\n",
       "<style scoped>\n",
       "    .dataframe tbody tr th:only-of-type {\n",
       "        vertical-align: middle;\n",
       "    }\n",
       "\n",
       "    .dataframe tbody tr th {\n",
       "        vertical-align: top;\n",
       "    }\n",
       "\n",
       "    .dataframe thead th {\n",
       "        text-align: right;\n",
       "    }\n",
       "</style>\n",
       "<table border=\"1\" class=\"dataframe\">\n",
       "  <thead>\n",
       "    <tr style=\"text-align: right;\">\n",
       "      <th></th>\n",
       "      <th>accountage</th>\n",
       "      <th>monthlycharges</th>\n",
       "      <th>totalcharges</th>\n",
       "      <th>subscriptiontype</th>\n",
       "      <th>paymentmethod</th>\n",
       "      <th>paperlessbilling</th>\n",
       "      <th>contenttype</th>\n",
       "      <th>multideviceaccess</th>\n",
       "      <th>deviceregistered</th>\n",
       "      <th>viewinghoursperweek</th>\n",
       "      <th>averageviewingduration</th>\n",
       "      <th>contentdownloadspermonth</th>\n",
       "      <th>genrepreference</th>\n",
       "      <th>userrating</th>\n",
       "      <th>supportticketspermonth</th>\n",
       "      <th>gender</th>\n",
       "      <th>watchlistsize</th>\n",
       "      <th>parentalcontrol</th>\n",
       "      <th>subtitlesenabled</th>\n",
       "      <th>churn</th>\n",
       "    </tr>\n",
       "  </thead>\n",
       "  <tbody>\n",
       "    <tr>\n",
       "      <th>0</th>\n",
       "      <td>20</td>\n",
       "      <td>11.06</td>\n",
       "      <td>221.10</td>\n",
       "      <td>Premium</td>\n",
       "      <td>Mailed check</td>\n",
       "      <td>No</td>\n",
       "      <td>Both</td>\n",
       "      <td>No</td>\n",
       "      <td>Mobile</td>\n",
       "      <td>36.76</td>\n",
       "      <td>63.53</td>\n",
       "      <td>10</td>\n",
       "      <td>Sci-Fi</td>\n",
       "      <td>2.18</td>\n",
       "      <td>4</td>\n",
       "      <td>Male</td>\n",
       "      <td>3</td>\n",
       "      <td>No</td>\n",
       "      <td>No</td>\n",
       "      <td>0.00</td>\n",
       "    </tr>\n",
       "    <tr>\n",
       "      <th>1</th>\n",
       "      <td>57</td>\n",
       "      <td>5.18</td>\n",
       "      <td>294.99</td>\n",
       "      <td>Basic</td>\n",
       "      <td>Credit card</td>\n",
       "      <td>Yes</td>\n",
       "      <td>Movies</td>\n",
       "      <td>No</td>\n",
       "      <td>Tablet</td>\n",
       "      <td>32.45</td>\n",
       "      <td>25.73</td>\n",
       "      <td>18</td>\n",
       "      <td>Action</td>\n",
       "      <td>3.48</td>\n",
       "      <td>8</td>\n",
       "      <td>Male</td>\n",
       "      <td>23</td>\n",
       "      <td>No</td>\n",
       "      <td>Yes</td>\n",
       "      <td>0.00</td>\n",
       "    </tr>\n",
       "    <tr>\n",
       "      <th>2</th>\n",
       "      <td>73</td>\n",
       "      <td>12.11</td>\n",
       "      <td>883.79</td>\n",
       "      <td>Basic</td>\n",
       "      <td>Mailed check</td>\n",
       "      <td>Yes</td>\n",
       "      <td>Movies</td>\n",
       "      <td>No</td>\n",
       "      <td>Computer</td>\n",
       "      <td>7.40</td>\n",
       "      <td>57.36</td>\n",
       "      <td>23</td>\n",
       "      <td>Fantasy</td>\n",
       "      <td>4.24</td>\n",
       "      <td>6</td>\n",
       "      <td>Male</td>\n",
       "      <td>1</td>\n",
       "      <td>Yes</td>\n",
       "      <td>Yes</td>\n",
       "      <td>0.00</td>\n",
       "    </tr>\n",
       "    <tr>\n",
       "      <th>3</th>\n",
       "      <td>32</td>\n",
       "      <td>7.26</td>\n",
       "      <td>232.44</td>\n",
       "      <td>Basic</td>\n",
       "      <td>Electronic check</td>\n",
       "      <td>No</td>\n",
       "      <td>TV Shows</td>\n",
       "      <td>No</td>\n",
       "      <td>Tablet</td>\n",
       "      <td>27.96</td>\n",
       "      <td>131.54</td>\n",
       "      <td>30</td>\n",
       "      <td>Drama</td>\n",
       "      <td>4.28</td>\n",
       "      <td>2</td>\n",
       "      <td>Male</td>\n",
       "      <td>24</td>\n",
       "      <td>Yes</td>\n",
       "      <td>Yes</td>\n",
       "      <td>0.00</td>\n",
       "    </tr>\n",
       "    <tr>\n",
       "      <th>4</th>\n",
       "      <td>57</td>\n",
       "      <td>16.95</td>\n",
       "      <td>966.33</td>\n",
       "      <td>Premium</td>\n",
       "      <td>Electronic check</td>\n",
       "      <td>Yes</td>\n",
       "      <td>TV Shows</td>\n",
       "      <td>No</td>\n",
       "      <td>TV</td>\n",
       "      <td>20.08</td>\n",
       "      <td>45.36</td>\n",
       "      <td>20</td>\n",
       "      <td>Comedy</td>\n",
       "      <td>3.62</td>\n",
       "      <td>4</td>\n",
       "      <td>Female</td>\n",
       "      <td>0</td>\n",
       "      <td>No</td>\n",
       "      <td>No</td>\n",
       "      <td>0.00</td>\n",
       "    </tr>\n",
       "    <tr>\n",
       "      <th>...</th>\n",
       "      <td>...</td>\n",
       "      <td>...</td>\n",
       "      <td>...</td>\n",
       "      <td>...</td>\n",
       "      <td>...</td>\n",
       "      <td>...</td>\n",
       "      <td>...</td>\n",
       "      <td>...</td>\n",
       "      <td>...</td>\n",
       "      <td>...</td>\n",
       "      <td>...</td>\n",
       "      <td>...</td>\n",
       "      <td>...</td>\n",
       "      <td>...</td>\n",
       "      <td>...</td>\n",
       "      <td>...</td>\n",
       "      <td>...</td>\n",
       "      <td>...</td>\n",
       "      <td>...</td>\n",
       "      <td>...</td>\n",
       "    </tr>\n",
       "    <tr>\n",
       "      <th>348262</th>\n",
       "      <td>80</td>\n",
       "      <td>17.35</td>\n",
       "      <td>1387.86</td>\n",
       "      <td>Standard</td>\n",
       "      <td>Credit card</td>\n",
       "      <td>No</td>\n",
       "      <td>TV Shows</td>\n",
       "      <td>Yes</td>\n",
       "      <td>Mobile</td>\n",
       "      <td>19.19</td>\n",
       "      <td>135.45</td>\n",
       "      <td>35</td>\n",
       "      <td>Comedy</td>\n",
       "      <td>1.41</td>\n",
       "      <td>7</td>\n",
       "      <td>Female</td>\n",
       "      <td>14</td>\n",
       "      <td>No</td>\n",
       "      <td>Yes</td>\n",
       "      <td>NaN</td>\n",
       "    </tr>\n",
       "    <tr>\n",
       "      <th>348263</th>\n",
       "      <td>20</td>\n",
       "      <td>8.28</td>\n",
       "      <td>165.51</td>\n",
       "      <td>Premium</td>\n",
       "      <td>Bank transfer</td>\n",
       "      <td>Yes</td>\n",
       "      <td>Movies</td>\n",
       "      <td>Yes</td>\n",
       "      <td>Mobile</td>\n",
       "      <td>30.99</td>\n",
       "      <td>114.87</td>\n",
       "      <td>17</td>\n",
       "      <td>Drama</td>\n",
       "      <td>2.78</td>\n",
       "      <td>2</td>\n",
       "      <td>Male</td>\n",
       "      <td>8</td>\n",
       "      <td>Yes</td>\n",
       "      <td>No</td>\n",
       "      <td>NaN</td>\n",
       "    </tr>\n",
       "    <tr>\n",
       "      <th>348264</th>\n",
       "      <td>106</td>\n",
       "      <td>18.13</td>\n",
       "      <td>1922.24</td>\n",
       "      <td>Basic</td>\n",
       "      <td>Mailed check</td>\n",
       "      <td>No</td>\n",
       "      <td>Movies</td>\n",
       "      <td>Yes</td>\n",
       "      <td>Computer</td>\n",
       "      <td>7.24</td>\n",
       "      <td>109.58</td>\n",
       "      <td>31</td>\n",
       "      <td>Comedy</td>\n",
       "      <td>2.99</td>\n",
       "      <td>1</td>\n",
       "      <td>Male</td>\n",
       "      <td>12</td>\n",
       "      <td>No</td>\n",
       "      <td>Yes</td>\n",
       "      <td>NaN</td>\n",
       "    </tr>\n",
       "    <tr>\n",
       "      <th>348265</th>\n",
       "      <td>46</td>\n",
       "      <td>19.77</td>\n",
       "      <td>909.60</td>\n",
       "      <td>Basic</td>\n",
       "      <td>Bank transfer</td>\n",
       "      <td>No</td>\n",
       "      <td>TV Shows</td>\n",
       "      <td>Yes</td>\n",
       "      <td>TV</td>\n",
       "      <td>25.81</td>\n",
       "      <td>115.15</td>\n",
       "      <td>1</td>\n",
       "      <td>Drama</td>\n",
       "      <td>5.00</td>\n",
       "      <td>0</td>\n",
       "      <td>Female</td>\n",
       "      <td>12</td>\n",
       "      <td>Yes</td>\n",
       "      <td>No</td>\n",
       "      <td>NaN</td>\n",
       "    </tr>\n",
       "    <tr>\n",
       "      <th>348266</th>\n",
       "      <td>110</td>\n",
       "      <td>7.44</td>\n",
       "      <td>818.22</td>\n",
       "      <td>Basic</td>\n",
       "      <td>Bank transfer</td>\n",
       "      <td>Yes</td>\n",
       "      <td>Both</td>\n",
       "      <td>No</td>\n",
       "      <td>Computer</td>\n",
       "      <td>34.15</td>\n",
       "      <td>132.61</td>\n",
       "      <td>29</td>\n",
       "      <td>Drama</td>\n",
       "      <td>4.68</td>\n",
       "      <td>2</td>\n",
       "      <td>Female</td>\n",
       "      <td>7</td>\n",
       "      <td>No</td>\n",
       "      <td>Yes</td>\n",
       "      <td>NaN</td>\n",
       "    </tr>\n",
       "  </tbody>\n",
       "</table>\n",
       "<p>348267 rows × 20 columns</p>\n",
       "</div>"
      ],
      "text/plain": [
       "        accountage  monthlycharges  totalcharges subscriptiontype     paymentmethod paperlessbilling contenttype multideviceaccess deviceregistered  viewinghoursperweek  averageviewingduration  contentdownloadspermonth genrepreference  userrating  supportticketspermonth  gender  watchlistsize parentalcontrol subtitlesenabled  churn\n",
       "0               20           11.06        221.10          Premium      Mailed check               No        Both                No           Mobile                36.76                   63.53                        10          Sci-Fi        2.18                       4    Male              3              No               No   0.00\n",
       "1               57            5.18        294.99            Basic       Credit card              Yes      Movies                No           Tablet                32.45                   25.73                        18          Action        3.48                       8    Male             23              No              Yes   0.00\n",
       "2               73           12.11        883.79            Basic      Mailed check              Yes      Movies                No         Computer                 7.40                   57.36                        23         Fantasy        4.24                       6    Male              1             Yes              Yes   0.00\n",
       "3               32            7.26        232.44            Basic  Electronic check               No    TV Shows                No           Tablet                27.96                  131.54                        30           Drama        4.28                       2    Male             24             Yes              Yes   0.00\n",
       "4               57           16.95        966.33          Premium  Electronic check              Yes    TV Shows                No               TV                20.08                   45.36                        20          Comedy        3.62                       4  Female              0              No               No   0.00\n",
       "...            ...             ...           ...              ...               ...              ...         ...               ...              ...                  ...                     ...                       ...             ...         ...                     ...     ...            ...             ...              ...    ...\n",
       "348262          80           17.35       1387.86         Standard       Credit card               No    TV Shows               Yes           Mobile                19.19                  135.45                        35          Comedy        1.41                       7  Female             14              No              Yes    NaN\n",
       "348263          20            8.28        165.51          Premium     Bank transfer              Yes      Movies               Yes           Mobile                30.99                  114.87                        17           Drama        2.78                       2    Male              8             Yes               No    NaN\n",
       "348264         106           18.13       1922.24            Basic      Mailed check               No      Movies               Yes         Computer                 7.24                  109.58                        31          Comedy        2.99                       1    Male             12              No              Yes    NaN\n",
       "348265          46           19.77        909.60            Basic     Bank transfer               No    TV Shows               Yes               TV                25.81                  115.15                         1           Drama        5.00                       0  Female             12             Yes               No    NaN\n",
       "348266         110            7.44        818.22            Basic     Bank transfer              Yes        Both                No         Computer                34.15                  132.61                        29           Drama        4.68                       2  Female              7              No              Yes    NaN\n",
       "\n",
       "[348267 rows x 20 columns]"
      ]
     },
     "execution_count": 27,
     "metadata": {},
     "output_type": "execute_result"
    }
   ],
   "source": [
    "full"
   ]
  },
  {
   "cell_type": "code",
   "execution_count": 28,
   "metadata": {},
   "outputs": [],
   "source": [
    "#full.to_csv(\"fulldata.csv\", index=False)"
   ]
  },
  {
   "cell_type": "markdown",
   "metadata": {},
   "source": [
    "**==============================================================================================================**"
   ]
  },
  {
   "cell_type": "markdown",
   "metadata": {},
   "source": [
    "# Data Preprocessing"
   ]
  },
  {
   "cell_type": "markdown",
   "metadata": {},
   "source": [
    "## SciKit Learn Column Transformers and Pipelines"
   ]
  },
  {
   "cell_type": "code",
   "execution_count": 29,
   "metadata": {},
   "outputs": [
    {
     "data": {
      "text/plain": [
       "['accountage',\n",
       " 'monthlycharges',\n",
       " 'totalcharges',\n",
       " 'viewinghoursperweek',\n",
       " 'averageviewingduration',\n",
       " 'contentdownloadspermonth',\n",
       " 'userrating',\n",
       " 'supportticketspermonth',\n",
       " 'watchlistsize',\n",
       " 'churn']"
      ]
     },
     "execution_count": 29,
     "metadata": {},
     "output_type": "execute_result"
    }
   ],
   "source": [
    "list(train.select_dtypes([\"int\", \"float\"]))"
   ]
  },
  {
   "cell_type": "code",
   "execution_count": 30,
   "metadata": {},
   "outputs": [
    {
     "data": {
      "text/plain": [
       "['subscriptiontype',\n",
       " 'paymentmethod',\n",
       " 'paperlessbilling',\n",
       " 'contenttype',\n",
       " 'multideviceaccess',\n",
       " 'deviceregistered',\n",
       " 'genrepreference',\n",
       " 'gender',\n",
       " 'parentalcontrol',\n",
       " 'subtitlesenabled']"
      ]
     },
     "execution_count": 30,
     "metadata": {},
     "output_type": "execute_result"
    }
   ],
   "source": [
    "list(train.select_dtypes([\"object\"]))"
   ]
  },
  {
   "cell_type": "code",
   "execution_count": 31,
   "metadata": {},
   "outputs": [],
   "source": [
    "numcols = ['accountage', 'monthlycharges', 'totalcharges', 'viewinghoursperweek', 'averageviewingduration',\n",
    "          'contentdownloadspermonth', 'userrating', 'supportticketspermonth', 'watchlistsize']"
   ]
  },
  {
   "cell_type": "code",
   "execution_count": 32,
   "metadata": {},
   "outputs": [],
   "source": [
    "catcols = ['subscriptiontype', 'paymentmethod', 'paperlessbilling', 'contenttype', 'multideviceaccess', 'deviceregistered',\n",
    " 'genrepreference', 'gender', 'parentalcontrol', 'subtitlesenabled']"
   ]
  },
  {
   "cell_type": "code",
   "execution_count": 33,
   "metadata": {},
   "outputs": [
    {
     "data": {
      "text/plain": [
       "(243787, 20)"
      ]
     },
     "execution_count": 33,
     "metadata": {},
     "output_type": "execute_result"
    }
   ],
   "source": [
    "train.shape"
   ]
  },
  {
   "cell_type": "code",
   "execution_count": 34,
   "metadata": {},
   "outputs": [],
   "source": [
    "X = train.iloc[:, 0:19]\n",
    "y = train.iloc[:, 19:]"
   ]
  },
  {
   "cell_type": "code",
   "execution_count": 35,
   "metadata": {},
   "outputs": [
    {
     "data": {
      "text/html": [
       "<div>\n",
       "<style scoped>\n",
       "    .dataframe tbody tr th:only-of-type {\n",
       "        vertical-align: middle;\n",
       "    }\n",
       "\n",
       "    .dataframe tbody tr th {\n",
       "        vertical-align: top;\n",
       "    }\n",
       "\n",
       "    .dataframe thead th {\n",
       "        text-align: right;\n",
       "    }\n",
       "</style>\n",
       "<table border=\"1\" class=\"dataframe\">\n",
       "  <thead>\n",
       "    <tr style=\"text-align: right;\">\n",
       "      <th></th>\n",
       "      <th>accountage</th>\n",
       "      <th>monthlycharges</th>\n",
       "      <th>totalcharges</th>\n",
       "      <th>subscriptiontype</th>\n",
       "      <th>paymentmethod</th>\n",
       "      <th>paperlessbilling</th>\n",
       "      <th>contenttype</th>\n",
       "      <th>multideviceaccess</th>\n",
       "      <th>deviceregistered</th>\n",
       "      <th>viewinghoursperweek</th>\n",
       "      <th>averageviewingduration</th>\n",
       "      <th>contentdownloadspermonth</th>\n",
       "      <th>genrepreference</th>\n",
       "      <th>userrating</th>\n",
       "      <th>supportticketspermonth</th>\n",
       "      <th>gender</th>\n",
       "      <th>watchlistsize</th>\n",
       "      <th>parentalcontrol</th>\n",
       "      <th>subtitlesenabled</th>\n",
       "    </tr>\n",
       "  </thead>\n",
       "  <tbody>\n",
       "    <tr>\n",
       "      <th>0</th>\n",
       "      <td>20</td>\n",
       "      <td>11.06</td>\n",
       "      <td>221.10</td>\n",
       "      <td>Premium</td>\n",
       "      <td>Mailed check</td>\n",
       "      <td>No</td>\n",
       "      <td>Both</td>\n",
       "      <td>No</td>\n",
       "      <td>Mobile</td>\n",
       "      <td>36.76</td>\n",
       "      <td>63.53</td>\n",
       "      <td>10</td>\n",
       "      <td>Sci-Fi</td>\n",
       "      <td>2.18</td>\n",
       "      <td>4</td>\n",
       "      <td>Male</td>\n",
       "      <td>3</td>\n",
       "      <td>No</td>\n",
       "      <td>No</td>\n",
       "    </tr>\n",
       "    <tr>\n",
       "      <th>1</th>\n",
       "      <td>57</td>\n",
       "      <td>5.18</td>\n",
       "      <td>294.99</td>\n",
       "      <td>Basic</td>\n",
       "      <td>Credit card</td>\n",
       "      <td>Yes</td>\n",
       "      <td>Movies</td>\n",
       "      <td>No</td>\n",
       "      <td>Tablet</td>\n",
       "      <td>32.45</td>\n",
       "      <td>25.73</td>\n",
       "      <td>18</td>\n",
       "      <td>Action</td>\n",
       "      <td>3.48</td>\n",
       "      <td>8</td>\n",
       "      <td>Male</td>\n",
       "      <td>23</td>\n",
       "      <td>No</td>\n",
       "      <td>Yes</td>\n",
       "    </tr>\n",
       "    <tr>\n",
       "      <th>2</th>\n",
       "      <td>73</td>\n",
       "      <td>12.11</td>\n",
       "      <td>883.79</td>\n",
       "      <td>Basic</td>\n",
       "      <td>Mailed check</td>\n",
       "      <td>Yes</td>\n",
       "      <td>Movies</td>\n",
       "      <td>No</td>\n",
       "      <td>Computer</td>\n",
       "      <td>7.40</td>\n",
       "      <td>57.36</td>\n",
       "      <td>23</td>\n",
       "      <td>Fantasy</td>\n",
       "      <td>4.24</td>\n",
       "      <td>6</td>\n",
       "      <td>Male</td>\n",
       "      <td>1</td>\n",
       "      <td>Yes</td>\n",
       "      <td>Yes</td>\n",
       "    </tr>\n",
       "    <tr>\n",
       "      <th>3</th>\n",
       "      <td>32</td>\n",
       "      <td>7.26</td>\n",
       "      <td>232.44</td>\n",
       "      <td>Basic</td>\n",
       "      <td>Electronic check</td>\n",
       "      <td>No</td>\n",
       "      <td>TV Shows</td>\n",
       "      <td>No</td>\n",
       "      <td>Tablet</td>\n",
       "      <td>27.96</td>\n",
       "      <td>131.54</td>\n",
       "      <td>30</td>\n",
       "      <td>Drama</td>\n",
       "      <td>4.28</td>\n",
       "      <td>2</td>\n",
       "      <td>Male</td>\n",
       "      <td>24</td>\n",
       "      <td>Yes</td>\n",
       "      <td>Yes</td>\n",
       "    </tr>\n",
       "    <tr>\n",
       "      <th>4</th>\n",
       "      <td>57</td>\n",
       "      <td>16.95</td>\n",
       "      <td>966.33</td>\n",
       "      <td>Premium</td>\n",
       "      <td>Electronic check</td>\n",
       "      <td>Yes</td>\n",
       "      <td>TV Shows</td>\n",
       "      <td>No</td>\n",
       "      <td>TV</td>\n",
       "      <td>20.08</td>\n",
       "      <td>45.36</td>\n",
       "      <td>20</td>\n",
       "      <td>Comedy</td>\n",
       "      <td>3.62</td>\n",
       "      <td>4</td>\n",
       "      <td>Female</td>\n",
       "      <td>0</td>\n",
       "      <td>No</td>\n",
       "      <td>No</td>\n",
       "    </tr>\n",
       "  </tbody>\n",
       "</table>\n",
       "</div>"
      ],
      "text/plain": [
       "   accountage  monthlycharges  totalcharges subscriptiontype     paymentmethod paperlessbilling contenttype multideviceaccess deviceregistered  viewinghoursperweek  averageviewingduration  contentdownloadspermonth genrepreference  userrating  supportticketspermonth  gender  watchlistsize parentalcontrol subtitlesenabled\n",
       "0          20           11.06        221.10          Premium      Mailed check               No        Both                No           Mobile                36.76                   63.53                        10          Sci-Fi        2.18                       4    Male              3              No               No\n",
       "1          57            5.18        294.99            Basic       Credit card              Yes      Movies                No           Tablet                32.45                   25.73                        18          Action        3.48                       8    Male             23              No              Yes\n",
       "2          73           12.11        883.79            Basic      Mailed check              Yes      Movies                No         Computer                 7.40                   57.36                        23         Fantasy        4.24                       6    Male              1             Yes              Yes\n",
       "3          32            7.26        232.44            Basic  Electronic check               No    TV Shows                No           Tablet                27.96                  131.54                        30           Drama        4.28                       2    Male             24             Yes              Yes\n",
       "4          57           16.95        966.33          Premium  Electronic check              Yes    TV Shows                No               TV                20.08                   45.36                        20          Comedy        3.62                       4  Female              0              No               No"
      ]
     },
     "execution_count": 35,
     "metadata": {},
     "output_type": "execute_result"
    }
   ],
   "source": [
    "X.head()"
   ]
  },
  {
   "cell_type": "code",
   "execution_count": 36,
   "metadata": {},
   "outputs": [
    {
     "data": {
      "text/html": [
       "<div>\n",
       "<style scoped>\n",
       "    .dataframe tbody tr th:only-of-type {\n",
       "        vertical-align: middle;\n",
       "    }\n",
       "\n",
       "    .dataframe tbody tr th {\n",
       "        vertical-align: top;\n",
       "    }\n",
       "\n",
       "    .dataframe thead th {\n",
       "        text-align: right;\n",
       "    }\n",
       "</style>\n",
       "<table border=\"1\" class=\"dataframe\">\n",
       "  <thead>\n",
       "    <tr style=\"text-align: right;\">\n",
       "      <th></th>\n",
       "      <th>churn</th>\n",
       "    </tr>\n",
       "  </thead>\n",
       "  <tbody>\n",
       "    <tr>\n",
       "      <th>0</th>\n",
       "      <td>0</td>\n",
       "    </tr>\n",
       "    <tr>\n",
       "      <th>1</th>\n",
       "      <td>0</td>\n",
       "    </tr>\n",
       "    <tr>\n",
       "      <th>2</th>\n",
       "      <td>0</td>\n",
       "    </tr>\n",
       "    <tr>\n",
       "      <th>3</th>\n",
       "      <td>0</td>\n",
       "    </tr>\n",
       "    <tr>\n",
       "      <th>4</th>\n",
       "      <td>0</td>\n",
       "    </tr>\n",
       "  </tbody>\n",
       "</table>\n",
       "</div>"
      ],
      "text/plain": [
       "   churn\n",
       "0      0\n",
       "1      0\n",
       "2      0\n",
       "3      0\n",
       "4      0"
      ]
     },
     "execution_count": 36,
     "metadata": {},
     "output_type": "execute_result"
    }
   ],
   "source": [
    "y.head()"
   ]
  },
  {
   "cell_type": "code",
   "execution_count": 37,
   "metadata": {},
   "outputs": [],
   "source": [
    "# imp = SimpleImputer()\n",
    "# ss = StandardScaler()\n",
    "# mm = MinMaxScaler()\n",
    "# ohe = OneHotEncoder(drop_last=True)\n",
    "# binary = Binarizer(threshold=0)"
   ]
  },
  {
   "cell_type": "markdown",
   "metadata": {},
   "source": [
    "## You use the ColumnTransformer to transform each column set separately before combining them later."
   ]
  },
  {
   "cell_type": "code",
   "execution_count": null,
   "metadata": {},
   "outputs": [],
   "source": [
    "# Missing Values Imputation Methods\n",
    "\n",
    "imp = SimpleImputer(missing_values=np.nan,\n",
    "                    strategy='mean',\n",
    "                    fill_value=None,\n",
    "                    add_indicator=False)\n",
    "\n",
    "imp = SimpleImputer(missing_values=np.nan,\n",
    "                    strategy='median',\n",
    "                    fill_value=None,\n",
    "                    add_indicator=False)\n",
    "\n",
    "imp = SimpleImputer(missing_values=np.nan,\n",
    "                    strategy='constant',\n",
    "                    fill_value=0,\n",
    "                    add_indicator=False)\n",
    "\n",
    "imp = SimpleImputer(missing_values=np.nan,\n",
    "                    strategy='most_frequent',\n",
    "                    fill_value=None,\n",
    "                    add_indicator=False)\n",
    "\n",
    "indicator = MissingIndicator(missing_values=np.nan, features='missing-only', error_on_new=True)\n",
    "indicator\n",
    "\n",
    "imp2 = SimpleImputer(missing_values=np.nan,\n",
    "                    strategy='most_frequent',\n",
    "                    fill_value=None,\n",
    "                    add_indicator=True)"
   ]
  },
  {
   "cell_type": "code",
   "execution_count": null,
   "metadata": {},
   "outputs": [],
   "source": [
    "# Missing values imputation using ColumnTransformer\n",
    "\n",
    "ct = ColumnTransformer(\n",
    "    \n",
    "          transformers= [\n",
    "     \n",
    "         (\n",
    "             'imputer', SimpleImputer(missing_values=np.nan, \n",
    "                                      strategy='most_frequent', add_indicator=True), ['RankSeason', 'RankPlayoffs','OOBP', 'OSLG']\n",
    "         )\n",
    "         \n",
    "         ],\n",
    "             remainder='passthrough',\n",
    "             verbose_feature_names_out=False\n",
    "         )\n",
    "\n",
    "ct.set_output(transform=\"pandas\")"
   ]
  },
  {
   "cell_type": "markdown",
   "metadata": {},
   "source": [
    "**CAUTION**\n",
    "\n",
    "The ColumnTransformer is, in essence, just slicing the dataframe into the required feature subsets. The SimpleImputer then performs operations on the sliced dataframes. Finally, the dataframes are put back together for the final output.\n",
    "\n",
    "That means that the order of the columns is not the same as in the training set!"
   ]
  },
  {
   "cell_type": "code",
   "execution_count": null,
   "metadata": {},
   "outputs": [],
   "source": [
    "# One hot / Ordinal encoding\n",
    "# With a tree-based model, try OrdinalEncoder instead of OneHotEncoder even for nominal (unordered) features\n",
    "\n",
    "ct = ColumnTransformer(\n",
    "    \n",
    "     transformers= [\n",
    "     \n",
    "     (\n",
    "         'ohe1', OneHotEncoder(drop_last_binary=True), catcols\n",
    "     ),  \n",
    "         \n",
    "     (\n",
    "         'ohe2', OneHotEncoder(top_categories=3), []\n",
    "     ),\n",
    "         \n",
    "     ( \n",
    "         'oe',  OrdinalEncoder(missing_values='ignore'), []\n",
    "     ),\n",
    "         \n",
    "     (   'binary', Binarizer(threshold=0),[]\n",
    "     \n",
    "     )\n",
    "         \n",
    "     ],\n",
    "      remainder='passthrough',\n",
    "      verbose_feature_names_out=False\n",
    "     )\n",
    "\n",
    "ct.set_output(transform=\"pandas\")"
   ]
  },
  {
   "cell_type": "code",
   "execution_count": null,
   "metadata": {},
   "outputs": [],
   "source": [
    "# Scaling features\n",
    "\n",
    "ct = ColumnTransformer(\n",
    "    \n",
    "     transformers= [\n",
    "     \n",
    "      (\n",
    "         'ss', \n",
    "         StandardScaler(),\n",
    "         []\n",
    "      ),    \n",
    "      ( \n",
    "          'mm',\n",
    "          MinMaxScaler(),\n",
    "          numcols\n",
    "      )\n",
    "         \n",
    "     ],\n",
    "      remainder='passthrough',\n",
    "      verbose_feature_names_out=False\n",
    "     )\n",
    "\n",
    "ct.set_output(transform=\"pandas\")"
   ]
  },
  {
   "cell_type": "code",
   "execution_count": null,
   "metadata": {},
   "outputs": [],
   "source": [
    "X_new = ct.fit_transform(X,y)\n",
    "X_new"
   ]
  },
  {
   "cell_type": "code",
   "execution_count": null,
   "metadata": {},
   "outputs": [],
   "source": [
    "X_new.isnull().sum()"
   ]
  },
  {
   "cell_type": "code",
   "execution_count": null,
   "metadata": {},
   "outputs": [],
   "source": [
    "print(ct)"
   ]
  },
  {
   "cell_type": "code",
   "execution_count": null,
   "metadata": {},
   "outputs": [],
   "source": [
    "df2 = X_new.copy()\n",
    "df2.head()"
   ]
  },
  {
   "cell_type": "markdown",
   "metadata": {},
   "source": [
    "## Use the pipeline for multiple transformations of the same columns"
   ]
  },
  {
   "cell_type": "markdown",
   "metadata": {},
   "source": [
    "### Step 1: Create pipelines for numerical and categorical features\n",
    "\n",
    "```\n",
    "pipe = Pipeline(steps, *, memory=None, verbose=False)\n",
    "\n",
    "We create the preprocessing pipelines for both numerical and categorical data\n",
    "\n",
    "```"
   ]
  },
  {
   "cell_type": "code",
   "execution_count": null,
   "metadata": {},
   "outputs": [],
   "source": [
    "numpipeline = Pipeline(steps=\n",
    "                      [\n",
    "                      (\"imputer\", SimpleImputer()),\n",
    "                      (\"scaler\", StandardScaler()),\n",
    "                      (\"minmax\", MinMaxScaler())   \n",
    "                      ]\n",
    "                      )"
   ]
  },
  {
   "cell_type": "code",
   "execution_count": null,
   "metadata": {},
   "outputs": [],
   "source": [
    "catpipeline = Pipeline(steps=\n",
    "                      [\n",
    "                      (\"imputer\", SimpleImputer()),    \n",
    "                      (\"ohe\", OneHotEncoder(drop_last_binary=True))    \n",
    "                      ]\n",
    "                      )"
   ]
  },
  {
   "cell_type": "markdown",
   "metadata": {},
   "source": [
    "### Step 2: Create Transformers"
   ]
  },
  {
   "cell_type": "code",
   "execution_count": null,
   "metadata": {},
   "outputs": [],
   "source": [
    "preprocessor = ColumnTransformer(\n",
    "    \n",
    "     transformers= [\n",
    "     \n",
    "     (\"numerical\", numpipeline, numcols ),    \n",
    "     (\"categorical\", catpipeline, catcols )\n",
    "         \n",
    "     ],\n",
    "      remainder='passthrough',\n",
    "      verbose_feature_names_out=True\n",
    "     )\n",
    "\n",
    "preprocessor.set_output(transform=\"pandas\")"
   ]
  },
  {
   "cell_type": "markdown",
   "metadata": {},
   "source": [
    "### Step 3: Create a final pipeline to include transformers"
   ]
  },
  {
   "cell_type": "code",
   "execution_count": null,
   "metadata": {},
   "outputs": [],
   "source": [
    "finalpipeline = Pipeline(steps=\n",
    "                       [\n",
    "                       (\"preprocessor\", preprocessor)\n",
    "                       ])"
   ]
  },
  {
   "cell_type": "code",
   "execution_count": null,
   "metadata": {},
   "outputs": [],
   "source": [
    "finalpipeline.fit_transform(X)"
   ]
  },
  {
   "cell_type": "code",
   "execution_count": null,
   "metadata": {},
   "outputs": [],
   "source": [
    "finalpipeline.named_steps"
   ]
  },
  {
   "cell_type": "markdown",
   "metadata": {},
   "source": [
    "**==============================================================================================================**"
   ]
  },
  {
   "cell_type": "markdown",
   "metadata": {},
   "source": [
    "## Overall Visualization"
   ]
  },
  {
   "cell_type": "code",
   "execution_count": null,
   "metadata": {},
   "outputs": [],
   "source": [
    "df.hist(bins=50, figsize=(20,50), layout=(len(df.columns),2), grid=False)\n",
    "plt.suptitle('Histogram Feature Distribution', x=0.5, y=1.02, ha='center', fontsize=20)\n",
    "\n",
    "plt.tight_layout()\n",
    "plt.show()"
   ]
  },
  {
   "cell_type": "code",
   "execution_count": null,
   "metadata": {},
   "outputs": [],
   "source": [
    "df.boxplot(figsize=(20,10), color='blue', fontsize=15)\n",
    "plt.suptitle('BoxPlots Feature Distribution', x=0.5, y=1.02, ha='center', fontsize=20)\n",
    "\n",
    "plt.tight_layout()\n",
    "plt.show()"
   ]
  },
  {
   "cell_type": "code",
   "execution_count": null,
   "metadata": {},
   "outputs": [],
   "source": [
    "# Stacked Histogram\n",
    "\n",
    "fig, ax = plt.subplots(figsize=(12,8))\n",
    "\n",
    "sns.histplot(data=df, x=\"landsurfacecondition\", y=None, hue=\"damagegrade\", multiple='dodge', stat='count')\n",
    "\n",
    "plt.show()"
   ]
  },
  {
   "cell_type": "code",
   "execution_count": null,
   "metadata": {},
   "outputs": [],
   "source": [
    "# Stacked Histogram\n",
    "\n",
    "fig, ax = plt.subplots(figsize=(12,8))\n",
    "\n",
    "sns.histplot(data=df, x=\"foundationtype\", y=None, hue=\"damagegrade\", multiple='dodge', stat='count')\n",
    "\n",
    "plt.show()"
   ]
  },
  {
   "cell_type": "code",
   "execution_count": null,
   "metadata": {},
   "outputs": [],
   "source": [
    "# Stacked Histogram\n",
    "\n",
    "fig, ax = plt.subplots(figsize=(12,8))\n",
    "\n",
    "sns.histplot(data=df, x=\"rooftype\", y=None, hue=\"damagegrade\", multiple='dodge', stat='count')\n",
    "\n",
    "plt.show()"
   ]
  },
  {
   "cell_type": "code",
   "execution_count": null,
   "metadata": {},
   "outputs": [],
   "source": [
    "# Stacked Histogram\n",
    "\n",
    "fig, ax = plt.subplots(figsize=(12,8))\n",
    "\n",
    "sns.histplot(data=df, x=\"groundfloortype\", y=None, hue=\"damagegrade\", multiple='dodge', stat='count')\n",
    "\n",
    "plt.show()"
   ]
  },
  {
   "cell_type": "code",
   "execution_count": null,
   "metadata": {},
   "outputs": [],
   "source": [
    "# Stacked Histogram\n",
    "\n",
    "fig, ax = plt.subplots(figsize=(12,8))\n",
    "\n",
    "sns.histplot(data=df, x=\"position\", y=None, hue=\"damagegrade\", multiple='dodge', stat='count')\n",
    "\n",
    "plt.show()"
   ]
  },
  {
   "cell_type": "code",
   "execution_count": null,
   "metadata": {},
   "outputs": [],
   "source": [
    "# Stacked Histogram\n",
    "\n",
    "fig, ax = plt.subplots(figsize=(12,8))\n",
    "\n",
    "sns.histplot(data=df, x=\"planconfiguration\", y=None, hue=\"damagegrade\", multiple='dodge', stat='count')\n",
    "\n",
    "plt.show()"
   ]
  },
  {
   "cell_type": "code",
   "execution_count": null,
   "metadata": {},
   "outputs": [],
   "source": [
    "# Stacked Histogram\n",
    "\n",
    "fig, ax = plt.subplots(figsize=(12,8))\n",
    "\n",
    "sns.histplot(data=df, x=\"legalownershipstatus\", y=None, hue=\"damagegrade\", multiple='dodge', stat='count')\n",
    "\n",
    "plt.show()"
   ]
  },
  {
   "cell_type": "code",
   "execution_count": null,
   "metadata": {
    "scrolled": false
   },
   "outputs": [],
   "source": [
    "sns.catplot(x=\"landsurfacecondition\", y=\"damagegrade\", hue=None, data=df, row=None, col=None,\n",
    "    col_wrap=None, estimator=\"mean\", ci=95, kind='swarm', height=5, aspect=3)\n",
    "\n",
    "plt.show()"
   ]
  },
  {
   "cell_type": "code",
   "execution_count": null,
   "metadata": {},
   "outputs": [],
   "source": [
    "sns.barplot(x=\"label\", y=\"drivenkmdrives\", hue=None, data=df, estimator=\"mean\", ci=95)\n",
    "\n",
    "plt.show()"
   ]
  },
  {
   "cell_type": "code",
   "execution_count": null,
   "metadata": {},
   "outputs": [],
   "source": [
    "sns.barplot(x=horizontal_label,\n",
    "            y=first_dimension,\n",
    "            hue=second_dimension,\n",
    "            data=df.groupby([first_dimension, second_dimension]).size().to_frame(horizontal_label).reset_index())"
   ]
  },
  {
   "cell_type": "code",
   "execution_count": null,
   "metadata": {
    "scrolled": false
   },
   "outputs": [],
   "source": [
    "sns.pairplot(data=df, \n",
    "             height=5, aspect=1, kind=\"reg\",\n",
    "             #x_vars=['extra','mtatax','tollsamount','improvementsurcharge'],\n",
    "             y_vars=[\"calories\"]\n",
    "            \n",
    "            )\n",
    "\n",
    "plt.show()"
   ]
  },
  {
   "cell_type": "code",
   "execution_count": null,
   "metadata": {},
   "outputs": [],
   "source": [
    "fig, ax = plt.subplots(figsize=(12,8))\n",
    "\n",
    "sns.scatterplot(x=\"NumberChildrenAtHome\", y=\"YearlyIncome\", hue=\"BikeBuyer\", data=df, \n",
    "            size=\"Gender\", ci=95)\n",
    "\n",
    "plt.show()"
   ]
  },
  {
   "cell_type": "code",
   "execution_count": null,
   "metadata": {},
   "outputs": [],
   "source": [
    "sns.relplot(x=\"NumberChildrenAtHome\", y=\"YearlyIncome\", hue=\"BikeBuyer\", data=df, kind='scatter',\n",
    "            row=None, col=None, col_wrap=None, height=4, aspect=3)\n",
    "\n",
    "plt.show()"
   ]
  },
  {
   "cell_type": "code",
   "execution_count": null,
   "metadata": {},
   "outputs": [],
   "source": [
    "fig, ax = plt.subplots(figsize=(12,8))\n",
    "\n",
    "sns.lineplot(x=\"NumberChildrenAtHome\", y=\"NumberCarsOwned\", hue=\"HomeOwnerFlag\", size=None, style=None, data=df,\n",
    "            estimator='mean', ci=95)\n",
    "\n",
    "plt.show()"
   ]
  },
  {
   "cell_type": "code",
   "execution_count": null,
   "metadata": {},
   "outputs": [],
   "source": [
    "sns.catplot(x=\"CountryRegionName\", y=\"NumberCarsOwned\", hue=None, data=df, row=None, col=None,\n",
    "    col_wrap=None, estimator=\"mean\", ci=95, kind='strip', height=4, aspect=3)\n",
    "\n",
    "plt.show()"
   ]
  },
  {
   "cell_type": "code",
   "execution_count": null,
   "metadata": {},
   "outputs": [],
   "source": [
    "fig, ax = plt.subplots(figsize=(12,8))\n",
    "\n",
    "sns.countplot(x=\"verifiedstatus\", y=None, hue=None, data=df)\n",
    "plt.show()"
   ]
  },
  {
   "cell_type": "code",
   "execution_count": null,
   "metadata": {},
   "outputs": [],
   "source": [
    "fig, ax = plt.subplots(figsize=(12,8))\n",
    "\n",
    "sns.violinplot(x=\"age\", y=None, hue=None, data=df, split=True)\n",
    "plt.show()"
   ]
  },
  {
   "cell_type": "code",
   "execution_count": null,
   "metadata": {},
   "outputs": [],
   "source": [
    "fig, ax = plt.subplots(figsize=(12,8))\n",
    "sns.kdeplot(x=\"income\", y=None, shade=True, vertical=False, kernel=None, data=df)\n",
    "\n",
    "plt.show()"
   ]
  },
  {
   "cell_type": "code",
   "execution_count": null,
   "metadata": {},
   "outputs": [],
   "source": [
    "sns.lmplot(x=None, y=None, data=None, hue=None, col=None, row=None, col_wrap=None,\n",
    "    height=5, aspect=1)\n",
    "\n",
    "plt.show()"
   ]
  },
  {
   "cell_type": "code",
   "execution_count": null,
   "metadata": {},
   "outputs": [],
   "source": [
    "sns.jointplot(x=None, y=None, data=None, kind='scatter', color=None, height=6, ratio=5, hue=None)\n",
    "\n",
    "plt.show()"
   ]
  },
  {
   "cell_type": "code",
   "execution_count": null,
   "metadata": {},
   "outputs": [],
   "source": [
    "sns.jointplot(x=\"landsurfacecondition\", y=\"damagegrade\", data=df, kind='hist', color=None, height=6, ratio=5, hue=None)\n",
    "\n",
    "plt.show()"
   ]
  },
  {
   "cell_type": "code",
   "execution_count": null,
   "metadata": {},
   "outputs": [],
   "source": [
    "fig, ax = plt.subplots(figsize=(12,8))\n",
    "\n",
    "\n",
    "plt.show()"
   ]
  },
  {
   "cell_type": "code",
   "execution_count": null,
   "metadata": {},
   "outputs": [],
   "source": [
    "g = sns.FacetGrid(data=df, row=None, col=\"damagegrade\", hue=None, col_wrap=None,  sharex=True,  sharey=True,\n",
    "              height=5, aspect=1)\n",
    "\n",
    "g.map(sns.histplot, \"countfloorspreeq\")\n",
    "\n",
    "plt.show()"
   ]
  },
  {
   "cell_type": "code",
   "execution_count": null,
   "metadata": {},
   "outputs": [],
   "source": [
    "g = sns.FacetGrid(data=df, row=None, col=\"damagegrade\", hue=None, col_wrap=None,  sharex=True,  sharey=True,\n",
    "              height=5, aspect=1)\n",
    "\n",
    "g.map(sns.histplot, \"area\")\n",
    "\n",
    "plt.show()"
   ]
  },
  {
   "cell_type": "markdown",
   "metadata": {},
   "source": [
    "**==============================================================================================================**"
   ]
  },
  {
   "cell_type": "markdown",
   "metadata": {},
   "source": [
    "**==============================================================================================================**"
   ]
  },
  {
   "cell_type": "markdown",
   "metadata": {},
   "source": [
    "**==============================================================================================================**"
   ]
  },
  {
   "cell_type": "markdown",
   "metadata": {},
   "source": [
    "# Feature Engineering\n",
    "\n",
    "  * **Feature selection**\n",
    "    * Removing uninformative features\n",
    "  * **Feature extraction**\n",
    "    * Creating new features from existing features\n",
    "  * **Feature transformation**\n",
    "    * Modifying existing features to better suit our objectives\n",
    "    * Encoding of categorical features as dummies\n",
    " \n",
    "When modeling, best practice is to perform a rigorous examination of your data before beginning feature engineering and feature selection. This process is important. Not only does it help you understand your data, what it's telling you, and what it's _not_ telling you, but it also can give you clues that help you create new features. "
   ]
  },
  {
   "cell_type": "markdown",
   "metadata": {},
   "source": [
    "### Drop unwanted features (Based on Domain Knowledge)"
   ]
  },
  {
   "cell_type": "code",
   "execution_count": null,
   "metadata": {},
   "outputs": [],
   "source": [
    "df.head(1)"
   ]
  },
  {
   "cell_type": "code",
   "execution_count": null,
   "metadata": {},
   "outputs": [],
   "source": [
    "df.columns"
   ]
  },
  {
   "cell_type": "code",
   "execution_count": null,
   "metadata": {},
   "outputs": [],
   "source": [
    "df.drop(['zipcodestart', 'zipcodeend', 'neighborhoodstart', 'neighborhoodend'], axis=1, inplace=True)"
   ]
  },
  {
   "cell_type": "code",
   "execution_count": null,
   "metadata": {},
   "outputs": [],
   "source": [
    "df.head()"
   ]
  },
  {
   "cell_type": "code",
   "execution_count": null,
   "metadata": {},
   "outputs": [],
   "source": [
    "df.tail()"
   ]
  },
  {
   "cell_type": "code",
   "execution_count": null,
   "metadata": {},
   "outputs": [],
   "source": [
    "#df.to_csv(\"cyclistic.csv\", index=False)"
   ]
  },
  {
   "cell_type": "markdown",
   "metadata": {},
   "source": [
    "### Reducing features after performing selection"
   ]
  },
  {
   "cell_type": "code",
   "execution_count": null,
   "metadata": {},
   "outputs": [],
   "source": [
    "df.head()"
   ]
  },
  {
   "cell_type": "code",
   "execution_count": null,
   "metadata": {},
   "outputs": [],
   "source": [
    "df2 = df[['lotarea']]"
   ]
  },
  {
   "cell_type": "code",
   "execution_count": null,
   "metadata": {},
   "outputs": [],
   "source": [
    "df2"
   ]
  },
  {
   "cell_type": "code",
   "execution_count": null,
   "metadata": {},
   "outputs": [],
   "source": [
    "df2.to_csv(\"ameshousingmod.csv\", index=False)"
   ]
  },
  {
   "cell_type": "markdown",
   "metadata": {},
   "source": [
    "**==============================================================================================================**"
   ]
  },
  {
   "cell_type": "markdown",
   "metadata": {},
   "source": [
    "## Rename columns"
   ]
  },
  {
   "cell_type": "code",
   "execution_count": null,
   "metadata": {},
   "outputs": [],
   "source": [
    "df.columns"
   ]
  },
  {
   "cell_type": "code",
   "execution_count": null,
   "metadata": {},
   "outputs": [],
   "source": [
    "df = df.rename(columns =  {'species_Bream': 'bream',\n",
    "                           'species_Rare': 'rare'\n",
    "                          })"
   ]
  },
  {
   "cell_type": "code",
   "execution_count": null,
   "metadata": {},
   "outputs": [],
   "source": [
    "# Rename columns as needed\n",
    " \n",
    "df = df.rename(columns =  {'countryregionname': 'country',\n",
    "                          'homeownerflag': 'homeowner',\n",
    "                          'numbercarsowned': 'cars',\n",
    "                          'numberchildrenathome':'child',\n",
    "                          'avemonthspend': 'spend'\n",
    "                          })\n",
    "\n",
    "# Display all column names after the update\n",
    "### YOUR CODE HERE ### \n",
    "df.columns"
   ]
  },
  {
   "cell_type": "code",
   "execution_count": null,
   "metadata": {},
   "outputs": [],
   "source": [
    "#Method 3: Using a new list of column names\n",
    "\n",
    "# Creating a list of new columns\n",
    "df_cols = ['RankSeason', 'RankPlayoffs', 'OOBP', 'OSLG', \n",
    "           'MIRankSeason', 'MIRankPlayoffs', \n",
    "           'MIOOBP', 'MIOSLG', 'Team', 'League', 'Year', \n",
    "           'RS', 'RA', 'W', 'OBP', 'SLG', 'BA', 'Playoffs', 'G'\n",
    "          ]\n",
    "\n",
    "# printing the columns\n",
    "# before renaming\n",
    "print(df2.columns)\n",
    "\n",
    "# Renaming the columns\n",
    "df2.columns = df_cols\n",
    "\n",
    "# printing the columns\n",
    "# after renaming\n",
    "print(df2.columns)\n"
   ]
  },
  {
   "cell_type": "code",
   "execution_count": null,
   "metadata": {},
   "outputs": [],
   "source": [
    "# make all column headers in pandas data frame lower case\n",
    "\n",
    "df.columns = map(str.lower, df.columns)"
   ]
  },
  {
   "cell_type": "code",
   "execution_count": null,
   "metadata": {},
   "outputs": [],
   "source": [
    "df.columns"
   ]
  },
  {
   "cell_type": "code",
   "execution_count": null,
   "metadata": {},
   "outputs": [],
   "source": [
    "train.columns = map(str.lower, train.columns)"
   ]
  },
  {
   "cell_type": "code",
   "execution_count": null,
   "metadata": {},
   "outputs": [],
   "source": [
    "train.columns"
   ]
  },
  {
   "cell_type": "code",
   "execution_count": null,
   "metadata": {},
   "outputs": [],
   "source": [
    "test.columns = map(str.lower, test.columns)"
   ]
  },
  {
   "cell_type": "code",
   "execution_count": null,
   "metadata": {},
   "outputs": [],
   "source": [
    "test.columns"
   ]
  },
  {
   "cell_type": "code",
   "execution_count": null,
   "metadata": {},
   "outputs": [],
   "source": [
    "# remove special character\n",
    "df.columns = df.columns.str.replace(' ', '')"
   ]
  },
  {
   "cell_type": "code",
   "execution_count": null,
   "metadata": {},
   "outputs": [],
   "source": [
    "# remove special character\n",
    "df.columns = df.columns.str.replace('_', '')"
   ]
  },
  {
   "cell_type": "code",
   "execution_count": null,
   "metadata": {},
   "outputs": [],
   "source": [
    "# remove special character\n",
    "df.columns = df.columns.str.replace('-', '')"
   ]
  },
  {
   "cell_type": "code",
   "execution_count": null,
   "metadata": {},
   "outputs": [],
   "source": [
    "# remove special character\n",
    "df.columns = df.columns.str.replace('.', '')"
   ]
  },
  {
   "cell_type": "code",
   "execution_count": null,
   "metadata": {},
   "outputs": [],
   "source": [
    "df.head()"
   ]
  },
  {
   "cell_type": "code",
   "execution_count": null,
   "metadata": {},
   "outputs": [],
   "source": [
    "#train.to_csv(\"train.csv\", index=False)"
   ]
  },
  {
   "cell_type": "code",
   "execution_count": null,
   "metadata": {},
   "outputs": [],
   "source": [
    "#test.to_csv(\"test.csv\", index=False)"
   ]
  },
  {
   "cell_type": "markdown",
   "metadata": {},
   "source": [
    "**==============================================================================================================**"
   ]
  },
  {
   "cell_type": "markdown",
   "metadata": {},
   "source": [
    "## Rearrange columns"
   ]
  },
  {
   "cell_type": "code",
   "execution_count": null,
   "metadata": {},
   "outputs": [],
   "source": [
    "df.columns"
   ]
  },
  {
   "cell_type": "code",
   "execution_count": null,
   "metadata": {},
   "outputs": [],
   "source": [
    "df.head()"
   ]
  },
  {
   "cell_type": "code",
   "execution_count": null,
   "metadata": {},
   "outputs": [],
   "source": [
    "df.describe()"
   ]
  },
  {
   "cell_type": "code",
   "execution_count": null,
   "metadata": {},
   "outputs": [],
   "source": [
    "df.shape"
   ]
  },
  {
   "cell_type": "code",
   "execution_count": null,
   "metadata": {},
   "outputs": [],
   "source": [
    "cols = ['id', 'limitbal', 'gender', 'educ', 'marital', 'age', 'medianpay', 'medianbillamt', 'medianpayamt', 'default'\n",
    "        ]"
   ]
  },
  {
   "cell_type": "code",
   "execution_count": null,
   "metadata": {},
   "outputs": [],
   "source": [
    "df = df[cols]"
   ]
  },
  {
   "cell_type": "code",
   "execution_count": null,
   "metadata": {},
   "outputs": [],
   "source": [
    "df.head()"
   ]
  },
  {
   "cell_type": "code",
   "execution_count": null,
   "metadata": {},
   "outputs": [],
   "source": [
    "#df.to_csv(\"creditcard.csv\", index=False)"
   ]
  },
  {
   "cell_type": "markdown",
   "metadata": {},
   "source": [
    "**==============================================================================================================**"
   ]
  },
  {
   "cell_type": "markdown",
   "metadata": {},
   "source": [
    "## Treat Duplicate Values"
   ]
  },
  {
   "cell_type": "code",
   "execution_count": null,
   "metadata": {},
   "outputs": [],
   "source": [
    "df.duplicated(keep='first').sum()"
   ]
  },
  {
   "cell_type": "code",
   "execution_count": null,
   "metadata": {},
   "outputs": [],
   "source": [
    "#identify duplicate rows\n",
    "duplicateRows = df[df.duplicated(keep='last')]"
   ]
  },
  {
   "cell_type": "code",
   "execution_count": null,
   "metadata": {},
   "outputs": [],
   "source": [
    "duplicateRows"
   ]
  },
  {
   "cell_type": "code",
   "execution_count": null,
   "metadata": {},
   "outputs": [],
   "source": [
    "df.drop_duplicates(ignore_index=True, inplace=True)"
   ]
  },
  {
   "cell_type": "code",
   "execution_count": null,
   "metadata": {},
   "outputs": [],
   "source": [
    "df"
   ]
  },
  {
   "cell_type": "code",
   "execution_count": null,
   "metadata": {},
   "outputs": [],
   "source": [
    "#df.to_csv(\"Pokemon.csv\", index=False)"
   ]
  },
  {
   "cell_type": "markdown",
   "metadata": {},
   "source": [
    "**==============================================================================================================**"
   ]
  },
  {
   "cell_type": "markdown",
   "metadata": {},
   "source": [
    "## Label Encoding\n",
    "\n",
    "Label Encoding is a popular encoding technique for handling categorical variables. In this technique, each label is assigned a unique integer based on alphabetical ordering."
   ]
  },
  {
   "cell_type": "markdown",
   "metadata": {},
   "source": [
    "label_encoder object knows how to understand word labels. \n",
    "\n",
    "`label_encoder = LabelEncoder()`\n",
    "\n",
    "Encode labels in column 'Country'. \n",
    "\n",
    "`df['Timely'] = label_encoder.fit_transform(df['Timely'])` \n"
   ]
  },
  {
   "cell_type": "markdown",
   "metadata": {},
   "source": [
    "**==============================================================================================================**"
   ]
  },
  {
   "cell_type": "markdown",
   "metadata": {},
   "source": [
    "# Feature Engineering"
   ]
  },
  {
   "cell_type": "markdown",
   "metadata": {},
   "source": [
    "## Combine features with functions"
   ]
  },
  {
   "cell_type": "code",
   "execution_count": null,
   "metadata": {},
   "outputs": [],
   "source": [
    "df.head()"
   ]
  },
  {
   "cell_type": "code",
   "execution_count": null,
   "metadata": {},
   "outputs": [],
   "source": [
    "df.columns"
   ]
  },
  {
   "cell_type": "code",
   "execution_count": null,
   "metadata": {},
   "outputs": [],
   "source": [
    "# make a list with the features we want to combine\n",
    "\n",
    "features = ['payamt1', 'payamt2', 'payamt3', 'payamt4', 'payamt5', 'payamt6'\n",
    "     \n",
    "]"
   ]
  },
  {
   "cell_type": "code",
   "execution_count": null,
   "metadata": {},
   "outputs": [],
   "source": [
    "df[features].head()"
   ]
  },
  {
   "cell_type": "code",
   "execution_count": null,
   "metadata": {},
   "outputs": [],
   "source": [
    "# list with functions to apply for combinations\n",
    "\n",
    "math_func = [\"sum\", \"prod\", \"mean\", \"median\", \"std\", \"max\", \"min\", \"count\"]"
   ]
  },
  {
   "cell_type": "code",
   "execution_count": null,
   "metadata": {},
   "outputs": [],
   "source": [
    "math_func = [\"median\"]"
   ]
  },
  {
   "cell_type": "code",
   "execution_count": null,
   "metadata": {},
   "outputs": [],
   "source": [
    "# name of new features\n",
    "\n",
    "new_feature_names = [\"sum_f\", \"prod_f\", \"mean_f\", \"median_f\", \"std_f\", \"max_f\", \"min_f\", \"count_f\"]"
   ]
  },
  {
   "cell_type": "code",
   "execution_count": null,
   "metadata": {},
   "outputs": [],
   "source": [
    "new_feature_names = [\"medianpay\"]"
   ]
  },
  {
   "cell_type": "code",
   "execution_count": null,
   "metadata": {},
   "outputs": [],
   "source": [
    "# automate feature combination with Feature-engine\n",
    "\n",
    "create = MathFeatures(\n",
    "    variables=features,\n",
    "    func=math_func,\n",
    "    new_variables_names=new_feature_names,\n",
    ")"
   ]
  },
  {
   "cell_type": "code",
   "execution_count": null,
   "metadata": {},
   "outputs": [],
   "source": [
    "create"
   ]
  },
  {
   "cell_type": "code",
   "execution_count": null,
   "metadata": {},
   "outputs": [],
   "source": [
    "create = MathFeatures(variables=features, func=\"median\", new_variables_names=[\"medianpayamt\"], drop_original=True)"
   ]
  },
  {
   "cell_type": "code",
   "execution_count": null,
   "metadata": {},
   "outputs": [],
   "source": [
    "# combine features\n",
    "\n",
    "df2 = create.fit_transform(df)"
   ]
  },
  {
   "cell_type": "code",
   "execution_count": null,
   "metadata": {},
   "outputs": [],
   "source": [
    "df2"
   ]
  },
  {
   "cell_type": "code",
   "execution_count": null,
   "metadata": {},
   "outputs": [],
   "source": [
    "#df2.to_csv(\"creditcard.csv\", index=False)"
   ]
  },
  {
   "cell_type": "markdown",
   "metadata": {},
   "source": [
    "**==============================================================================================================**"
   ]
  },
  {
   "cell_type": "markdown",
   "metadata": {},
   "source": [
    "## Polynomial Features Transformation"
   ]
  },
  {
   "cell_type": "code",
   "execution_count": null,
   "metadata": {},
   "outputs": [],
   "source": [
    "pr = PolynomialFeatures(degree=2, interaction_only=True, include_bias=False)\n",
    "pr"
   ]
  },
  {
   "cell_type": "code",
   "execution_count": null,
   "metadata": {},
   "outputs": [],
   "source": [
    "pr = PolynomialFeatures(degree=2)\n",
    "x_train_pr = pr.fit_transform(x_train[['horsepower']])\n",
    "x_test_pr = pr.fit_transform(x_test[['horsepower']])\n",
    "pr"
   ]
  },
  {
   "cell_type": "code",
   "execution_count": null,
   "metadata": {},
   "outputs": [],
   "source": [
    "X_poly = pr.fit_transform(X)"
   ]
  },
  {
   "cell_type": "code",
   "execution_count": null,
   "metadata": {},
   "outputs": [],
   "source": [
    "X_poly"
   ]
  },
  {
   "cell_type": "code",
   "execution_count": null,
   "metadata": {},
   "outputs": [],
   "source": [
    "X_poly.shape"
   ]
  },
  {
   "cell_type": "markdown",
   "metadata": {},
   "source": [
    "**==============================================================================================================**"
   ]
  },
  {
   "cell_type": "markdown",
   "metadata": {},
   "source": [
    "#### Python code done by Dennis Lam"
   ]
  }
 ],
 "metadata": {
  "kernelspec": {
   "display_name": "Python 3 (ipykernel)",
   "language": "python",
   "name": "python3"
  },
  "language_info": {
   "codemirror_mode": {
    "name": "ipython",
    "version": 3
   },
   "file_extension": ".py",
   "mimetype": "text/x-python",
   "name": "python",
   "nbconvert_exporter": "python",
   "pygments_lexer": "ipython3",
   "version": "3.9.12"
  }
 },
 "nbformat": 4,
 "nbformat_minor": 4
}
