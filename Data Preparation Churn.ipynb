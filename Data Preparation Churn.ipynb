{
 "cells": [
  {
   "cell_type": "markdown",
   "metadata": {},
   "source": [
    "# Data Preparation Churn\n",
    "\n",
    "## This notebook is for Data Cleaning and Feature Engineering"
   ]
  },
  {
   "cell_type": "markdown",
   "metadata": {},
   "source": [
    "**==============================================================================================================**"
   ]
  },
  {
   "cell_type": "markdown",
   "metadata": {},
   "source": [
    "## Data Dictionary"
   ]
  },
  {
   "cell_type": "markdown",
   "metadata": {},
   "source": [
    "## Data Tasks\n",
    "\n",
    "### 1) Understand the shape of the data (Histograms, box plots, etc.)\n",
    "\n",
    "### 2) Data Cleaning \n",
    "\n",
    "### 3) Data Exploration\n",
    "\n",
    "### 4) Feature Engineering \n",
    "\n",
    "### 5) Data Preprocessing for Model\n",
    "\n",
    "### 6) Basic Model Building \n",
    "\n",
    "### 7) Model Tuning \n",
    "\n",
    "### 8) Ensemble Model Building \n",
    "\n",
    "### 9) Results \n"
   ]
  },
  {
   "cell_type": "markdown",
   "metadata": {},
   "source": [
    "**==============================================================================================================**"
   ]
  },
  {
   "cell_type": "markdown",
   "metadata": {},
   "source": [
    "## Import Libraries"
   ]
  },
  {
   "cell_type": "code",
   "execution_count": 1,
   "metadata": {},
   "outputs": [
    {
     "data": {
      "application/javascript": [
       "IPython.notebook.set_autosave_interval(60000)"
      ]
     },
     "metadata": {},
     "output_type": "display_data"
    },
    {
     "name": "stdout",
     "output_type": "stream",
     "text": [
      "Autosaving every 60 seconds\n"
     ]
    }
   ],
   "source": [
    "import numpy as np\n",
    "#from numpy import count_nonzero, median, mean\n",
    "import pandas as pd\n",
    "import matplotlib.pyplot as plt\n",
    "import seaborn as sns\n",
    "import random\n",
    "#import squarify\n",
    "\n",
    "import datetime\n",
    "from datetime import datetime, timedelta, date, time\n",
    "\n",
    "\n",
    "#import os\n",
    "#import zipfile\n",
    "import scipy\n",
    "from scipy import stats\n",
    "#from scipy.stats.mstats import normaltest # D'Agostino K^2 Test\n",
    "#from scipy.stats import boxcox\n",
    "from collections import Counter\n",
    "\n",
    "import sklearn\n",
    "from sklearn.model_selection import train_test_split\n",
    "from sklearn.preprocessing import StandardScaler, MinMaxScaler, OneHotEncoder, OrdinalEncoder, LabelEncoder\n",
    "from sklearn.preprocessing import PolynomialFeatures, RobustScaler, Binarizer\n",
    "from sklearn.impute import SimpleImputer, MissingIndicator, KNNImputer\n",
    "from sklearn.compose import make_column_transformer, ColumnTransformer\n",
    "from sklearn.pipeline import make_pipeline, Pipeline\n",
    "from sklearn import set_config\n",
    "\n",
    "%matplotlib inline\n",
    "#sets the default autosave frequency in seconds\n",
    "%autosave 60 \n",
    "sns.set_style('dark')\n",
    "sns.set(font_scale=1.2)\n",
    "\n",
    "plt.rc('axes', titlesize=9)\n",
    "plt.rc('axes', labelsize=14)\n",
    "plt.rc('xtick', labelsize=12)\n",
    "plt.rc('ytick', labelsize=12)\n",
    "\n",
    "import warnings\n",
    "warnings.filterwarnings('ignore')\n",
    "\n",
    "# Use Feature-Engine library\n",
    "import feature_engine\n",
    "\n",
    "#from feature_engine.imputation import AddMissingIndicator, CategoricalImputer, DropMissingData, MeanMedianImputer\n",
    "#from feature_engine.imputation import ArbitraryNumberImputer, RandomSampleImputer\n",
    "\n",
    "#from feature_engine.outliers import Winsorizer, ArbitraryOutlierCapper, OutlierTrimmer\n",
    "\n",
    "from feature_engine.encoding import MeanEncoder as menc\n",
    "\n",
    "from feature_engine.creation import MathFeatures, RelativeFeatures\n",
    "\n",
    "\n",
    "pd.set_option('display.max_columns',None)\n",
    "#pd.set_option('display.max_rows',None)\n",
    "pd.set_option('display.width', 1000)\n",
    "pd.set_option('display.float_format','{:.2f}'.format)\n",
    "\n",
    "random.seed(0)\n",
    "np.random.seed(0)\n",
    "np.set_printoptions(suppress=True)"
   ]
  },
  {
   "cell_type": "code",
   "execution_count": null,
   "metadata": {},
   "outputs": [],
   "source": [
    "desc = pd.read_csv(\"data_descriptions.csv\")\n",
    "desc"
   ]
  },
  {
   "cell_type": "markdown",
   "metadata": {},
   "source": [
    "**==============================================================================================================**"
   ]
  },
  {
   "cell_type": "markdown",
   "metadata": {},
   "source": [
    "## Create Train, Validation and Test Dataset"
   ]
  },
  {
   "cell_type": "markdown",
   "metadata": {},
   "source": [
    "When you split the data set into three splits, what we get is the test data set. The three splits consist of training data set, validation data set and test data set. You train the model using the training data set and assess the model performance using the validation data set. You optimize the model performance using training and validation data set. Finally, you test the model generalization performance using the test data set. The test data set remains hidden during the model training and model performance evaluation stage. One can split the data into a 70:20:10 ratio. 10% of the data set can be set aside as test data for testing the model performance. "
   ]
  },
  {
   "cell_type": "code",
   "execution_count": 2,
   "metadata": {},
   "outputs": [],
   "source": [
    "df = pd.read_csv(\"train.csv\")"
   ]
  },
  {
   "cell_type": "code",
   "execution_count": 3,
   "metadata": {},
   "outputs": [
    {
     "data": {
      "text/plain": [
       "(243787, 20)"
      ]
     },
     "execution_count": 3,
     "metadata": {},
     "output_type": "execute_result"
    }
   ],
   "source": [
    "df.shape"
   ]
  },
  {
   "cell_type": "code",
   "execution_count": 4,
   "metadata": {},
   "outputs": [],
   "source": [
    "df = df.sample(frac=1, random_state=0)"
   ]
  },
  {
   "cell_type": "code",
   "execution_count": 5,
   "metadata": {},
   "outputs": [
    {
     "data": {
      "text/html": [
       "<div>\n",
       "<style scoped>\n",
       "    .dataframe tbody tr th:only-of-type {\n",
       "        vertical-align: middle;\n",
       "    }\n",
       "\n",
       "    .dataframe tbody tr th {\n",
       "        vertical-align: top;\n",
       "    }\n",
       "\n",
       "    .dataframe thead th {\n",
       "        text-align: right;\n",
       "    }\n",
       "</style>\n",
       "<table border=\"1\" class=\"dataframe\">\n",
       "  <thead>\n",
       "    <tr style=\"text-align: right;\">\n",
       "      <th></th>\n",
       "      <th>accountage</th>\n",
       "      <th>monthlycharges</th>\n",
       "      <th>totalcharges</th>\n",
       "      <th>subscriptiontype</th>\n",
       "      <th>paymentmethod</th>\n",
       "      <th>paperlessbilling</th>\n",
       "      <th>contenttype</th>\n",
       "      <th>multideviceaccess</th>\n",
       "      <th>deviceregistered</th>\n",
       "      <th>viewinghoursperweek</th>\n",
       "      <th>averageviewingduration</th>\n",
       "      <th>contentdownloadspermonth</th>\n",
       "      <th>genrepreference</th>\n",
       "      <th>userrating</th>\n",
       "      <th>supportticketspermonth</th>\n",
       "      <th>gender</th>\n",
       "      <th>watchlistsize</th>\n",
       "      <th>parentalcontrol</th>\n",
       "      <th>subtitlesenabled</th>\n",
       "      <th>churn</th>\n",
       "    </tr>\n",
       "  </thead>\n",
       "  <tbody>\n",
       "    <tr>\n",
       "      <th>86721</th>\n",
       "      <td>13</td>\n",
       "      <td>19.71</td>\n",
       "      <td>256.26</td>\n",
       "      <td>Basic</td>\n",
       "      <td>Credit card</td>\n",
       "      <td>No</td>\n",
       "      <td>Both</td>\n",
       "      <td>No</td>\n",
       "      <td>Tablet</td>\n",
       "      <td>6.48</td>\n",
       "      <td>50.03</td>\n",
       "      <td>33</td>\n",
       "      <td>Action</td>\n",
       "      <td>1.18</td>\n",
       "      <td>6</td>\n",
       "      <td>Male</td>\n",
       "      <td>7</td>\n",
       "      <td>Yes</td>\n",
       "      <td>No</td>\n",
       "      <td>0</td>\n",
       "    </tr>\n",
       "    <tr>\n",
       "      <th>160337</th>\n",
       "      <td>57</td>\n",
       "      <td>9.25</td>\n",
       "      <td>527.13</td>\n",
       "      <td>Premium</td>\n",
       "      <td>Bank transfer</td>\n",
       "      <td>No</td>\n",
       "      <td>Both</td>\n",
       "      <td>No</td>\n",
       "      <td>Mobile</td>\n",
       "      <td>17.04</td>\n",
       "      <td>44.53</td>\n",
       "      <td>14</td>\n",
       "      <td>Action</td>\n",
       "      <td>4.57</td>\n",
       "      <td>8</td>\n",
       "      <td>Male</td>\n",
       "      <td>7</td>\n",
       "      <td>Yes</td>\n",
       "      <td>Yes</td>\n",
       "      <td>0</td>\n",
       "    </tr>\n",
       "    <tr>\n",
       "      <th>202410</th>\n",
       "      <td>99</td>\n",
       "      <td>9.36</td>\n",
       "      <td>926.48</td>\n",
       "      <td>Basic</td>\n",
       "      <td>Bank transfer</td>\n",
       "      <td>No</td>\n",
       "      <td>Both</td>\n",
       "      <td>Yes</td>\n",
       "      <td>Computer</td>\n",
       "      <td>14.30</td>\n",
       "      <td>43.81</td>\n",
       "      <td>31</td>\n",
       "      <td>Fantasy</td>\n",
       "      <td>1.95</td>\n",
       "      <td>0</td>\n",
       "      <td>Male</td>\n",
       "      <td>17</td>\n",
       "      <td>No</td>\n",
       "      <td>No</td>\n",
       "      <td>0</td>\n",
       "    </tr>\n",
       "    <tr>\n",
       "      <th>102943</th>\n",
       "      <td>28</td>\n",
       "      <td>13.17</td>\n",
       "      <td>368.90</td>\n",
       "      <td>Basic</td>\n",
       "      <td>Mailed check</td>\n",
       "      <td>Yes</td>\n",
       "      <td>Movies</td>\n",
       "      <td>No</td>\n",
       "      <td>Mobile</td>\n",
       "      <td>6.88</td>\n",
       "      <td>57.23</td>\n",
       "      <td>49</td>\n",
       "      <td>Drama</td>\n",
       "      <td>1.41</td>\n",
       "      <td>2</td>\n",
       "      <td>Female</td>\n",
       "      <td>7</td>\n",
       "      <td>Yes</td>\n",
       "      <td>Yes</td>\n",
       "      <td>0</td>\n",
       "    </tr>\n",
       "    <tr>\n",
       "      <th>165297</th>\n",
       "      <td>7</td>\n",
       "      <td>18.95</td>\n",
       "      <td>132.63</td>\n",
       "      <td>Standard</td>\n",
       "      <td>Bank transfer</td>\n",
       "      <td>Yes</td>\n",
       "      <td>Both</td>\n",
       "      <td>Yes</td>\n",
       "      <td>Tablet</td>\n",
       "      <td>27.01</td>\n",
       "      <td>95.18</td>\n",
       "      <td>44</td>\n",
       "      <td>Fantasy</td>\n",
       "      <td>3.99</td>\n",
       "      <td>7</td>\n",
       "      <td>Female</td>\n",
       "      <td>11</td>\n",
       "      <td>Yes</td>\n",
       "      <td>No</td>\n",
       "      <td>0</td>\n",
       "    </tr>\n",
       "    <tr>\n",
       "      <th>...</th>\n",
       "      <td>...</td>\n",
       "      <td>...</td>\n",
       "      <td>...</td>\n",
       "      <td>...</td>\n",
       "      <td>...</td>\n",
       "      <td>...</td>\n",
       "      <td>...</td>\n",
       "      <td>...</td>\n",
       "      <td>...</td>\n",
       "      <td>...</td>\n",
       "      <td>...</td>\n",
       "      <td>...</td>\n",
       "      <td>...</td>\n",
       "      <td>...</td>\n",
       "      <td>...</td>\n",
       "      <td>...</td>\n",
       "      <td>...</td>\n",
       "      <td>...</td>\n",
       "      <td>...</td>\n",
       "      <td>...</td>\n",
       "    </tr>\n",
       "    <tr>\n",
       "      <th>176963</th>\n",
       "      <td>79</td>\n",
       "      <td>10.28</td>\n",
       "      <td>812.15</td>\n",
       "      <td>Standard</td>\n",
       "      <td>Electronic check</td>\n",
       "      <td>Yes</td>\n",
       "      <td>Both</td>\n",
       "      <td>Yes</td>\n",
       "      <td>Computer</td>\n",
       "      <td>30.60</td>\n",
       "      <td>141.69</td>\n",
       "      <td>30</td>\n",
       "      <td>Comedy</td>\n",
       "      <td>2.32</td>\n",
       "      <td>6</td>\n",
       "      <td>Female</td>\n",
       "      <td>2</td>\n",
       "      <td>Yes</td>\n",
       "      <td>No</td>\n",
       "      <td>0</td>\n",
       "    </tr>\n",
       "    <tr>\n",
       "      <th>117952</th>\n",
       "      <td>114</td>\n",
       "      <td>7.76</td>\n",
       "      <td>884.93</td>\n",
       "      <td>Standard</td>\n",
       "      <td>Electronic check</td>\n",
       "      <td>No</td>\n",
       "      <td>Both</td>\n",
       "      <td>No</td>\n",
       "      <td>Computer</td>\n",
       "      <td>30.36</td>\n",
       "      <td>6.96</td>\n",
       "      <td>0</td>\n",
       "      <td>Drama</td>\n",
       "      <td>3.91</td>\n",
       "      <td>8</td>\n",
       "      <td>Male</td>\n",
       "      <td>8</td>\n",
       "      <td>Yes</td>\n",
       "      <td>No</td>\n",
       "      <td>0</td>\n",
       "    </tr>\n",
       "    <tr>\n",
       "      <th>173685</th>\n",
       "      <td>3</td>\n",
       "      <td>14.34</td>\n",
       "      <td>43.02</td>\n",
       "      <td>Premium</td>\n",
       "      <td>Electronic check</td>\n",
       "      <td>Yes</td>\n",
       "      <td>Movies</td>\n",
       "      <td>No</td>\n",
       "      <td>Computer</td>\n",
       "      <td>21.93</td>\n",
       "      <td>125.25</td>\n",
       "      <td>17</td>\n",
       "      <td>Action</td>\n",
       "      <td>4.75</td>\n",
       "      <td>2</td>\n",
       "      <td>Female</td>\n",
       "      <td>0</td>\n",
       "      <td>No</td>\n",
       "      <td>Yes</td>\n",
       "      <td>0</td>\n",
       "    </tr>\n",
       "    <tr>\n",
       "      <th>43567</th>\n",
       "      <td>119</td>\n",
       "      <td>14.04</td>\n",
       "      <td>1671.10</td>\n",
       "      <td>Premium</td>\n",
       "      <td>Credit card</td>\n",
       "      <td>Yes</td>\n",
       "      <td>Movies</td>\n",
       "      <td>Yes</td>\n",
       "      <td>Mobile</td>\n",
       "      <td>33.97</td>\n",
       "      <td>88.29</td>\n",
       "      <td>13</td>\n",
       "      <td>Sci-Fi</td>\n",
       "      <td>3.73</td>\n",
       "      <td>1</td>\n",
       "      <td>Female</td>\n",
       "      <td>22</td>\n",
       "      <td>Yes</td>\n",
       "      <td>Yes</td>\n",
       "      <td>0</td>\n",
       "    </tr>\n",
       "    <tr>\n",
       "      <th>199340</th>\n",
       "      <td>115</td>\n",
       "      <td>6.40</td>\n",
       "      <td>735.63</td>\n",
       "      <td>Basic</td>\n",
       "      <td>Mailed check</td>\n",
       "      <td>Yes</td>\n",
       "      <td>Both</td>\n",
       "      <td>No</td>\n",
       "      <td>Mobile</td>\n",
       "      <td>37.99</td>\n",
       "      <td>119.23</td>\n",
       "      <td>16</td>\n",
       "      <td>Drama</td>\n",
       "      <td>1.03</td>\n",
       "      <td>7</td>\n",
       "      <td>Male</td>\n",
       "      <td>18</td>\n",
       "      <td>No</td>\n",
       "      <td>Yes</td>\n",
       "      <td>0</td>\n",
       "    </tr>\n",
       "  </tbody>\n",
       "</table>\n",
       "<p>243787 rows × 20 columns</p>\n",
       "</div>"
      ],
      "text/plain": [
       "        accountage  monthlycharges  totalcharges subscriptiontype     paymentmethod paperlessbilling contenttype multideviceaccess deviceregistered  viewinghoursperweek  averageviewingduration  contentdownloadspermonth genrepreference  userrating  supportticketspermonth  gender  watchlistsize parentalcontrol subtitlesenabled  churn\n",
       "86721           13           19.71        256.26            Basic       Credit card               No        Both                No           Tablet                 6.48                   50.03                        33          Action        1.18                       6    Male              7             Yes               No      0\n",
       "160337          57            9.25        527.13          Premium     Bank transfer               No        Both                No           Mobile                17.04                   44.53                        14          Action        4.57                       8    Male              7             Yes              Yes      0\n",
       "202410          99            9.36        926.48            Basic     Bank transfer               No        Both               Yes         Computer                14.30                   43.81                        31         Fantasy        1.95                       0    Male             17              No               No      0\n",
       "102943          28           13.17        368.90            Basic      Mailed check              Yes      Movies                No           Mobile                 6.88                   57.23                        49           Drama        1.41                       2  Female              7             Yes              Yes      0\n",
       "165297           7           18.95        132.63         Standard     Bank transfer              Yes        Both               Yes           Tablet                27.01                   95.18                        44         Fantasy        3.99                       7  Female             11             Yes               No      0\n",
       "...            ...             ...           ...              ...               ...              ...         ...               ...              ...                  ...                     ...                       ...             ...         ...                     ...     ...            ...             ...              ...    ...\n",
       "176963          79           10.28        812.15         Standard  Electronic check              Yes        Both               Yes         Computer                30.60                  141.69                        30          Comedy        2.32                       6  Female              2             Yes               No      0\n",
       "117952         114            7.76        884.93         Standard  Electronic check               No        Both                No         Computer                30.36                    6.96                         0           Drama        3.91                       8    Male              8             Yes               No      0\n",
       "173685           3           14.34         43.02          Premium  Electronic check              Yes      Movies                No         Computer                21.93                  125.25                        17          Action        4.75                       2  Female              0              No              Yes      0\n",
       "43567          119           14.04       1671.10          Premium       Credit card              Yes      Movies               Yes           Mobile                33.97                   88.29                        13          Sci-Fi        3.73                       1  Female             22             Yes              Yes      0\n",
       "199340         115            6.40        735.63            Basic      Mailed check              Yes        Both                No           Mobile                37.99                  119.23                        16           Drama        1.03                       7    Male             18              No              Yes      0\n",
       "\n",
       "[243787 rows x 20 columns]"
      ]
     },
     "execution_count": 5,
     "metadata": {},
     "output_type": "execute_result"
    }
   ],
   "source": [
    "df"
   ]
  },
  {
   "cell_type": "code",
   "execution_count": 6,
   "metadata": {},
   "outputs": [],
   "source": [
    "trainset = df[0:25000]"
   ]
  },
  {
   "cell_type": "code",
   "execution_count": 7,
   "metadata": {},
   "outputs": [
    {
     "data": {
      "text/html": [
       "<div>\n",
       "<style scoped>\n",
       "    .dataframe tbody tr th:only-of-type {\n",
       "        vertical-align: middle;\n",
       "    }\n",
       "\n",
       "    .dataframe tbody tr th {\n",
       "        vertical-align: top;\n",
       "    }\n",
       "\n",
       "    .dataframe thead th {\n",
       "        text-align: right;\n",
       "    }\n",
       "</style>\n",
       "<table border=\"1\" class=\"dataframe\">\n",
       "  <thead>\n",
       "    <tr style=\"text-align: right;\">\n",
       "      <th></th>\n",
       "      <th>accountage</th>\n",
       "      <th>monthlycharges</th>\n",
       "      <th>totalcharges</th>\n",
       "      <th>subscriptiontype</th>\n",
       "      <th>paymentmethod</th>\n",
       "      <th>paperlessbilling</th>\n",
       "      <th>contenttype</th>\n",
       "      <th>multideviceaccess</th>\n",
       "      <th>deviceregistered</th>\n",
       "      <th>viewinghoursperweek</th>\n",
       "      <th>averageviewingduration</th>\n",
       "      <th>contentdownloadspermonth</th>\n",
       "      <th>genrepreference</th>\n",
       "      <th>userrating</th>\n",
       "      <th>supportticketspermonth</th>\n",
       "      <th>gender</th>\n",
       "      <th>watchlistsize</th>\n",
       "      <th>parentalcontrol</th>\n",
       "      <th>subtitlesenabled</th>\n",
       "      <th>churn</th>\n",
       "    </tr>\n",
       "  </thead>\n",
       "  <tbody>\n",
       "    <tr>\n",
       "      <th>86721</th>\n",
       "      <td>13</td>\n",
       "      <td>19.71</td>\n",
       "      <td>256.26</td>\n",
       "      <td>Basic</td>\n",
       "      <td>Credit card</td>\n",
       "      <td>No</td>\n",
       "      <td>Both</td>\n",
       "      <td>No</td>\n",
       "      <td>Tablet</td>\n",
       "      <td>6.48</td>\n",
       "      <td>50.03</td>\n",
       "      <td>33</td>\n",
       "      <td>Action</td>\n",
       "      <td>1.18</td>\n",
       "      <td>6</td>\n",
       "      <td>Male</td>\n",
       "      <td>7</td>\n",
       "      <td>Yes</td>\n",
       "      <td>No</td>\n",
       "      <td>0</td>\n",
       "    </tr>\n",
       "    <tr>\n",
       "      <th>160337</th>\n",
       "      <td>57</td>\n",
       "      <td>9.25</td>\n",
       "      <td>527.13</td>\n",
       "      <td>Premium</td>\n",
       "      <td>Bank transfer</td>\n",
       "      <td>No</td>\n",
       "      <td>Both</td>\n",
       "      <td>No</td>\n",
       "      <td>Mobile</td>\n",
       "      <td>17.04</td>\n",
       "      <td>44.53</td>\n",
       "      <td>14</td>\n",
       "      <td>Action</td>\n",
       "      <td>4.57</td>\n",
       "      <td>8</td>\n",
       "      <td>Male</td>\n",
       "      <td>7</td>\n",
       "      <td>Yes</td>\n",
       "      <td>Yes</td>\n",
       "      <td>0</td>\n",
       "    </tr>\n",
       "    <tr>\n",
       "      <th>202410</th>\n",
       "      <td>99</td>\n",
       "      <td>9.36</td>\n",
       "      <td>926.48</td>\n",
       "      <td>Basic</td>\n",
       "      <td>Bank transfer</td>\n",
       "      <td>No</td>\n",
       "      <td>Both</td>\n",
       "      <td>Yes</td>\n",
       "      <td>Computer</td>\n",
       "      <td>14.30</td>\n",
       "      <td>43.81</td>\n",
       "      <td>31</td>\n",
       "      <td>Fantasy</td>\n",
       "      <td>1.95</td>\n",
       "      <td>0</td>\n",
       "      <td>Male</td>\n",
       "      <td>17</td>\n",
       "      <td>No</td>\n",
       "      <td>No</td>\n",
       "      <td>0</td>\n",
       "    </tr>\n",
       "    <tr>\n",
       "      <th>102943</th>\n",
       "      <td>28</td>\n",
       "      <td>13.17</td>\n",
       "      <td>368.90</td>\n",
       "      <td>Basic</td>\n",
       "      <td>Mailed check</td>\n",
       "      <td>Yes</td>\n",
       "      <td>Movies</td>\n",
       "      <td>No</td>\n",
       "      <td>Mobile</td>\n",
       "      <td>6.88</td>\n",
       "      <td>57.23</td>\n",
       "      <td>49</td>\n",
       "      <td>Drama</td>\n",
       "      <td>1.41</td>\n",
       "      <td>2</td>\n",
       "      <td>Female</td>\n",
       "      <td>7</td>\n",
       "      <td>Yes</td>\n",
       "      <td>Yes</td>\n",
       "      <td>0</td>\n",
       "    </tr>\n",
       "    <tr>\n",
       "      <th>165297</th>\n",
       "      <td>7</td>\n",
       "      <td>18.95</td>\n",
       "      <td>132.63</td>\n",
       "      <td>Standard</td>\n",
       "      <td>Bank transfer</td>\n",
       "      <td>Yes</td>\n",
       "      <td>Both</td>\n",
       "      <td>Yes</td>\n",
       "      <td>Tablet</td>\n",
       "      <td>27.01</td>\n",
       "      <td>95.18</td>\n",
       "      <td>44</td>\n",
       "      <td>Fantasy</td>\n",
       "      <td>3.99</td>\n",
       "      <td>7</td>\n",
       "      <td>Female</td>\n",
       "      <td>11</td>\n",
       "      <td>Yes</td>\n",
       "      <td>No</td>\n",
       "      <td>0</td>\n",
       "    </tr>\n",
       "    <tr>\n",
       "      <th>...</th>\n",
       "      <td>...</td>\n",
       "      <td>...</td>\n",
       "      <td>...</td>\n",
       "      <td>...</td>\n",
       "      <td>...</td>\n",
       "      <td>...</td>\n",
       "      <td>...</td>\n",
       "      <td>...</td>\n",
       "      <td>...</td>\n",
       "      <td>...</td>\n",
       "      <td>...</td>\n",
       "      <td>...</td>\n",
       "      <td>...</td>\n",
       "      <td>...</td>\n",
       "      <td>...</td>\n",
       "      <td>...</td>\n",
       "      <td>...</td>\n",
       "      <td>...</td>\n",
       "      <td>...</td>\n",
       "      <td>...</td>\n",
       "    </tr>\n",
       "    <tr>\n",
       "      <th>173376</th>\n",
       "      <td>77</td>\n",
       "      <td>5.61</td>\n",
       "      <td>432.23</td>\n",
       "      <td>Premium</td>\n",
       "      <td>Mailed check</td>\n",
       "      <td>No</td>\n",
       "      <td>Movies</td>\n",
       "      <td>Yes</td>\n",
       "      <td>Tablet</td>\n",
       "      <td>27.82</td>\n",
       "      <td>123.75</td>\n",
       "      <td>30</td>\n",
       "      <td>Comedy</td>\n",
       "      <td>2.81</td>\n",
       "      <td>2</td>\n",
       "      <td>Female</td>\n",
       "      <td>21</td>\n",
       "      <td>Yes</td>\n",
       "      <td>Yes</td>\n",
       "      <td>0</td>\n",
       "    </tr>\n",
       "    <tr>\n",
       "      <th>115270</th>\n",
       "      <td>21</td>\n",
       "      <td>19.22</td>\n",
       "      <td>403.71</td>\n",
       "      <td>Standard</td>\n",
       "      <td>Credit card</td>\n",
       "      <td>Yes</td>\n",
       "      <td>Both</td>\n",
       "      <td>Yes</td>\n",
       "      <td>Computer</td>\n",
       "      <td>27.18</td>\n",
       "      <td>30.18</td>\n",
       "      <td>16</td>\n",
       "      <td>Comedy</td>\n",
       "      <td>3.58</td>\n",
       "      <td>3</td>\n",
       "      <td>Male</td>\n",
       "      <td>8</td>\n",
       "      <td>Yes</td>\n",
       "      <td>No</td>\n",
       "      <td>0</td>\n",
       "    </tr>\n",
       "    <tr>\n",
       "      <th>45838</th>\n",
       "      <td>27</td>\n",
       "      <td>14.58</td>\n",
       "      <td>393.65</td>\n",
       "      <td>Standard</td>\n",
       "      <td>Electronic check</td>\n",
       "      <td>No</td>\n",
       "      <td>Both</td>\n",
       "      <td>Yes</td>\n",
       "      <td>Tablet</td>\n",
       "      <td>18.12</td>\n",
       "      <td>16.10</td>\n",
       "      <td>25</td>\n",
       "      <td>Comedy</td>\n",
       "      <td>3.54</td>\n",
       "      <td>0</td>\n",
       "      <td>Male</td>\n",
       "      <td>8</td>\n",
       "      <td>No</td>\n",
       "      <td>No</td>\n",
       "      <td>0</td>\n",
       "    </tr>\n",
       "    <tr>\n",
       "      <th>160386</th>\n",
       "      <td>7</td>\n",
       "      <td>17.79</td>\n",
       "      <td>124.54</td>\n",
       "      <td>Standard</td>\n",
       "      <td>Mailed check</td>\n",
       "      <td>No</td>\n",
       "      <td>Both</td>\n",
       "      <td>Yes</td>\n",
       "      <td>Computer</td>\n",
       "      <td>14.60</td>\n",
       "      <td>88.88</td>\n",
       "      <td>18</td>\n",
       "      <td>Sci-Fi</td>\n",
       "      <td>1.85</td>\n",
       "      <td>9</td>\n",
       "      <td>Female</td>\n",
       "      <td>10</td>\n",
       "      <td>No</td>\n",
       "      <td>Yes</td>\n",
       "      <td>0</td>\n",
       "    </tr>\n",
       "    <tr>\n",
       "      <th>122235</th>\n",
       "      <td>109</td>\n",
       "      <td>10.80</td>\n",
       "      <td>1176.66</td>\n",
       "      <td>Standard</td>\n",
       "      <td>Credit card</td>\n",
       "      <td>No</td>\n",
       "      <td>Both</td>\n",
       "      <td>No</td>\n",
       "      <td>Tablet</td>\n",
       "      <td>18.23</td>\n",
       "      <td>54.21</td>\n",
       "      <td>29</td>\n",
       "      <td>Action</td>\n",
       "      <td>4.92</td>\n",
       "      <td>1</td>\n",
       "      <td>Female</td>\n",
       "      <td>3</td>\n",
       "      <td>No</td>\n",
       "      <td>Yes</td>\n",
       "      <td>0</td>\n",
       "    </tr>\n",
       "  </tbody>\n",
       "</table>\n",
       "<p>25000 rows × 20 columns</p>\n",
       "</div>"
      ],
      "text/plain": [
       "        accountage  monthlycharges  totalcharges subscriptiontype     paymentmethod paperlessbilling contenttype multideviceaccess deviceregistered  viewinghoursperweek  averageviewingduration  contentdownloadspermonth genrepreference  userrating  supportticketspermonth  gender  watchlistsize parentalcontrol subtitlesenabled  churn\n",
       "86721           13           19.71        256.26            Basic       Credit card               No        Both                No           Tablet                 6.48                   50.03                        33          Action        1.18                       6    Male              7             Yes               No      0\n",
       "160337          57            9.25        527.13          Premium     Bank transfer               No        Both                No           Mobile                17.04                   44.53                        14          Action        4.57                       8    Male              7             Yes              Yes      0\n",
       "202410          99            9.36        926.48            Basic     Bank transfer               No        Both               Yes         Computer                14.30                   43.81                        31         Fantasy        1.95                       0    Male             17              No               No      0\n",
       "102943          28           13.17        368.90            Basic      Mailed check              Yes      Movies                No           Mobile                 6.88                   57.23                        49           Drama        1.41                       2  Female              7             Yes              Yes      0\n",
       "165297           7           18.95        132.63         Standard     Bank transfer              Yes        Both               Yes           Tablet                27.01                   95.18                        44         Fantasy        3.99                       7  Female             11             Yes               No      0\n",
       "...            ...             ...           ...              ...               ...              ...         ...               ...              ...                  ...                     ...                       ...             ...         ...                     ...     ...            ...             ...              ...    ...\n",
       "173376          77            5.61        432.23          Premium      Mailed check               No      Movies               Yes           Tablet                27.82                  123.75                        30          Comedy        2.81                       2  Female             21             Yes              Yes      0\n",
       "115270          21           19.22        403.71         Standard       Credit card              Yes        Both               Yes         Computer                27.18                   30.18                        16          Comedy        3.58                       3    Male              8             Yes               No      0\n",
       "45838           27           14.58        393.65         Standard  Electronic check               No        Both               Yes           Tablet                18.12                   16.10                        25          Comedy        3.54                       0    Male              8              No               No      0\n",
       "160386           7           17.79        124.54         Standard      Mailed check               No        Both               Yes         Computer                14.60                   88.88                        18          Sci-Fi        1.85                       9  Female             10              No              Yes      0\n",
       "122235         109           10.80       1176.66         Standard       Credit card               No        Both                No           Tablet                18.23                   54.21                        29          Action        4.92                       1  Female              3              No              Yes      0\n",
       "\n",
       "[25000 rows x 20 columns]"
      ]
     },
     "execution_count": 7,
     "metadata": {},
     "output_type": "execute_result"
    }
   ],
   "source": [
    "trainset"
   ]
  },
  {
   "cell_type": "code",
   "execution_count": 8,
   "metadata": {},
   "outputs": [
    {
     "data": {
      "text/plain": [
       "Counter({0: 20489, 1: 4511})"
      ]
     },
     "execution_count": 8,
     "metadata": {},
     "output_type": "execute_result"
    }
   ],
   "source": [
    "Counter(trainset.churn)"
   ]
  },
  {
   "cell_type": "code",
   "execution_count": 9,
   "metadata": {},
   "outputs": [],
   "source": [
    "testset = df[25000:30000]"
   ]
  },
  {
   "cell_type": "code",
   "execution_count": 10,
   "metadata": {},
   "outputs": [
    {
     "data": {
      "text/html": [
       "<div>\n",
       "<style scoped>\n",
       "    .dataframe tbody tr th:only-of-type {\n",
       "        vertical-align: middle;\n",
       "    }\n",
       "\n",
       "    .dataframe tbody tr th {\n",
       "        vertical-align: top;\n",
       "    }\n",
       "\n",
       "    .dataframe thead th {\n",
       "        text-align: right;\n",
       "    }\n",
       "</style>\n",
       "<table border=\"1\" class=\"dataframe\">\n",
       "  <thead>\n",
       "    <tr style=\"text-align: right;\">\n",
       "      <th></th>\n",
       "      <th>accountage</th>\n",
       "      <th>monthlycharges</th>\n",
       "      <th>totalcharges</th>\n",
       "      <th>subscriptiontype</th>\n",
       "      <th>paymentmethod</th>\n",
       "      <th>paperlessbilling</th>\n",
       "      <th>contenttype</th>\n",
       "      <th>multideviceaccess</th>\n",
       "      <th>deviceregistered</th>\n",
       "      <th>viewinghoursperweek</th>\n",
       "      <th>averageviewingduration</th>\n",
       "      <th>contentdownloadspermonth</th>\n",
       "      <th>genrepreference</th>\n",
       "      <th>userrating</th>\n",
       "      <th>supportticketspermonth</th>\n",
       "      <th>gender</th>\n",
       "      <th>watchlistsize</th>\n",
       "      <th>parentalcontrol</th>\n",
       "      <th>subtitlesenabled</th>\n",
       "      <th>churn</th>\n",
       "    </tr>\n",
       "  </thead>\n",
       "  <tbody>\n",
       "    <tr>\n",
       "      <th>50635</th>\n",
       "      <td>19</td>\n",
       "      <td>19.25</td>\n",
       "      <td>365.80</td>\n",
       "      <td>Premium</td>\n",
       "      <td>Mailed check</td>\n",
       "      <td>Yes</td>\n",
       "      <td>TV Shows</td>\n",
       "      <td>Yes</td>\n",
       "      <td>TV</td>\n",
       "      <td>16.70</td>\n",
       "      <td>14.29</td>\n",
       "      <td>7</td>\n",
       "      <td>Drama</td>\n",
       "      <td>1.91</td>\n",
       "      <td>3</td>\n",
       "      <td>Female</td>\n",
       "      <td>1</td>\n",
       "      <td>Yes</td>\n",
       "      <td>Yes</td>\n",
       "      <td>1</td>\n",
       "    </tr>\n",
       "    <tr>\n",
       "      <th>176599</th>\n",
       "      <td>116</td>\n",
       "      <td>14.61</td>\n",
       "      <td>1695.19</td>\n",
       "      <td>Basic</td>\n",
       "      <td>Bank transfer</td>\n",
       "      <td>No</td>\n",
       "      <td>TV Shows</td>\n",
       "      <td>No</td>\n",
       "      <td>TV</td>\n",
       "      <td>12.94</td>\n",
       "      <td>142.38</td>\n",
       "      <td>28</td>\n",
       "      <td>Sci-Fi</td>\n",
       "      <td>1.58</td>\n",
       "      <td>2</td>\n",
       "      <td>Male</td>\n",
       "      <td>2</td>\n",
       "      <td>Yes</td>\n",
       "      <td>No</td>\n",
       "      <td>0</td>\n",
       "    </tr>\n",
       "    <tr>\n",
       "      <th>218395</th>\n",
       "      <td>6</td>\n",
       "      <td>13.89</td>\n",
       "      <td>83.34</td>\n",
       "      <td>Premium</td>\n",
       "      <td>Mailed check</td>\n",
       "      <td>No</td>\n",
       "      <td>TV Shows</td>\n",
       "      <td>Yes</td>\n",
       "      <td>Computer</td>\n",
       "      <td>24.73</td>\n",
       "      <td>16.92</td>\n",
       "      <td>0</td>\n",
       "      <td>Comedy</td>\n",
       "      <td>3.82</td>\n",
       "      <td>8</td>\n",
       "      <td>Male</td>\n",
       "      <td>18</td>\n",
       "      <td>No</td>\n",
       "      <td>No</td>\n",
       "      <td>0</td>\n",
       "    </tr>\n",
       "    <tr>\n",
       "      <th>137160</th>\n",
       "      <td>13</td>\n",
       "      <td>7.41</td>\n",
       "      <td>96.38</td>\n",
       "      <td>Standard</td>\n",
       "      <td>Bank transfer</td>\n",
       "      <td>No</td>\n",
       "      <td>Movies</td>\n",
       "      <td>No</td>\n",
       "      <td>Mobile</td>\n",
       "      <td>35.40</td>\n",
       "      <td>48.25</td>\n",
       "      <td>32</td>\n",
       "      <td>Action</td>\n",
       "      <td>3.47</td>\n",
       "      <td>0</td>\n",
       "      <td>Female</td>\n",
       "      <td>9</td>\n",
       "      <td>Yes</td>\n",
       "      <td>No</td>\n",
       "      <td>0</td>\n",
       "    </tr>\n",
       "    <tr>\n",
       "      <th>107502</th>\n",
       "      <td>60</td>\n",
       "      <td>14.19</td>\n",
       "      <td>851.48</td>\n",
       "      <td>Premium</td>\n",
       "      <td>Bank transfer</td>\n",
       "      <td>Yes</td>\n",
       "      <td>Both</td>\n",
       "      <td>Yes</td>\n",
       "      <td>Computer</td>\n",
       "      <td>23.97</td>\n",
       "      <td>79.10</td>\n",
       "      <td>27</td>\n",
       "      <td>Fantasy</td>\n",
       "      <td>4.83</td>\n",
       "      <td>2</td>\n",
       "      <td>Male</td>\n",
       "      <td>15</td>\n",
       "      <td>No</td>\n",
       "      <td>Yes</td>\n",
       "      <td>1</td>\n",
       "    </tr>\n",
       "    <tr>\n",
       "      <th>...</th>\n",
       "      <td>...</td>\n",
       "      <td>...</td>\n",
       "      <td>...</td>\n",
       "      <td>...</td>\n",
       "      <td>...</td>\n",
       "      <td>...</td>\n",
       "      <td>...</td>\n",
       "      <td>...</td>\n",
       "      <td>...</td>\n",
       "      <td>...</td>\n",
       "      <td>...</td>\n",
       "      <td>...</td>\n",
       "      <td>...</td>\n",
       "      <td>...</td>\n",
       "      <td>...</td>\n",
       "      <td>...</td>\n",
       "      <td>...</td>\n",
       "      <td>...</td>\n",
       "      <td>...</td>\n",
       "      <td>...</td>\n",
       "    </tr>\n",
       "    <tr>\n",
       "      <th>16335</th>\n",
       "      <td>12</td>\n",
       "      <td>14.43</td>\n",
       "      <td>173.16</td>\n",
       "      <td>Standard</td>\n",
       "      <td>Credit card</td>\n",
       "      <td>No</td>\n",
       "      <td>TV Shows</td>\n",
       "      <td>Yes</td>\n",
       "      <td>Computer</td>\n",
       "      <td>24.49</td>\n",
       "      <td>173.09</td>\n",
       "      <td>2</td>\n",
       "      <td>Action</td>\n",
       "      <td>4.42</td>\n",
       "      <td>2</td>\n",
       "      <td>Male</td>\n",
       "      <td>6</td>\n",
       "      <td>No</td>\n",
       "      <td>No</td>\n",
       "      <td>0</td>\n",
       "    </tr>\n",
       "    <tr>\n",
       "      <th>224759</th>\n",
       "      <td>10</td>\n",
       "      <td>19.10</td>\n",
       "      <td>190.98</td>\n",
       "      <td>Basic</td>\n",
       "      <td>Electronic check</td>\n",
       "      <td>Yes</td>\n",
       "      <td>Both</td>\n",
       "      <td>Yes</td>\n",
       "      <td>TV</td>\n",
       "      <td>15.04</td>\n",
       "      <td>65.85</td>\n",
       "      <td>32</td>\n",
       "      <td>Sci-Fi</td>\n",
       "      <td>1.76</td>\n",
       "      <td>9</td>\n",
       "      <td>Male</td>\n",
       "      <td>23</td>\n",
       "      <td>No</td>\n",
       "      <td>No</td>\n",
       "      <td>1</td>\n",
       "    </tr>\n",
       "    <tr>\n",
       "      <th>1373</th>\n",
       "      <td>27</td>\n",
       "      <td>7.05</td>\n",
       "      <td>190.31</td>\n",
       "      <td>Premium</td>\n",
       "      <td>Bank transfer</td>\n",
       "      <td>Yes</td>\n",
       "      <td>TV Shows</td>\n",
       "      <td>No</td>\n",
       "      <td>Tablet</td>\n",
       "      <td>7.31</td>\n",
       "      <td>137.74</td>\n",
       "      <td>4</td>\n",
       "      <td>Fantasy</td>\n",
       "      <td>1.36</td>\n",
       "      <td>2</td>\n",
       "      <td>Female</td>\n",
       "      <td>9</td>\n",
       "      <td>No</td>\n",
       "      <td>Yes</td>\n",
       "      <td>0</td>\n",
       "    </tr>\n",
       "    <tr>\n",
       "      <th>109379</th>\n",
       "      <td>52</td>\n",
       "      <td>15.32</td>\n",
       "      <td>796.61</td>\n",
       "      <td>Standard</td>\n",
       "      <td>Credit card</td>\n",
       "      <td>Yes</td>\n",
       "      <td>Both</td>\n",
       "      <td>Yes</td>\n",
       "      <td>Computer</td>\n",
       "      <td>31.21</td>\n",
       "      <td>88.84</td>\n",
       "      <td>9</td>\n",
       "      <td>Drama</td>\n",
       "      <td>3.38</td>\n",
       "      <td>7</td>\n",
       "      <td>Female</td>\n",
       "      <td>17</td>\n",
       "      <td>No</td>\n",
       "      <td>No</td>\n",
       "      <td>0</td>\n",
       "    </tr>\n",
       "    <tr>\n",
       "      <th>199213</th>\n",
       "      <td>43</td>\n",
       "      <td>16.47</td>\n",
       "      <td>708.08</td>\n",
       "      <td>Premium</td>\n",
       "      <td>Electronic check</td>\n",
       "      <td>No</td>\n",
       "      <td>Movies</td>\n",
       "      <td>No</td>\n",
       "      <td>Tablet</td>\n",
       "      <td>37.14</td>\n",
       "      <td>81.67</td>\n",
       "      <td>17</td>\n",
       "      <td>Drama</td>\n",
       "      <td>4.18</td>\n",
       "      <td>5</td>\n",
       "      <td>Male</td>\n",
       "      <td>16</td>\n",
       "      <td>No</td>\n",
       "      <td>Yes</td>\n",
       "      <td>0</td>\n",
       "    </tr>\n",
       "  </tbody>\n",
       "</table>\n",
       "<p>5000 rows × 20 columns</p>\n",
       "</div>"
      ],
      "text/plain": [
       "        accountage  monthlycharges  totalcharges subscriptiontype     paymentmethod paperlessbilling contenttype multideviceaccess deviceregistered  viewinghoursperweek  averageviewingduration  contentdownloadspermonth genrepreference  userrating  supportticketspermonth  gender  watchlistsize parentalcontrol subtitlesenabled  churn\n",
       "50635           19           19.25        365.80          Premium      Mailed check              Yes    TV Shows               Yes               TV                16.70                   14.29                         7           Drama        1.91                       3  Female              1             Yes              Yes      1\n",
       "176599         116           14.61       1695.19            Basic     Bank transfer               No    TV Shows                No               TV                12.94                  142.38                        28          Sci-Fi        1.58                       2    Male              2             Yes               No      0\n",
       "218395           6           13.89         83.34          Premium      Mailed check               No    TV Shows               Yes         Computer                24.73                   16.92                         0          Comedy        3.82                       8    Male             18              No               No      0\n",
       "137160          13            7.41         96.38         Standard     Bank transfer               No      Movies                No           Mobile                35.40                   48.25                        32          Action        3.47                       0  Female              9             Yes               No      0\n",
       "107502          60           14.19        851.48          Premium     Bank transfer              Yes        Both               Yes         Computer                23.97                   79.10                        27         Fantasy        4.83                       2    Male             15              No              Yes      1\n",
       "...            ...             ...           ...              ...               ...              ...         ...               ...              ...                  ...                     ...                       ...             ...         ...                     ...     ...            ...             ...              ...    ...\n",
       "16335           12           14.43        173.16         Standard       Credit card               No    TV Shows               Yes         Computer                24.49                  173.09                         2          Action        4.42                       2    Male              6              No               No      0\n",
       "224759          10           19.10        190.98            Basic  Electronic check              Yes        Both               Yes               TV                15.04                   65.85                        32          Sci-Fi        1.76                       9    Male             23              No               No      1\n",
       "1373            27            7.05        190.31          Premium     Bank transfer              Yes    TV Shows                No           Tablet                 7.31                  137.74                         4         Fantasy        1.36                       2  Female              9              No              Yes      0\n",
       "109379          52           15.32        796.61         Standard       Credit card              Yes        Both               Yes         Computer                31.21                   88.84                         9           Drama        3.38                       7  Female             17              No               No      0\n",
       "199213          43           16.47        708.08          Premium  Electronic check               No      Movies                No           Tablet                37.14                   81.67                        17           Drama        4.18                       5    Male             16              No              Yes      0\n",
       "\n",
       "[5000 rows x 20 columns]"
      ]
     },
     "execution_count": 10,
     "metadata": {},
     "output_type": "execute_result"
    }
   ],
   "source": [
    "testset"
   ]
  },
  {
   "cell_type": "code",
   "execution_count": 11,
   "metadata": {},
   "outputs": [
    {
     "data": {
      "text/plain": [
       "Counter({0: 4081, 1: 919})"
      ]
     },
     "execution_count": 11,
     "metadata": {},
     "output_type": "execute_result"
    }
   ],
   "source": [
    "Counter(testset.churn)"
   ]
  },
  {
   "cell_type": "code",
   "execution_count": 12,
   "metadata": {},
   "outputs": [],
   "source": [
    "trainset.to_csv(\"dftrain.csv\", index=False)"
   ]
  },
  {
   "cell_type": "code",
   "execution_count": 13,
   "metadata": {},
   "outputs": [],
   "source": [
    "testset.to_csv(\"dftest.csv\", index=False)"
   ]
  },
  {
   "cell_type": "code",
   "execution_count": 14,
   "metadata": {},
   "outputs": [],
   "source": [
    "testset.drop(['churn'], axis=1, inplace=True)"
   ]
  },
  {
   "cell_type": "code",
   "execution_count": 16,
   "metadata": {},
   "outputs": [
    {
     "data": {
      "text/html": [
       "<div>\n",
       "<style scoped>\n",
       "    .dataframe tbody tr th:only-of-type {\n",
       "        vertical-align: middle;\n",
       "    }\n",
       "\n",
       "    .dataframe tbody tr th {\n",
       "        vertical-align: top;\n",
       "    }\n",
       "\n",
       "    .dataframe thead th {\n",
       "        text-align: right;\n",
       "    }\n",
       "</style>\n",
       "<table border=\"1\" class=\"dataframe\">\n",
       "  <thead>\n",
       "    <tr style=\"text-align: right;\">\n",
       "      <th></th>\n",
       "      <th>accountage</th>\n",
       "      <th>monthlycharges</th>\n",
       "      <th>totalcharges</th>\n",
       "      <th>subscriptiontype</th>\n",
       "      <th>paymentmethod</th>\n",
       "      <th>paperlessbilling</th>\n",
       "      <th>contenttype</th>\n",
       "      <th>multideviceaccess</th>\n",
       "      <th>deviceregistered</th>\n",
       "      <th>viewinghoursperweek</th>\n",
       "      <th>averageviewingduration</th>\n",
       "      <th>contentdownloadspermonth</th>\n",
       "      <th>genrepreference</th>\n",
       "      <th>userrating</th>\n",
       "      <th>supportticketspermonth</th>\n",
       "      <th>gender</th>\n",
       "      <th>watchlistsize</th>\n",
       "      <th>parentalcontrol</th>\n",
       "      <th>subtitlesenabled</th>\n",
       "    </tr>\n",
       "  </thead>\n",
       "  <tbody>\n",
       "    <tr>\n",
       "      <th>50635</th>\n",
       "      <td>19</td>\n",
       "      <td>19.25</td>\n",
       "      <td>365.80</td>\n",
       "      <td>Premium</td>\n",
       "      <td>Mailed check</td>\n",
       "      <td>Yes</td>\n",
       "      <td>TV Shows</td>\n",
       "      <td>Yes</td>\n",
       "      <td>TV</td>\n",
       "      <td>16.70</td>\n",
       "      <td>14.29</td>\n",
       "      <td>7</td>\n",
       "      <td>Drama</td>\n",
       "      <td>1.91</td>\n",
       "      <td>3</td>\n",
       "      <td>Female</td>\n",
       "      <td>1</td>\n",
       "      <td>Yes</td>\n",
       "      <td>Yes</td>\n",
       "    </tr>\n",
       "    <tr>\n",
       "      <th>176599</th>\n",
       "      <td>116</td>\n",
       "      <td>14.61</td>\n",
       "      <td>1695.19</td>\n",
       "      <td>Basic</td>\n",
       "      <td>Bank transfer</td>\n",
       "      <td>No</td>\n",
       "      <td>TV Shows</td>\n",
       "      <td>No</td>\n",
       "      <td>TV</td>\n",
       "      <td>12.94</td>\n",
       "      <td>142.38</td>\n",
       "      <td>28</td>\n",
       "      <td>Sci-Fi</td>\n",
       "      <td>1.58</td>\n",
       "      <td>2</td>\n",
       "      <td>Male</td>\n",
       "      <td>2</td>\n",
       "      <td>Yes</td>\n",
       "      <td>No</td>\n",
       "    </tr>\n",
       "    <tr>\n",
       "      <th>218395</th>\n",
       "      <td>6</td>\n",
       "      <td>13.89</td>\n",
       "      <td>83.34</td>\n",
       "      <td>Premium</td>\n",
       "      <td>Mailed check</td>\n",
       "      <td>No</td>\n",
       "      <td>TV Shows</td>\n",
       "      <td>Yes</td>\n",
       "      <td>Computer</td>\n",
       "      <td>24.73</td>\n",
       "      <td>16.92</td>\n",
       "      <td>0</td>\n",
       "      <td>Comedy</td>\n",
       "      <td>3.82</td>\n",
       "      <td>8</td>\n",
       "      <td>Male</td>\n",
       "      <td>18</td>\n",
       "      <td>No</td>\n",
       "      <td>No</td>\n",
       "    </tr>\n",
       "    <tr>\n",
       "      <th>137160</th>\n",
       "      <td>13</td>\n",
       "      <td>7.41</td>\n",
       "      <td>96.38</td>\n",
       "      <td>Standard</td>\n",
       "      <td>Bank transfer</td>\n",
       "      <td>No</td>\n",
       "      <td>Movies</td>\n",
       "      <td>No</td>\n",
       "      <td>Mobile</td>\n",
       "      <td>35.40</td>\n",
       "      <td>48.25</td>\n",
       "      <td>32</td>\n",
       "      <td>Action</td>\n",
       "      <td>3.47</td>\n",
       "      <td>0</td>\n",
       "      <td>Female</td>\n",
       "      <td>9</td>\n",
       "      <td>Yes</td>\n",
       "      <td>No</td>\n",
       "    </tr>\n",
       "    <tr>\n",
       "      <th>107502</th>\n",
       "      <td>60</td>\n",
       "      <td>14.19</td>\n",
       "      <td>851.48</td>\n",
       "      <td>Premium</td>\n",
       "      <td>Bank transfer</td>\n",
       "      <td>Yes</td>\n",
       "      <td>Both</td>\n",
       "      <td>Yes</td>\n",
       "      <td>Computer</td>\n",
       "      <td>23.97</td>\n",
       "      <td>79.10</td>\n",
       "      <td>27</td>\n",
       "      <td>Fantasy</td>\n",
       "      <td>4.83</td>\n",
       "      <td>2</td>\n",
       "      <td>Male</td>\n",
       "      <td>15</td>\n",
       "      <td>No</td>\n",
       "      <td>Yes</td>\n",
       "    </tr>\n",
       "    <tr>\n",
       "      <th>...</th>\n",
       "      <td>...</td>\n",
       "      <td>...</td>\n",
       "      <td>...</td>\n",
       "      <td>...</td>\n",
       "      <td>...</td>\n",
       "      <td>...</td>\n",
       "      <td>...</td>\n",
       "      <td>...</td>\n",
       "      <td>...</td>\n",
       "      <td>...</td>\n",
       "      <td>...</td>\n",
       "      <td>...</td>\n",
       "      <td>...</td>\n",
       "      <td>...</td>\n",
       "      <td>...</td>\n",
       "      <td>...</td>\n",
       "      <td>...</td>\n",
       "      <td>...</td>\n",
       "      <td>...</td>\n",
       "    </tr>\n",
       "    <tr>\n",
       "      <th>16335</th>\n",
       "      <td>12</td>\n",
       "      <td>14.43</td>\n",
       "      <td>173.16</td>\n",
       "      <td>Standard</td>\n",
       "      <td>Credit card</td>\n",
       "      <td>No</td>\n",
       "      <td>TV Shows</td>\n",
       "      <td>Yes</td>\n",
       "      <td>Computer</td>\n",
       "      <td>24.49</td>\n",
       "      <td>173.09</td>\n",
       "      <td>2</td>\n",
       "      <td>Action</td>\n",
       "      <td>4.42</td>\n",
       "      <td>2</td>\n",
       "      <td>Male</td>\n",
       "      <td>6</td>\n",
       "      <td>No</td>\n",
       "      <td>No</td>\n",
       "    </tr>\n",
       "    <tr>\n",
       "      <th>224759</th>\n",
       "      <td>10</td>\n",
       "      <td>19.10</td>\n",
       "      <td>190.98</td>\n",
       "      <td>Basic</td>\n",
       "      <td>Electronic check</td>\n",
       "      <td>Yes</td>\n",
       "      <td>Both</td>\n",
       "      <td>Yes</td>\n",
       "      <td>TV</td>\n",
       "      <td>15.04</td>\n",
       "      <td>65.85</td>\n",
       "      <td>32</td>\n",
       "      <td>Sci-Fi</td>\n",
       "      <td>1.76</td>\n",
       "      <td>9</td>\n",
       "      <td>Male</td>\n",
       "      <td>23</td>\n",
       "      <td>No</td>\n",
       "      <td>No</td>\n",
       "    </tr>\n",
       "    <tr>\n",
       "      <th>1373</th>\n",
       "      <td>27</td>\n",
       "      <td>7.05</td>\n",
       "      <td>190.31</td>\n",
       "      <td>Premium</td>\n",
       "      <td>Bank transfer</td>\n",
       "      <td>Yes</td>\n",
       "      <td>TV Shows</td>\n",
       "      <td>No</td>\n",
       "      <td>Tablet</td>\n",
       "      <td>7.31</td>\n",
       "      <td>137.74</td>\n",
       "      <td>4</td>\n",
       "      <td>Fantasy</td>\n",
       "      <td>1.36</td>\n",
       "      <td>2</td>\n",
       "      <td>Female</td>\n",
       "      <td>9</td>\n",
       "      <td>No</td>\n",
       "      <td>Yes</td>\n",
       "    </tr>\n",
       "    <tr>\n",
       "      <th>109379</th>\n",
       "      <td>52</td>\n",
       "      <td>15.32</td>\n",
       "      <td>796.61</td>\n",
       "      <td>Standard</td>\n",
       "      <td>Credit card</td>\n",
       "      <td>Yes</td>\n",
       "      <td>Both</td>\n",
       "      <td>Yes</td>\n",
       "      <td>Computer</td>\n",
       "      <td>31.21</td>\n",
       "      <td>88.84</td>\n",
       "      <td>9</td>\n",
       "      <td>Drama</td>\n",
       "      <td>3.38</td>\n",
       "      <td>7</td>\n",
       "      <td>Female</td>\n",
       "      <td>17</td>\n",
       "      <td>No</td>\n",
       "      <td>No</td>\n",
       "    </tr>\n",
       "    <tr>\n",
       "      <th>199213</th>\n",
       "      <td>43</td>\n",
       "      <td>16.47</td>\n",
       "      <td>708.08</td>\n",
       "      <td>Premium</td>\n",
       "      <td>Electronic check</td>\n",
       "      <td>No</td>\n",
       "      <td>Movies</td>\n",
       "      <td>No</td>\n",
       "      <td>Tablet</td>\n",
       "      <td>37.14</td>\n",
       "      <td>81.67</td>\n",
       "      <td>17</td>\n",
       "      <td>Drama</td>\n",
       "      <td>4.18</td>\n",
       "      <td>5</td>\n",
       "      <td>Male</td>\n",
       "      <td>16</td>\n",
       "      <td>No</td>\n",
       "      <td>Yes</td>\n",
       "    </tr>\n",
       "  </tbody>\n",
       "</table>\n",
       "<p>5000 rows × 19 columns</p>\n",
       "</div>"
      ],
      "text/plain": [
       "        accountage  monthlycharges  totalcharges subscriptiontype     paymentmethod paperlessbilling contenttype multideviceaccess deviceregistered  viewinghoursperweek  averageviewingduration  contentdownloadspermonth genrepreference  userrating  supportticketspermonth  gender  watchlistsize parentalcontrol subtitlesenabled\n",
       "50635           19           19.25        365.80          Premium      Mailed check              Yes    TV Shows               Yes               TV                16.70                   14.29                         7           Drama        1.91                       3  Female              1             Yes              Yes\n",
       "176599         116           14.61       1695.19            Basic     Bank transfer               No    TV Shows                No               TV                12.94                  142.38                        28          Sci-Fi        1.58                       2    Male              2             Yes               No\n",
       "218395           6           13.89         83.34          Premium      Mailed check               No    TV Shows               Yes         Computer                24.73                   16.92                         0          Comedy        3.82                       8    Male             18              No               No\n",
       "137160          13            7.41         96.38         Standard     Bank transfer               No      Movies                No           Mobile                35.40                   48.25                        32          Action        3.47                       0  Female              9             Yes               No\n",
       "107502          60           14.19        851.48          Premium     Bank transfer              Yes        Both               Yes         Computer                23.97                   79.10                        27         Fantasy        4.83                       2    Male             15              No              Yes\n",
       "...            ...             ...           ...              ...               ...              ...         ...               ...              ...                  ...                     ...                       ...             ...         ...                     ...     ...            ...             ...              ...\n",
       "16335           12           14.43        173.16         Standard       Credit card               No    TV Shows               Yes         Computer                24.49                  173.09                         2          Action        4.42                       2    Male              6              No               No\n",
       "224759          10           19.10        190.98            Basic  Electronic check              Yes        Both               Yes               TV                15.04                   65.85                        32          Sci-Fi        1.76                       9    Male             23              No               No\n",
       "1373            27            7.05        190.31          Premium     Bank transfer              Yes    TV Shows                No           Tablet                 7.31                  137.74                         4         Fantasy        1.36                       2  Female              9              No              Yes\n",
       "109379          52           15.32        796.61         Standard       Credit card              Yes        Both               Yes         Computer                31.21                   88.84                         9           Drama        3.38                       7  Female             17              No               No\n",
       "199213          43           16.47        708.08          Premium  Electronic check               No      Movies                No           Tablet                37.14                   81.67                        17           Drama        4.18                       5    Male             16              No              Yes\n",
       "\n",
       "[5000 rows x 19 columns]"
      ]
     },
     "execution_count": 16,
     "metadata": {},
     "output_type": "execute_result"
    }
   ],
   "source": [
    "testset"
   ]
  },
  {
   "cell_type": "code",
   "execution_count": 17,
   "metadata": {},
   "outputs": [],
   "source": [
    "testset.to_csv(\"dftestnolabel.csv\", index=False)"
   ]
  },
  {
   "cell_type": "markdown",
   "metadata": {},
   "source": [
    "**==============================================================================================================**"
   ]
  },
  {
   "cell_type": "markdown",
   "metadata": {},
   "source": [
    "## Data Quick Glance"
   ]
  },
  {
   "cell_type": "code",
   "execution_count": null,
   "metadata": {},
   "outputs": [],
   "source": [
    "train = pd.read_csv(\"trainoriginal.csv\")"
   ]
  },
  {
   "cell_type": "code",
   "execution_count": null,
   "metadata": {},
   "outputs": [],
   "source": [
    "train.head()"
   ]
  },
  {
   "cell_type": "code",
   "execution_count": null,
   "metadata": {},
   "outputs": [],
   "source": [
    "train.info()"
   ]
  },
  {
   "cell_type": "code",
   "execution_count": null,
   "metadata": {},
   "outputs": [],
   "source": [
    "train.dtypes.value_counts()"
   ]
  },
  {
   "cell_type": "code",
   "execution_count": null,
   "metadata": {},
   "outputs": [],
   "source": [
    "# Descriptive Statistical Analysis\n",
    "train.describe(include=[\"int\", \"float\"])"
   ]
  },
  {
   "cell_type": "code",
   "execution_count": null,
   "metadata": {},
   "outputs": [],
   "source": [
    "# Descriptive Statistical Analysis\n",
    "train.describe(include=\"object\")"
   ]
  },
  {
   "cell_type": "code",
   "execution_count": null,
   "metadata": {},
   "outputs": [],
   "source": [
    "list(train.select_dtypes(\"object\"))"
   ]
  },
  {
   "cell_type": "code",
   "execution_count": null,
   "metadata": {},
   "outputs": [],
   "source": [
    "train.subscriptiontype.value_counts()"
   ]
  },
  {
   "cell_type": "code",
   "execution_count": null,
   "metadata": {},
   "outputs": [],
   "source": [
    "train.paymentmethod.value_counts()"
   ]
  },
  {
   "cell_type": "code",
   "execution_count": null,
   "metadata": {},
   "outputs": [],
   "source": [
    "train.contenttype.value_counts()"
   ]
  },
  {
   "cell_type": "code",
   "execution_count": null,
   "metadata": {},
   "outputs": [],
   "source": [
    "train.deviceregistered.value_counts()"
   ]
  },
  {
   "cell_type": "code",
   "execution_count": null,
   "metadata": {},
   "outputs": [],
   "source": [
    "train.genrepreference.value_counts()"
   ]
  },
  {
   "cell_type": "code",
   "execution_count": null,
   "metadata": {},
   "outputs": [],
   "source": [
    "train.groupby([\"churn\"])[\"subscriptiontype\"].count()"
   ]
  },
  {
   "cell_type": "code",
   "execution_count": null,
   "metadata": {},
   "outputs": [],
   "source": [
    "# Let's divide into train and test set\n",
    "\n",
    "X_train, X_test, y_train, y_test = train_test_split(\n",
    "    train.drop(labels=\"churn\", axis=1),  # predictors\n",
    "    train[\"churn\"],  # target\n",
    "    test_size=0.3,\n",
    "    random_state=0,\n",
    ")\n",
    "\n",
    "X_train.shape, X_test.shape"
   ]
  },
  {
   "cell_type": "code",
   "execution_count": null,
   "metadata": {},
   "outputs": [],
   "source": [
    "enc = MeanEncoder()"
   ]
  },
  {
   "cell_type": "code",
   "execution_count": null,
   "metadata": {},
   "outputs": [],
   "source": [
    "enc.fit_transform(X_train,y_train)"
   ]
  },
  {
   "cell_type": "code",
   "execution_count": null,
   "metadata": {
    "scrolled": false
   },
   "outputs": [],
   "source": [
    "# let's explore the relationship of the categories with the target\n",
    "\n",
    "for var in ['subscriptiontype', 'paymentmethod', 'paperlessbilling', 'contenttype', 'multideviceaccess',\n",
    " 'deviceregistered', 'genrepreference', 'gender', 'parentalcontrol', 'subtitlesenabled']:\n",
    "\n",
    "    fig = plt.figure()\n",
    "    fig = y_train.groupby(X_train[var]).mean().plot()\n",
    "    fig.set_title(\"Relationship between {} and Churn\".format(var))\n",
    "    fig.set_ylabel(\"Mean Churn\")\n",
    "    plt.show()"
   ]
  },
  {
   "cell_type": "code",
   "execution_count": null,
   "metadata": {},
   "outputs": [],
   "source": [
    "# Check target variable\n",
    "\n",
    "train.churn.value_counts()"
   ]
  },
  {
   "cell_type": "code",
   "execution_count": null,
   "metadata": {},
   "outputs": [],
   "source": [
    "train.isnull().sum()"
   ]
  },
  {
   "cell_type": "code",
   "execution_count": null,
   "metadata": {},
   "outputs": [],
   "source": [
    "train.duplicated().sum()"
   ]
  },
  {
   "cell_type": "markdown",
   "metadata": {},
   "source": [
    "# Test dataset"
   ]
  },
  {
   "cell_type": "code",
   "execution_count": null,
   "metadata": {},
   "outputs": [],
   "source": [
    "test = pd.read_csv(\"testoriginal.csv\")"
   ]
  },
  {
   "cell_type": "code",
   "execution_count": null,
   "metadata": {},
   "outputs": [],
   "source": [
    "test.head()"
   ]
  },
  {
   "cell_type": "code",
   "execution_count": null,
   "metadata": {},
   "outputs": [],
   "source": [
    "test.info()"
   ]
  },
  {
   "cell_type": "code",
   "execution_count": null,
   "metadata": {},
   "outputs": [],
   "source": [
    "test.dtypes.value_counts()"
   ]
  },
  {
   "cell_type": "code",
   "execution_count": null,
   "metadata": {},
   "outputs": [],
   "source": [
    "# Descriptive Statistical Analysis\n",
    "test.describe(include=[\"int\", \"float\"])"
   ]
  },
  {
   "cell_type": "code",
   "execution_count": null,
   "metadata": {},
   "outputs": [],
   "source": [
    "# Descriptive Statistical Analysis\n",
    "test.describe(include=\"object\")"
   ]
  },
  {
   "cell_type": "code",
   "execution_count": null,
   "metadata": {},
   "outputs": [],
   "source": [
    "# Check target variable\n",
    "\n",
    "# test.Churn.value_counts()"
   ]
  },
  {
   "cell_type": "code",
   "execution_count": null,
   "metadata": {},
   "outputs": [],
   "source": [
    "test.isnull().sum()"
   ]
  },
  {
   "cell_type": "code",
   "execution_count": null,
   "metadata": {},
   "outputs": [],
   "source": [
    "test.duplicated().sum()"
   ]
  },
  {
   "cell_type": "markdown",
   "metadata": {},
   "source": [
    "## Combine both dataset"
   ]
  },
  {
   "cell_type": "markdown",
   "metadata": {},
   "source": [
    "When you split the data set into three splits, what we get is the test data set. The three splits consist of training data set, validation data set and test data set. You train the model using the training data set and assess the model performance using the validation data set. You optimize the model performance using training and validation data set. Finally, you test the model generalization performance using the test data set. The test data set remains hidden during the model training and model performance evaluation stage. One can split the data into a 70:20:10 ratio. 10% of the data set can be set aside as test data for testing the model performance. "
   ]
  },
  {
   "cell_type": "code",
   "execution_count": null,
   "metadata": {},
   "outputs": [],
   "source": [
    "train.head()"
   ]
  },
  {
   "cell_type": "code",
   "execution_count": null,
   "metadata": {},
   "outputs": [],
   "source": [
    "test.head()"
   ]
  },
  {
   "cell_type": "code",
   "execution_count": null,
   "metadata": {},
   "outputs": [],
   "source": [
    "full = pd.concat([train,test], axis=0)"
   ]
  },
  {
   "cell_type": "code",
   "execution_count": null,
   "metadata": {},
   "outputs": [],
   "source": [
    "full"
   ]
  },
  {
   "cell_type": "code",
   "execution_count": null,
   "metadata": {},
   "outputs": [],
   "source": [
    "full.reset_index(inplace=True, drop=True)"
   ]
  },
  {
   "cell_type": "code",
   "execution_count": null,
   "metadata": {},
   "outputs": [],
   "source": [
    "full"
   ]
  },
  {
   "cell_type": "code",
   "execution_count": null,
   "metadata": {},
   "outputs": [],
   "source": [
    "#full.to_csv(\"fulldata.csv\", index=False)"
   ]
  },
  {
   "cell_type": "markdown",
   "metadata": {},
   "source": [
    "**==============================================================================================================**"
   ]
  },
  {
   "cell_type": "markdown",
   "metadata": {},
   "source": [
    "# Data Preprocessing"
   ]
  },
  {
   "cell_type": "markdown",
   "metadata": {},
   "source": [
    "## SciKit Learn Column Transformers and Pipelines"
   ]
  },
  {
   "cell_type": "code",
   "execution_count": null,
   "metadata": {},
   "outputs": [],
   "source": [
    "list(train.select_dtypes([\"int\", \"float\"]))"
   ]
  },
  {
   "cell_type": "code",
   "execution_count": null,
   "metadata": {},
   "outputs": [],
   "source": [
    "list(train.select_dtypes([\"object\"]))"
   ]
  },
  {
   "cell_type": "code",
   "execution_count": null,
   "metadata": {},
   "outputs": [],
   "source": [
    "numcols = ['accountage', 'monthlycharges', 'totalcharges', 'viewinghoursperweek', 'averageviewingduration',\n",
    "          'contentdownloadspermonth', 'userrating', 'supportticketspermonth', 'watchlistsize']"
   ]
  },
  {
   "cell_type": "code",
   "execution_count": null,
   "metadata": {},
   "outputs": [],
   "source": [
    "catcols = ['subscriptiontype', 'paymentmethod', 'paperlessbilling', 'contenttype', 'multideviceaccess', 'deviceregistered',\n",
    " 'genrepreference', 'gender', 'parentalcontrol', 'subtitlesenabled']"
   ]
  },
  {
   "cell_type": "code",
   "execution_count": null,
   "metadata": {},
   "outputs": [],
   "source": [
    "train.shape"
   ]
  },
  {
   "cell_type": "code",
   "execution_count": null,
   "metadata": {},
   "outputs": [],
   "source": [
    "X = train.iloc[:, 0:19]\n",
    "y = train.iloc[:, 19:]"
   ]
  },
  {
   "cell_type": "code",
   "execution_count": null,
   "metadata": {},
   "outputs": [],
   "source": [
    "X.head()"
   ]
  },
  {
   "cell_type": "code",
   "execution_count": null,
   "metadata": {},
   "outputs": [],
   "source": [
    "y.head()"
   ]
  },
  {
   "cell_type": "code",
   "execution_count": null,
   "metadata": {},
   "outputs": [],
   "source": [
    "# imp = SimpleImputer()\n",
    "# ss = StandardScaler()\n",
    "# mm = MinMaxScaler()\n",
    "# ohe = OneHotEncoder(drop_last=True)\n",
    "# binary = Binarizer(threshold=0)"
   ]
  },
  {
   "cell_type": "markdown",
   "metadata": {},
   "source": [
    "## You use the ColumnTransformer to transform each column set separately before combining them later."
   ]
  },
  {
   "cell_type": "code",
   "execution_count": null,
   "metadata": {},
   "outputs": [],
   "source": [
    "# Missing Values Imputation Methods\n",
    "\n",
    "imp = SimpleImputer(missing_values=np.nan,\n",
    "                    strategy='mean',\n",
    "                    fill_value=None,\n",
    "                    add_indicator=False)\n",
    "\n",
    "imp = SimpleImputer(missing_values=np.nan,\n",
    "                    strategy='median',\n",
    "                    fill_value=None,\n",
    "                    add_indicator=False)\n",
    "\n",
    "imp = SimpleImputer(missing_values=np.nan,\n",
    "                    strategy='constant',\n",
    "                    fill_value=0,\n",
    "                    add_indicator=False)\n",
    "\n",
    "imp = SimpleImputer(missing_values=np.nan,\n",
    "                    strategy='most_frequent',\n",
    "                    fill_value=None,\n",
    "                    add_indicator=False)\n",
    "\n",
    "indicator = MissingIndicator(missing_values=np.nan, features='missing-only', error_on_new=True)\n",
    "indicator\n",
    "\n",
    "imp2 = SimpleImputer(missing_values=np.nan,\n",
    "                    strategy='most_frequent',\n",
    "                    fill_value=None,\n",
    "                    add_indicator=True)"
   ]
  },
  {
   "cell_type": "code",
   "execution_count": null,
   "metadata": {},
   "outputs": [],
   "source": [
    "# Missing values imputation using ColumnTransformer\n",
    "\n",
    "ct = ColumnTransformer(\n",
    "    \n",
    "          transformers= [\n",
    "     \n",
    "         (\n",
    "             'imputer', SimpleImputer(missing_values=np.nan, \n",
    "                                      strategy='most_frequent', add_indicator=True), ['RankSeason', 'RankPlayoffs','OOBP', 'OSLG']\n",
    "         )\n",
    "         \n",
    "         ],\n",
    "             remainder='passthrough',\n",
    "             verbose_feature_names_out=False\n",
    "         )\n",
    "\n",
    "ct.set_output(transform=\"pandas\")"
   ]
  },
  {
   "cell_type": "markdown",
   "metadata": {},
   "source": [
    "**CAUTION**\n",
    "\n",
    "The ColumnTransformer is, in essence, just slicing the dataframe into the required feature subsets. The SimpleImputer then performs operations on the sliced dataframes. Finally, the dataframes are put back together for the final output.\n",
    "\n",
    "That means that the order of the columns is not the same as in the training set!"
   ]
  },
  {
   "cell_type": "code",
   "execution_count": null,
   "metadata": {},
   "outputs": [],
   "source": [
    "# One hot / Ordinal encoding\n",
    "# With a tree-based model, try OrdinalEncoder instead of OneHotEncoder even for nominal (unordered) features\n",
    "\n",
    "ct = ColumnTransformer(\n",
    "    \n",
    "     transformers= [\n",
    "     \n",
    "     (\n",
    "         'ohe1', OneHotEncoder(drop_last_binary=True), catcols\n",
    "     ),  \n",
    "         \n",
    "     (\n",
    "         'ohe2', OneHotEncoder(top_categories=3), []\n",
    "     ),\n",
    "         \n",
    "     ( \n",
    "         'oe',  OrdinalEncoder(missing_values='ignore'), []\n",
    "     ),\n",
    "         \n",
    "     (   'binary', Binarizer(threshold=0),[]\n",
    "     \n",
    "     )\n",
    "         \n",
    "     ],\n",
    "      remainder='passthrough',\n",
    "      verbose_feature_names_out=False\n",
    "     )\n",
    "\n",
    "ct.set_output(transform=\"pandas\")"
   ]
  },
  {
   "cell_type": "code",
   "execution_count": null,
   "metadata": {},
   "outputs": [],
   "source": [
    "# Scaling features\n",
    "\n",
    "ct = ColumnTransformer(\n",
    "    \n",
    "     transformers= [\n",
    "     \n",
    "      (\n",
    "         'ss', \n",
    "         StandardScaler(),\n",
    "         []\n",
    "      ),    \n",
    "      ( \n",
    "          'mm',\n",
    "          MinMaxScaler(),\n",
    "          numcols\n",
    "      )\n",
    "         \n",
    "     ],\n",
    "      remainder='passthrough',\n",
    "      verbose_feature_names_out=False\n",
    "     )\n",
    "\n",
    "ct.set_output(transform=\"pandas\")"
   ]
  },
  {
   "cell_type": "code",
   "execution_count": null,
   "metadata": {},
   "outputs": [],
   "source": [
    "X_new = ct.fit_transform(X,y)\n",
    "X_new"
   ]
  },
  {
   "cell_type": "code",
   "execution_count": null,
   "metadata": {},
   "outputs": [],
   "source": [
    "X_new.isnull().sum()"
   ]
  },
  {
   "cell_type": "code",
   "execution_count": null,
   "metadata": {},
   "outputs": [],
   "source": [
    "print(ct)"
   ]
  },
  {
   "cell_type": "code",
   "execution_count": null,
   "metadata": {},
   "outputs": [],
   "source": [
    "df2 = X_new.copy()\n",
    "df2.head()"
   ]
  },
  {
   "cell_type": "markdown",
   "metadata": {},
   "source": [
    "## Use the pipeline for multiple transformations of the same columns"
   ]
  },
  {
   "cell_type": "markdown",
   "metadata": {},
   "source": [
    "### Step 1: Create pipelines for numerical and categorical features\n",
    "\n",
    "```\n",
    "pipe = Pipeline(steps, *, memory=None, verbose=False)\n",
    "\n",
    "We create the preprocessing pipelines for both numerical and categorical data\n",
    "\n",
    "```"
   ]
  },
  {
   "cell_type": "code",
   "execution_count": null,
   "metadata": {},
   "outputs": [],
   "source": [
    "numpipeline = Pipeline(steps=\n",
    "                      [\n",
    "                      (\"imputer\", SimpleImputer()),\n",
    "                      (\"scaler\", StandardScaler()),\n",
    "                      (\"minmax\", MinMaxScaler())   \n",
    "                      ]\n",
    "                      )"
   ]
  },
  {
   "cell_type": "code",
   "execution_count": null,
   "metadata": {},
   "outputs": [],
   "source": [
    "catpipeline = Pipeline(steps=\n",
    "                      [\n",
    "                      (\"imputer\", SimpleImputer()),    \n",
    "                      (\"ohe\", OneHotEncoder(drop_last_binary=True))    \n",
    "                      ]\n",
    "                      )"
   ]
  },
  {
   "cell_type": "markdown",
   "metadata": {},
   "source": [
    "### Step 2: Create Transformers"
   ]
  },
  {
   "cell_type": "code",
   "execution_count": null,
   "metadata": {},
   "outputs": [],
   "source": [
    "preprocessor = ColumnTransformer(\n",
    "    \n",
    "     transformers= [\n",
    "     \n",
    "     (\"numerical\", numpipeline, numcols ),    \n",
    "     (\"categorical\", catpipeline, catcols )\n",
    "         \n",
    "     ],\n",
    "      remainder='passthrough',\n",
    "      verbose_feature_names_out=True\n",
    "     )\n",
    "\n",
    "preprocessor.set_output(transform=\"pandas\")"
   ]
  },
  {
   "cell_type": "markdown",
   "metadata": {},
   "source": [
    "### Step 3: Create a final pipeline to include transformers"
   ]
  },
  {
   "cell_type": "code",
   "execution_count": null,
   "metadata": {},
   "outputs": [],
   "source": [
    "finalpipeline = Pipeline(steps=\n",
    "                       [\n",
    "                       (\"preprocessor\", preprocessor)\n",
    "                       ])"
   ]
  },
  {
   "cell_type": "code",
   "execution_count": null,
   "metadata": {},
   "outputs": [],
   "source": [
    "finalpipeline.fit_transform(X)"
   ]
  },
  {
   "cell_type": "code",
   "execution_count": null,
   "metadata": {},
   "outputs": [],
   "source": [
    "finalpipeline.named_steps"
   ]
  },
  {
   "cell_type": "markdown",
   "metadata": {},
   "source": [
    "**==============================================================================================================**"
   ]
  },
  {
   "cell_type": "markdown",
   "metadata": {},
   "source": [
    "## Overall Visualization"
   ]
  },
  {
   "cell_type": "code",
   "execution_count": null,
   "metadata": {},
   "outputs": [],
   "source": [
    "df.hist(bins=50, figsize=(20,50), layout=(len(df.columns),2), grid=False)\n",
    "plt.suptitle('Histogram Feature Distribution', x=0.5, y=1.02, ha='center', fontsize=20)\n",
    "\n",
    "plt.tight_layout()\n",
    "plt.show()"
   ]
  },
  {
   "cell_type": "code",
   "execution_count": null,
   "metadata": {},
   "outputs": [],
   "source": [
    "df.boxplot(figsize=(20,10), color='blue', fontsize=15)\n",
    "plt.suptitle('BoxPlots Feature Distribution', x=0.5, y=1.02, ha='center', fontsize=20)\n",
    "\n",
    "plt.tight_layout()\n",
    "plt.show()"
   ]
  },
  {
   "cell_type": "code",
   "execution_count": null,
   "metadata": {},
   "outputs": [],
   "source": [
    "# Stacked Histogram\n",
    "\n",
    "fig, ax = plt.subplots(figsize=(12,8))\n",
    "\n",
    "sns.histplot(data=df, x=\"landsurfacecondition\", y=None, hue=\"damagegrade\", multiple='dodge', stat='count')\n",
    "\n",
    "plt.show()"
   ]
  },
  {
   "cell_type": "code",
   "execution_count": null,
   "metadata": {},
   "outputs": [],
   "source": [
    "# Stacked Histogram\n",
    "\n",
    "fig, ax = plt.subplots(figsize=(12,8))\n",
    "\n",
    "sns.histplot(data=df, x=\"foundationtype\", y=None, hue=\"damagegrade\", multiple='dodge', stat='count')\n",
    "\n",
    "plt.show()"
   ]
  },
  {
   "cell_type": "code",
   "execution_count": null,
   "metadata": {},
   "outputs": [],
   "source": [
    "# Stacked Histogram\n",
    "\n",
    "fig, ax = plt.subplots(figsize=(12,8))\n",
    "\n",
    "sns.histplot(data=df, x=\"rooftype\", y=None, hue=\"damagegrade\", multiple='dodge', stat='count')\n",
    "\n",
    "plt.show()"
   ]
  },
  {
   "cell_type": "code",
   "execution_count": null,
   "metadata": {},
   "outputs": [],
   "source": [
    "# Stacked Histogram\n",
    "\n",
    "fig, ax = plt.subplots(figsize=(12,8))\n",
    "\n",
    "sns.histplot(data=df, x=\"groundfloortype\", y=None, hue=\"damagegrade\", multiple='dodge', stat='count')\n",
    "\n",
    "plt.show()"
   ]
  },
  {
   "cell_type": "code",
   "execution_count": null,
   "metadata": {},
   "outputs": [],
   "source": [
    "# Stacked Histogram\n",
    "\n",
    "fig, ax = plt.subplots(figsize=(12,8))\n",
    "\n",
    "sns.histplot(data=df, x=\"position\", y=None, hue=\"damagegrade\", multiple='dodge', stat='count')\n",
    "\n",
    "plt.show()"
   ]
  },
  {
   "cell_type": "code",
   "execution_count": null,
   "metadata": {},
   "outputs": [],
   "source": [
    "# Stacked Histogram\n",
    "\n",
    "fig, ax = plt.subplots(figsize=(12,8))\n",
    "\n",
    "sns.histplot(data=df, x=\"planconfiguration\", y=None, hue=\"damagegrade\", multiple='dodge', stat='count')\n",
    "\n",
    "plt.show()"
   ]
  },
  {
   "cell_type": "code",
   "execution_count": null,
   "metadata": {},
   "outputs": [],
   "source": [
    "# Stacked Histogram\n",
    "\n",
    "fig, ax = plt.subplots(figsize=(12,8))\n",
    "\n",
    "sns.histplot(data=df, x=\"legalownershipstatus\", y=None, hue=\"damagegrade\", multiple='dodge', stat='count')\n",
    "\n",
    "plt.show()"
   ]
  },
  {
   "cell_type": "code",
   "execution_count": null,
   "metadata": {
    "scrolled": false
   },
   "outputs": [],
   "source": [
    "sns.catplot(x=\"landsurfacecondition\", y=\"damagegrade\", hue=None, data=df, row=None, col=None,\n",
    "    col_wrap=None, estimator=\"mean\", ci=95, kind='swarm', height=5, aspect=3)\n",
    "\n",
    "plt.show()"
   ]
  },
  {
   "cell_type": "code",
   "execution_count": null,
   "metadata": {},
   "outputs": [],
   "source": [
    "sns.barplot(x=\"label\", y=\"drivenkmdrives\", hue=None, data=df, estimator=\"mean\", ci=95)\n",
    "\n",
    "plt.show()"
   ]
  },
  {
   "cell_type": "code",
   "execution_count": null,
   "metadata": {},
   "outputs": [],
   "source": [
    "sns.barplot(x=horizontal_label,\n",
    "            y=first_dimension,\n",
    "            hue=second_dimension,\n",
    "            data=df.groupby([first_dimension, second_dimension]).size().to_frame(horizontal_label).reset_index())"
   ]
  },
  {
   "cell_type": "code",
   "execution_count": null,
   "metadata": {
    "scrolled": false
   },
   "outputs": [],
   "source": [
    "sns.pairplot(data=df, \n",
    "             height=5, aspect=1, kind=\"reg\",\n",
    "             #x_vars=['extra','mtatax','tollsamount','improvementsurcharge'],\n",
    "             y_vars=[\"calories\"]\n",
    "            \n",
    "            )\n",
    "\n",
    "plt.show()"
   ]
  },
  {
   "cell_type": "code",
   "execution_count": null,
   "metadata": {},
   "outputs": [],
   "source": [
    "fig, ax = plt.subplots(figsize=(12,8))\n",
    "\n",
    "sns.scatterplot(x=\"NumberChildrenAtHome\", y=\"YearlyIncome\", hue=\"BikeBuyer\", data=df, \n",
    "            size=\"Gender\", ci=95)\n",
    "\n",
    "plt.show()"
   ]
  },
  {
   "cell_type": "code",
   "execution_count": null,
   "metadata": {},
   "outputs": [],
   "source": [
    "sns.relplot(x=\"NumberChildrenAtHome\", y=\"YearlyIncome\", hue=\"BikeBuyer\", data=df, kind='scatter',\n",
    "            row=None, col=None, col_wrap=None, height=4, aspect=3)\n",
    "\n",
    "plt.show()"
   ]
  },
  {
   "cell_type": "code",
   "execution_count": null,
   "metadata": {},
   "outputs": [],
   "source": [
    "fig, ax = plt.subplots(figsize=(12,8))\n",
    "\n",
    "sns.lineplot(x=\"NumberChildrenAtHome\", y=\"NumberCarsOwned\", hue=\"HomeOwnerFlag\", size=None, style=None, data=df,\n",
    "            estimator='mean', ci=95)\n",
    "\n",
    "plt.show()"
   ]
  },
  {
   "cell_type": "code",
   "execution_count": null,
   "metadata": {},
   "outputs": [],
   "source": [
    "sns.catplot(x=\"CountryRegionName\", y=\"NumberCarsOwned\", hue=None, data=df, row=None, col=None,\n",
    "    col_wrap=None, estimator=\"mean\", ci=95, kind='strip', height=4, aspect=3)\n",
    "\n",
    "plt.show()"
   ]
  },
  {
   "cell_type": "code",
   "execution_count": null,
   "metadata": {},
   "outputs": [],
   "source": [
    "fig, ax = plt.subplots(figsize=(12,8))\n",
    "\n",
    "sns.countplot(x=\"verifiedstatus\", y=None, hue=None, data=df)\n",
    "plt.show()"
   ]
  },
  {
   "cell_type": "code",
   "execution_count": null,
   "metadata": {},
   "outputs": [],
   "source": [
    "fig, ax = plt.subplots(figsize=(12,8))\n",
    "\n",
    "sns.violinplot(x=\"age\", y=None, hue=None, data=df, split=True)\n",
    "plt.show()"
   ]
  },
  {
   "cell_type": "code",
   "execution_count": null,
   "metadata": {},
   "outputs": [],
   "source": [
    "fig, ax = plt.subplots(figsize=(12,8))\n",
    "sns.kdeplot(x=\"income\", y=None, shade=True, vertical=False, kernel=None, data=df)\n",
    "\n",
    "plt.show()"
   ]
  },
  {
   "cell_type": "code",
   "execution_count": null,
   "metadata": {},
   "outputs": [],
   "source": [
    "sns.lmplot(x=None, y=None, data=None, hue=None, col=None, row=None, col_wrap=None,\n",
    "    height=5, aspect=1)\n",
    "\n",
    "plt.show()"
   ]
  },
  {
   "cell_type": "code",
   "execution_count": null,
   "metadata": {},
   "outputs": [],
   "source": [
    "sns.jointplot(x=None, y=None, data=None, kind='scatter', color=None, height=6, ratio=5, hue=None)\n",
    "\n",
    "plt.show()"
   ]
  },
  {
   "cell_type": "code",
   "execution_count": null,
   "metadata": {},
   "outputs": [],
   "source": [
    "sns.jointplot(x=\"landsurfacecondition\", y=\"damagegrade\", data=df, kind='hist', color=None, height=6, ratio=5, hue=None)\n",
    "\n",
    "plt.show()"
   ]
  },
  {
   "cell_type": "code",
   "execution_count": null,
   "metadata": {},
   "outputs": [],
   "source": [
    "fig, ax = plt.subplots(figsize=(12,8))\n",
    "\n",
    "\n",
    "plt.show()"
   ]
  },
  {
   "cell_type": "code",
   "execution_count": null,
   "metadata": {},
   "outputs": [],
   "source": [
    "g = sns.FacetGrid(data=df, row=None, col=\"damagegrade\", hue=None, col_wrap=None,  sharex=True,  sharey=True,\n",
    "              height=5, aspect=1)\n",
    "\n",
    "g.map(sns.histplot, \"countfloorspreeq\")\n",
    "\n",
    "plt.show()"
   ]
  },
  {
   "cell_type": "code",
   "execution_count": null,
   "metadata": {},
   "outputs": [],
   "source": [
    "g = sns.FacetGrid(data=df, row=None, col=\"damagegrade\", hue=None, col_wrap=None,  sharex=True,  sharey=True,\n",
    "              height=5, aspect=1)\n",
    "\n",
    "g.map(sns.histplot, \"area\")\n",
    "\n",
    "plt.show()"
   ]
  },
  {
   "cell_type": "markdown",
   "metadata": {},
   "source": [
    "**==============================================================================================================**"
   ]
  },
  {
   "cell_type": "markdown",
   "metadata": {},
   "source": [
    "# Feature Engineering\n",
    "\n",
    "  * **Feature selection**\n",
    "    * Removing uninformative features\n",
    "  * **Feature extraction**\n",
    "    * Creating new features from existing features\n",
    "  * **Feature transformation**\n",
    "    * Modifying existing features to better suit our objectives\n",
    "    * Encoding of categorical features as dummies\n",
    " \n",
    "When modeling, best practice is to perform a rigorous examination of your data before beginning feature engineering and feature selection. This process is important. Not only does it help you understand your data, what it's telling you, and what it's _not_ telling you, but it also can give you clues that help you create new features. "
   ]
  },
  {
   "cell_type": "markdown",
   "metadata": {},
   "source": [
    "### Drop unwanted features (Based on Domain Knowledge)"
   ]
  },
  {
   "cell_type": "code",
   "execution_count": null,
   "metadata": {},
   "outputs": [],
   "source": [
    "df.head(1)"
   ]
  },
  {
   "cell_type": "code",
   "execution_count": null,
   "metadata": {},
   "outputs": [],
   "source": [
    "df.columns"
   ]
  },
  {
   "cell_type": "code",
   "execution_count": null,
   "metadata": {},
   "outputs": [],
   "source": [
    "df.drop(['zipcodestart', 'zipcodeend', 'neighborhoodstart', 'neighborhoodend'], axis=1, inplace=True)"
   ]
  },
  {
   "cell_type": "code",
   "execution_count": null,
   "metadata": {},
   "outputs": [],
   "source": [
    "df.head()"
   ]
  },
  {
   "cell_type": "code",
   "execution_count": null,
   "metadata": {},
   "outputs": [],
   "source": [
    "df.tail()"
   ]
  },
  {
   "cell_type": "code",
   "execution_count": null,
   "metadata": {},
   "outputs": [],
   "source": [
    "#df.to_csv(\"cyclistic.csv\", index=False)"
   ]
  },
  {
   "cell_type": "markdown",
   "metadata": {},
   "source": [
    "### Reducing features after performing selection"
   ]
  },
  {
   "cell_type": "code",
   "execution_count": null,
   "metadata": {},
   "outputs": [],
   "source": [
    "df.head()"
   ]
  },
  {
   "cell_type": "code",
   "execution_count": null,
   "metadata": {},
   "outputs": [],
   "source": [
    "df2 = df[['lotarea']]"
   ]
  },
  {
   "cell_type": "code",
   "execution_count": null,
   "metadata": {},
   "outputs": [],
   "source": [
    "df2"
   ]
  },
  {
   "cell_type": "code",
   "execution_count": null,
   "metadata": {},
   "outputs": [],
   "source": [
    "df2.to_csv(\"ameshousingmod.csv\", index=False)"
   ]
  },
  {
   "cell_type": "markdown",
   "metadata": {},
   "source": [
    "**==============================================================================================================**"
   ]
  },
  {
   "cell_type": "markdown",
   "metadata": {},
   "source": [
    "## Rename columns"
   ]
  },
  {
   "cell_type": "code",
   "execution_count": null,
   "metadata": {},
   "outputs": [],
   "source": [
    "df.columns"
   ]
  },
  {
   "cell_type": "code",
   "execution_count": null,
   "metadata": {},
   "outputs": [],
   "source": [
    "df = df.rename(columns =  {'species_Bream': 'bream',\n",
    "                           'species_Rare': 'rare'\n",
    "                          })"
   ]
  },
  {
   "cell_type": "code",
   "execution_count": null,
   "metadata": {},
   "outputs": [],
   "source": [
    "# Rename columns as needed\n",
    " \n",
    "df = df.rename(columns =  {'countryregionname': 'country',\n",
    "                          'homeownerflag': 'homeowner',\n",
    "                          'numbercarsowned': 'cars',\n",
    "                          'numberchildrenathome':'child',\n",
    "                          'avemonthspend': 'spend'\n",
    "                          })\n",
    "\n",
    "# Display all column names after the update\n",
    "### YOUR CODE HERE ### \n",
    "df.columns"
   ]
  },
  {
   "cell_type": "code",
   "execution_count": null,
   "metadata": {},
   "outputs": [],
   "source": [
    "#Method 3: Using a new list of column names\n",
    "\n",
    "# Creating a list of new columns\n",
    "df_cols = ['RankSeason', 'RankPlayoffs', 'OOBP', 'OSLG', \n",
    "           'MIRankSeason', 'MIRankPlayoffs', \n",
    "           'MIOOBP', 'MIOSLG', 'Team', 'League', 'Year', \n",
    "           'RS', 'RA', 'W', 'OBP', 'SLG', 'BA', 'Playoffs', 'G'\n",
    "          ]\n",
    "\n",
    "# printing the columns\n",
    "# before renaming\n",
    "print(df2.columns)\n",
    "\n",
    "# Renaming the columns\n",
    "df2.columns = df_cols\n",
    "\n",
    "# printing the columns\n",
    "# after renaming\n",
    "print(df2.columns)\n"
   ]
  },
  {
   "cell_type": "code",
   "execution_count": null,
   "metadata": {},
   "outputs": [],
   "source": [
    "# make all column headers in pandas data frame lower case\n",
    "\n",
    "df.columns = map(str.lower, df.columns)"
   ]
  },
  {
   "cell_type": "code",
   "execution_count": null,
   "metadata": {},
   "outputs": [],
   "source": [
    "df.columns"
   ]
  },
  {
   "cell_type": "code",
   "execution_count": null,
   "metadata": {},
   "outputs": [],
   "source": [
    "train.columns = map(str.lower, train.columns)"
   ]
  },
  {
   "cell_type": "code",
   "execution_count": null,
   "metadata": {},
   "outputs": [],
   "source": [
    "train.columns"
   ]
  },
  {
   "cell_type": "code",
   "execution_count": null,
   "metadata": {},
   "outputs": [],
   "source": [
    "test.columns = map(str.lower, test.columns)"
   ]
  },
  {
   "cell_type": "code",
   "execution_count": null,
   "metadata": {},
   "outputs": [],
   "source": [
    "test.columns"
   ]
  },
  {
   "cell_type": "code",
   "execution_count": null,
   "metadata": {},
   "outputs": [],
   "source": [
    "# remove special character\n",
    "df.columns = df.columns.str.replace(' ', '')"
   ]
  },
  {
   "cell_type": "code",
   "execution_count": null,
   "metadata": {},
   "outputs": [],
   "source": [
    "# remove special character\n",
    "df.columns = df.columns.str.replace('_', '')"
   ]
  },
  {
   "cell_type": "code",
   "execution_count": null,
   "metadata": {},
   "outputs": [],
   "source": [
    "# remove special character\n",
    "df.columns = df.columns.str.replace('-', '')"
   ]
  },
  {
   "cell_type": "code",
   "execution_count": null,
   "metadata": {},
   "outputs": [],
   "source": [
    "# remove special character\n",
    "df.columns = df.columns.str.replace('.', '')"
   ]
  },
  {
   "cell_type": "code",
   "execution_count": null,
   "metadata": {},
   "outputs": [],
   "source": [
    "df.head()"
   ]
  },
  {
   "cell_type": "code",
   "execution_count": null,
   "metadata": {},
   "outputs": [],
   "source": [
    "#train.to_csv(\"train.csv\", index=False)"
   ]
  },
  {
   "cell_type": "code",
   "execution_count": null,
   "metadata": {},
   "outputs": [],
   "source": [
    "#test.to_csv(\"test.csv\", index=False)"
   ]
  },
  {
   "cell_type": "markdown",
   "metadata": {},
   "source": [
    "**==============================================================================================================**"
   ]
  },
  {
   "cell_type": "markdown",
   "metadata": {},
   "source": [
    "## Rearrange columns"
   ]
  },
  {
   "cell_type": "code",
   "execution_count": null,
   "metadata": {},
   "outputs": [],
   "source": [
    "df.columns"
   ]
  },
  {
   "cell_type": "code",
   "execution_count": null,
   "metadata": {},
   "outputs": [],
   "source": [
    "df.head()"
   ]
  },
  {
   "cell_type": "code",
   "execution_count": null,
   "metadata": {},
   "outputs": [],
   "source": [
    "df.describe()"
   ]
  },
  {
   "cell_type": "code",
   "execution_count": null,
   "metadata": {},
   "outputs": [],
   "source": [
    "df.shape"
   ]
  },
  {
   "cell_type": "code",
   "execution_count": null,
   "metadata": {},
   "outputs": [],
   "source": [
    "cols = ['id', 'limitbal', 'gender', 'educ', 'marital', 'age', 'medianpay', 'medianbillamt', 'medianpayamt', 'default'\n",
    "        ]"
   ]
  },
  {
   "cell_type": "code",
   "execution_count": null,
   "metadata": {},
   "outputs": [],
   "source": [
    "df = df[cols]"
   ]
  },
  {
   "cell_type": "code",
   "execution_count": null,
   "metadata": {},
   "outputs": [],
   "source": [
    "df.head()"
   ]
  },
  {
   "cell_type": "code",
   "execution_count": null,
   "metadata": {},
   "outputs": [],
   "source": [
    "#df.to_csv(\"creditcard.csv\", index=False)"
   ]
  },
  {
   "cell_type": "markdown",
   "metadata": {},
   "source": [
    "**==============================================================================================================**"
   ]
  },
  {
   "cell_type": "markdown",
   "metadata": {},
   "source": [
    "## Treat Duplicate Values"
   ]
  },
  {
   "cell_type": "code",
   "execution_count": null,
   "metadata": {},
   "outputs": [],
   "source": [
    "df.duplicated(keep='first').sum()"
   ]
  },
  {
   "cell_type": "code",
   "execution_count": null,
   "metadata": {},
   "outputs": [],
   "source": [
    "#identify duplicate rows\n",
    "duplicateRows = df[df.duplicated(keep='last')]"
   ]
  },
  {
   "cell_type": "code",
   "execution_count": null,
   "metadata": {},
   "outputs": [],
   "source": [
    "duplicateRows"
   ]
  },
  {
   "cell_type": "code",
   "execution_count": null,
   "metadata": {},
   "outputs": [],
   "source": [
    "df.drop_duplicates(ignore_index=True, inplace=True)"
   ]
  },
  {
   "cell_type": "code",
   "execution_count": null,
   "metadata": {},
   "outputs": [],
   "source": [
    "df"
   ]
  },
  {
   "cell_type": "code",
   "execution_count": null,
   "metadata": {},
   "outputs": [],
   "source": [
    "#df.to_csv(\"Pokemon.csv\", index=False)"
   ]
  },
  {
   "cell_type": "markdown",
   "metadata": {},
   "source": [
    "**==============================================================================================================**"
   ]
  },
  {
   "cell_type": "markdown",
   "metadata": {},
   "source": [
    "## Label Encoding\n",
    "\n",
    "Label Encoding is a popular encoding technique for handling categorical variables. In this technique, each label is assigned a unique integer based on alphabetical ordering."
   ]
  },
  {
   "cell_type": "markdown",
   "metadata": {},
   "source": [
    "label_encoder object knows how to understand word labels. \n",
    "\n",
    "`label_encoder = LabelEncoder()`\n",
    "\n",
    "Encode labels in column 'Country'. \n",
    "\n",
    "`df['Timely'] = label_encoder.fit_transform(df['Timely'])` \n"
   ]
  },
  {
   "cell_type": "markdown",
   "metadata": {},
   "source": [
    "**==============================================================================================================**"
   ]
  },
  {
   "cell_type": "markdown",
   "metadata": {},
   "source": [
    "# Feature Engineering"
   ]
  },
  {
   "cell_type": "markdown",
   "metadata": {},
   "source": [
    "## Combine features with functions"
   ]
  },
  {
   "cell_type": "code",
   "execution_count": null,
   "metadata": {},
   "outputs": [],
   "source": [
    "df.head()"
   ]
  },
  {
   "cell_type": "code",
   "execution_count": null,
   "metadata": {},
   "outputs": [],
   "source": [
    "df.columns"
   ]
  },
  {
   "cell_type": "code",
   "execution_count": null,
   "metadata": {},
   "outputs": [],
   "source": [
    "# make a list with the features we want to combine\n",
    "\n",
    "features = ['payamt1', 'payamt2', 'payamt3', 'payamt4', 'payamt5', 'payamt6'\n",
    "     \n",
    "]"
   ]
  },
  {
   "cell_type": "code",
   "execution_count": null,
   "metadata": {},
   "outputs": [],
   "source": [
    "df[features].head()"
   ]
  },
  {
   "cell_type": "code",
   "execution_count": null,
   "metadata": {},
   "outputs": [],
   "source": [
    "# list with functions to apply for combinations\n",
    "\n",
    "math_func = [\"sum\", \"prod\", \"mean\", \"median\", \"std\", \"max\", \"min\", \"count\"]"
   ]
  },
  {
   "cell_type": "code",
   "execution_count": null,
   "metadata": {},
   "outputs": [],
   "source": [
    "math_func = [\"median\"]"
   ]
  },
  {
   "cell_type": "code",
   "execution_count": null,
   "metadata": {},
   "outputs": [],
   "source": [
    "# name of new features\n",
    "\n",
    "new_feature_names = [\"sum_f\", \"prod_f\", \"mean_f\", \"median_f\", \"std_f\", \"max_f\", \"min_f\", \"count_f\"]"
   ]
  },
  {
   "cell_type": "code",
   "execution_count": null,
   "metadata": {},
   "outputs": [],
   "source": [
    "new_feature_names = [\"medianpay\"]"
   ]
  },
  {
   "cell_type": "code",
   "execution_count": null,
   "metadata": {},
   "outputs": [],
   "source": [
    "# automate feature combination with Feature-engine\n",
    "\n",
    "create = MathFeatures(\n",
    "    variables=features,\n",
    "    func=math_func,\n",
    "    new_variables_names=new_feature_names,\n",
    ")"
   ]
  },
  {
   "cell_type": "code",
   "execution_count": null,
   "metadata": {},
   "outputs": [],
   "source": [
    "create"
   ]
  },
  {
   "cell_type": "code",
   "execution_count": null,
   "metadata": {},
   "outputs": [],
   "source": [
    "create = MathFeatures(variables=features, func=\"median\", new_variables_names=[\"medianpayamt\"], drop_original=True)"
   ]
  },
  {
   "cell_type": "code",
   "execution_count": null,
   "metadata": {},
   "outputs": [],
   "source": [
    "# combine features\n",
    "\n",
    "df2 = create.fit_transform(df)"
   ]
  },
  {
   "cell_type": "code",
   "execution_count": null,
   "metadata": {},
   "outputs": [],
   "source": [
    "df2"
   ]
  },
  {
   "cell_type": "code",
   "execution_count": null,
   "metadata": {},
   "outputs": [],
   "source": [
    "#df2.to_csv(\"creditcard.csv\", index=False)"
   ]
  },
  {
   "cell_type": "markdown",
   "metadata": {},
   "source": [
    "**==============================================================================================================**"
   ]
  },
  {
   "cell_type": "markdown",
   "metadata": {},
   "source": [
    "## Polynomial Features Transformation"
   ]
  },
  {
   "cell_type": "code",
   "execution_count": null,
   "metadata": {},
   "outputs": [],
   "source": [
    "pr = PolynomialFeatures(degree=2, interaction_only=True, include_bias=False)\n",
    "pr"
   ]
  },
  {
   "cell_type": "code",
   "execution_count": null,
   "metadata": {},
   "outputs": [],
   "source": [
    "pr = PolynomialFeatures(degree=2)\n",
    "x_train_pr = pr.fit_transform(x_train[['horsepower']])\n",
    "x_test_pr = pr.fit_transform(x_test[['horsepower']])\n",
    "pr"
   ]
  },
  {
   "cell_type": "code",
   "execution_count": null,
   "metadata": {},
   "outputs": [],
   "source": [
    "X_poly = pr.fit_transform(X)"
   ]
  },
  {
   "cell_type": "code",
   "execution_count": null,
   "metadata": {},
   "outputs": [],
   "source": [
    "X_poly"
   ]
  },
  {
   "cell_type": "code",
   "execution_count": null,
   "metadata": {},
   "outputs": [],
   "source": [
    "X_poly.shape"
   ]
  },
  {
   "cell_type": "markdown",
   "metadata": {},
   "source": [
    "**==============================================================================================================**"
   ]
  },
  {
   "cell_type": "markdown",
   "metadata": {},
   "source": [
    "#### Python code done by Dennis Lam"
   ]
  }
 ],
 "metadata": {
  "kernelspec": {
   "display_name": "Python 3 (ipykernel)",
   "language": "python",
   "name": "python3"
  },
  "language_info": {
   "codemirror_mode": {
    "name": "ipython",
    "version": 3
   },
   "file_extension": ".py",
   "mimetype": "text/x-python",
   "name": "python",
   "nbconvert_exporter": "python",
   "pygments_lexer": "ipython3",
   "version": "3.9.12"
  }
 },
 "nbformat": 4,
 "nbformat_minor": 4
}
